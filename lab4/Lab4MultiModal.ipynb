{
 "cells": [
  {
   "cell_type": "markdown",
   "id": "357578c4-aeef-4ab7-a7eb-c05450500d79",
   "metadata": {},
   "source": [
    "# Лабораторная работа 4 \"Мультимодальные данные\""
   ]
  },
  {
   "cell_type": "markdown",
   "id": "f0e45c44-c61d-451d-83ef-6a9fa6773fb3",
   "metadata": {},
   "source": [
    "## Постановка задачи"
   ]
  },
  {
   "cell_type": "markdown",
   "id": "4c62f345-ff2a-48d2-98bd-22287f0b46a0",
   "metadata": {},
   "source": [
    "Собрать и разметить мультимодальные данные (например, текст, звук, изображения) и разработать стратегию их интеграции для решения задачи машинного обучения.\r\n",
    "\r\n",
    "- Соберите/доберите или найдите готовый датасет, чтобы дополнить ваш проект до мультимодальности\r\n",
    "- Разметьте мультимодальные данные и сделайте связку данных, если она еще не сделана (т.е сформируйте мультимодальный датасет)\r\n",
    "- Опишите принцип связки мультимодельных данных\r\n",
    "- Проведите предварительную обработку данных (например, очистка текста, нормализация изображений).\r\n",
    "- Сделайте EDA для этих данных\r\n",
    "- Опишите возможные кейсы использования полученных мультимодальных данных. (где их можно использовать/какую модель построить и тд)ь и тд)"
   ]
  },
  {
   "cell_type": "markdown",
   "id": "1ca94764-c653-45b0-8ba9-f4724662f4f4",
   "metadata": {},
   "source": [
    "## Описание датасета"
   ]
  },
  {
   "cell_type": "markdown",
   "id": "46e19f8c-5043-451a-ad18-7f5843030e16",
   "metadata": {},
   "source": [
    "**Идея:**\n",
    "\n",
    "Получить данные о продуктах и ценах на них в разных магазинах, для возможности поиска наиболее выгодных предложений.\n",
    "Также предполагается извлечение дополнительных признаков из описания товаров и поддержка гибкого добавления новых источников (магазинов).\n",
    "\n",
    "**Реализация:** \n",
    "\n",
    "Используется датасет из ЛР1 со скрапингом товаров в категории Сыр с сайтов магазинов Магнита и Пятерочки. В качестве мультимодальных данных выбраны изображения упаковок сыра. Они скачиваются с сайтов. Затем сохраняется табличка, содержащая соответствие названия товара, магазина, полного пути к изображению, эмбеддинга изображения и поля разметки - уровня привлекательности упаковки.\n",
    "\n",
    "Стоит сразу заметить, что оценка уровня привлекательности упаковки - крайне субъективна. Для машинного обучения можно использовать как ее, так и эмбеддинг изображения, для предказания цены на товар.\n",
    "\n",
    "Данные затем интегрируются по наименованию товара."
   ]
  },
  {
   "cell_type": "markdown",
   "id": "74feaac7-0fcc-4196-9a0c-520eccf05a27",
   "metadata": {},
   "source": [
    "## Импорт библиотек"
   ]
  },
  {
   "cell_type": "code",
   "execution_count": 7,
   "id": "5126b848-4253-40b0-a235-a181536c0e44",
   "metadata": {},
   "outputs": [],
   "source": [
    "!pip install -q selenium psycopg2 matplotlib seaborn polars torchvision"
   ]
  },
  {
   "cell_type": "code",
   "execution_count": 102,
   "id": "6d4808ed-5231-4888-9781-b91b2fb9be74",
   "metadata": {},
   "outputs": [],
   "source": [
    "from sqlalchemy import create_engine, Column, Float, String, Date, Boolean, Integer, LargeBinary\n",
    "from sqlalchemy.ext.declarative import declarative_base\n",
    "from sqlalchemy.orm import sessionmaker\n",
    "\n",
    "from selenium.webdriver.chrome.service import Service\n",
    "from selenium import webdriver\n",
    "from typing import Optional, Tuple, Dict\n",
    "\n",
    "import torchvision.transforms as transforms\n",
    "\n",
    "from abc import ABC, abstractmethod\n",
    "import matplotlib.pyplot as plt\n",
    "from bs4 import BeautifulSoup\n",
    "from rapidfuzz import fuzz\n",
    "from datetime import date\n",
    "from io import BytesIO\n",
    "import seaborn as sns\n",
    "from PIL import Image\n",
    "import pandas as pd\n",
    "import polars as pl\n",
    "import numpy as np\n",
    "import requests\n",
    "import random\n",
    "import time\n",
    "import csv\n",
    "import os\n",
    "import re"
   ]
  },
  {
   "cell_type": "markdown",
   "id": "c1aad84a-a684-481a-af99-115b932b9be0",
   "metadata": {},
   "source": [
    "## Конфигурация подключения к базе данных"
   ]
  },
  {
   "cell_type": "code",
   "execution_count": 10,
   "id": "4921c33c-68ec-4056-a45c-e633953abf57",
   "metadata": {},
   "outputs": [
    {
     "name": "stderr",
     "output_type": "stream",
     "text": [
      "C:\\Users\\admin\\AppData\\Local\\Temp\\ipykernel_8872\\988954521.py:1: MovedIn20Warning: The ``declarative_base()`` function is now available as sqlalchemy.orm.declarative_base(). (deprecated since: 2.0) (Background on SQLAlchemy 2.0 at: https://sqlalche.me/e/b8d9)\n",
      "  Base = declarative_base()\n"
     ]
    }
   ],
   "source": [
    "Base = declarative_base()\n",
    "\n",
    "DATABASE_URL = \"postgresql+psycopg2://{username}:{password}@{host}:{port}/{db_name}\".format(\n",
    "    host=os.getenv(\"POSTGRES_HOST\", \"localhost\"),\n",
    "    port=os.getenv(\"POSTGRES_PORT\", \"5432\"),\n",
    "    db_name=os.getenv(\"POSTGRES_DB\", \"store_parser\"),\n",
    "    username=os.getenv(\"POSTGRES_USER\", \"postgres\"),\n",
    "    password=os.getenv(\"POSTGRES_PASSWORD\", \"123456\"),\n",
    "\n",
    ")\n",
    "\n",
    "def init_db():\n",
    "    engine = create_engine(DATABASE_URL)\n",
    "    Base.metadata.create_all(engine)\n",
    "    Session = sessionmaker(bind=engine)\n",
    "    return Session()"
   ]
  },
  {
   "cell_type": "markdown",
   "id": "8a9d9e2e-3bc6-4c0f-91f9-2cccc7029935",
   "metadata": {},
   "source": [
    "## Класс, соответствующий структуре таблицы в БД"
   ]
  },
  {
   "cell_type": "code",
   "execution_count": 82,
   "id": "53ebea59-c460-4752-892f-c07678ecdfa4",
   "metadata": {},
   "outputs": [
    {
     "name": "stderr",
     "output_type": "stream",
     "text": [
      "C:\\Users\\admin\\AppData\\Local\\Temp\\ipykernel_8872\\4083865053.py:1: SAWarning: This declarative base already contains a class with the same class name and module name as __main__.ProductImg, and will be replaced in the string-lookup table.\n",
      "  class ProductImg(Base):\n"
     ]
    }
   ],
   "source": [
    "class ProductImg(Base):\n",
    "    __tablename__ = 'store_products_images'\n",
    "\n",
    "    name          = Column(String, nullable=False, primary_key=True)\n",
    "    img_local_url = Column(String)\n",
    "    img_embedding = Column(LargeBinary)\n",
    "    store         = Column(String, nullable=False, primary_key=True)\n",
    "\n",
    "    __table_args__ = {'extend_existing': True}\n",
    "\n",
    "    def __repr__(self):\n",
    "        return f\"<Product(name='{self.name}', price={self.price}, date_added={self.date_added}, store={self.store})>\""
   ]
  },
  {
   "cell_type": "markdown",
   "id": "fc4281b0-0967-4d6d-afa9-b97fd3c3b1b9",
   "metadata": {},
   "source": [
    "## Абстрактный класс конфигураций скрапера магазина"
   ]
  },
  {
   "cell_type": "code",
   "execution_count": 14,
   "id": "e922ebf1-ee72-4fa8-8085-a12380613c0b",
   "metadata": {},
   "outputs": [],
   "source": [
    "class StoreImgScraper(ABC):\n",
    "    def __init__(self):\n",
    "        self.store_name = \"\"\n",
    "        self.base_url = \"\"\n",
    "        self.auth_url = None\n",
    "        self.product_selector = \"\"\n",
    "        self.name_selector = \"\"\n",
    "        self.page_param = \"\"\n",
    "        self.image_selector = \"\"  \n",
    "\n",
    "    def get_url(self, page: int) -> str:\n",
    "        return f\"{self.base_url}{self.page_param}{page}\"\n",
    "        "
   ]
  },
  {
   "cell_type": "markdown",
   "id": "42cd8481-dc86-4303-82b1-8edd117baaf1",
   "metadata": {},
   "source": [
    "## Конфигурации для скрапинга Пятерочки"
   ]
  },
  {
   "cell_type": "code",
   "execution_count": 16,
   "id": "82a12a46-9fb0-439d-b485-08f8f8a897a3",
   "metadata": {},
   "outputs": [],
   "source": [
    "class PyaterochkaScraper(StoreImgScraper):\n",
    "    def __init__(self):\n",
    "        super().__init__()\n",
    "        self.store_name = \"Пятерочка\"\n",
    "        self.base_url = \"https://5ka.ru/catalog/syr--251C13095/\"\n",
    "        self.product_selector = lambda tag: tag.get('data-qa', '') and re.compile(r'product-card-\\d+$').match(tag.get('data-qa', ''))\n",
    "        self.name_selector = '.chakra-text.SdLEFc2B-.css-1jdqp4k'\n",
    "        self.image_selector = 'div.rJ4RnZvZ-' \n",
    "        self.page_param = \"?page=\"\n",
    "        self.headers = {\n",
    "            \"Accept\": \"*/*\",\n",
    "            \"Accept-Encoding\": \"gzip, deflate, br, zstd\",\n",
    "            \"Accept-Language\": \"ru,en;q=0.9\",\n",
    "            \"Cache-Control\": \"no-cache\",\n",
    "            \"Connection\": \"keep-alive\",\n",
    "            \"Host\": \"id.x5.ru\",\n",
    "            \"Pragma\": \"no-cache\",\n",
    "            \"Sec-Fetch-Dest\": \"empty\",\n",
    "            \"Sec-Fetch-Mode\": \"cors\",\n",
    "            \"Sec-Fetch-Site\": \"same-origin\",\n",
    "            \"User-Agent\": \"Mozilla/5.0 (Windows NT 10.0; Win64; x64) AppleWebKit/537.36 (KHTML, like Gecko) Chrome/132.0.0.0 Safari/537.36\",\n",
    "            \"sec-ch-ua\": '\"Not A(Brand\";v=\"8\", \"Chromium\";v=\"132\"',\n",
    "            \"sec-ch-ua-mobile\": \"?0\",\n",
    "            \"sec-ch-ua-platform\": '\"Windows\"'\n",
    "        }\n"
   ]
  },
  {
   "cell_type": "markdown",
   "id": "1fafeb9d-7b50-4246-a591-262eeaeccd6e",
   "metadata": {},
   "source": [
    "## Конфигурации скрапера Магнита"
   ]
  },
  {
   "cell_type": "code",
   "execution_count": 18,
   "id": "470083ab-7a73-4459-8a40-1d7f32d29a25",
   "metadata": {},
   "outputs": [],
   "source": [
    "class MagnitScraper(StoreImgScraper):\n",
    "    def __init__(self):\n",
    "        super().__init__()\n",
    "        self.store_name = \"Магнит\"\n",
    "        self.base_url = \"https://magnit.ru/catalog/37741-syry_mm?shopCode=161924&shopType=1&page=\"\n",
    "        self.product_selector = '.unit-catalog-product-preview'\n",
    "        self.name_selector = '.unit-catalog-product-preview-title'\n",
    "        self.image_selector = '.unit-catalog-product-preview-image img' \n",
    "        self.page_param = \"\"\n",
    "        self.headers = {\n",
    "            \"User-Agent\": \"Mozilla/5.0 (Windows NT 10.0; Win64; x64) AppleWebKit/537.36 (KHTML, like Gecko) Chrome/122.0.0.0 Safari/537.36\",\n",
    "            \"Content-Type\": \"application/x-www-form-urlencoded\",\n",
    "        }\n",
    "        self.data = {\n",
    "            \"element\": \"CityStore\",\n",
    "            \"block\": \"toolBar\",\n",
    "            \"city\": \"Санкт-Петербург г\",\n",
    "            \"store_id\": \"161924\",\n",
    "        }"
   ]
  },
  {
   "cell_type": "markdown",
   "id": "138f83ce-17d7-47dd-a161-2ae98c3f7096",
   "metadata": {},
   "source": [
    "## Реализация обращения к сайтам и сбора данных"
   ]
  },
  {
   "cell_type": "code",
   "execution_count": 20,
   "id": "3f62d221-ba2a-4fa6-8692-22f78ee0bf9d",
   "metadata": {},
   "outputs": [],
   "source": [
    "class ProductImgScraper:\n",
    "    def __init__(self, store_scraper):\n",
    "        self.store = store_scraper\n",
    "        self.driver = self._setup_driver()\n",
    "        self.csv_filename = f\"{self.store.store_name}_img_products.csv\"\n",
    "\n",
    "    def _setup_driver(self):\n",
    "        options = webdriver.ChromeOptions()\n",
    "        options.add_argument(\"--headless\")\n",
    "        options.add_argument(\"--no-sandbox\")\n",
    "        options.add_argument(\"--disable-dev-shm-usage\")\n",
    "        options.add_argument(f\"user-agent={self.store.headers['User-Agent']}\")\n",
    "        service = Service(executable_path=\"C:/Users/admin/Downloads/chromedriver-win64/chromedriver-win64/chromedriver.exe\")\n",
    "        return webdriver.Chrome(service=service, options=options)\n",
    "\n",
    "    def _setup_magnit_store(self):\n",
    "        \"\"\"Настройка города и магазина для Магнита\"\"\"\n",
    "        if isinstance(self.store, MagnitScraper):\n",
    "            print(\"Настраиваем город и магазин для Магнита...\")\n",
    "            self.driver.get(\"https://magnit.ru/\")\n",
    "            time.sleep(2)\n",
    "\n",
    "            # Устанавливаем cookies вручную для выбора магазина\n",
    "            self.driver.add_cookie({\"name\": \"store_id\", \"value\": \"161924\"})\n",
    "            self.driver.add_cookie({\"name\": \"city\", \"value\": \"Санкт-Петербург г\"})\n",
    "\n",
    "            self.driver.refresh()\n",
    "            time.sleep(1)\n",
    "\n",
    "    def download_image(self, product_element: BeautifulSoup) -> str:\n",
    "        \"\"\"\n",
    "        Скачивает изображение для конкретного продукта.\n",
    "        Извлекает src и alt из HTML-элемента продукта.\n",
    "        \"\"\"\n",
    "        base_dir = os.getcwd() \n",
    "        \n",
    "        img_element = product_element.select_one(self.store.image_selector)\n",
    "        \n",
    "        if not img_element:\n",
    "            return \"\"\n",
    "\n",
    "        # Извлечение URL в зависимости от типа элемента\n",
    "        if img_element.name == \"img\":\n",
    "            image_url = img_element['src']\n",
    "        else:  # Для Пятерочки (div с background-image)\n",
    "            style = img_element.get('style', '')\n",
    "            match = re.search(r'url\\([\"\\']([^\"\\'\\?]+)', style)\n",
    "            image_url = match.group(1) if match else None\n",
    "            # print(image_url)\n",
    "\n",
    "        if not image_url:\n",
    "            return \"\"\n",
    "            \n",
    "        alt_text = img_element.get('alt', '').strip()\n",
    "        \n",
    "        if not alt_text:\n",
    "            name_element = product_element.select_one(self.store.name_selector)\n",
    "            alt_text = name_element.text.strip() if name_element else \"image\"\n",
    "\n",
    "        file_ext = os.path.splitext(image_url)[1].split('@')[0]  # Убираем @webp\n",
    "        file_name = f\"{alt_text}{file_ext}\"\n",
    "\n",
    "        store_folder = os.path.join(base_dir or \"\", self.store.store_name)\n",
    "        os.makedirs(store_folder, exist_ok=True)\n",
    "        \n",
    "        file_path = os.path.join(store_folder, file_name)\n",
    "        file_path = os.path.normpath(file_path)\n",
    "        \n",
    "        try:\n",
    "            response = requests.get(image_url, stream=True)\n",
    "            response.raise_for_status() \n",
    "            with open(file_path, 'wb') as f:\n",
    "                for chunk in response.iter_content(chunk_size=8192):\n",
    "                    f.write(chunk)\n",
    "            return file_path\n",
    "        except Exception as e:\n",
    "            print(f\"Ошибка загрузки {image_url}: {e}\")\n",
    "            return \"\"\n",
    "\n",
    "    \n",
    "    def scrape_to_csv(self):\n",
    "        file_exists = os.path.isfile(self.csv_filename)\n",
    "\n",
    "        with open(self.csv_filename, 'a', newline='', encoding='utf-8') as csvfile:\n",
    "            fieldnames = ['name', 'img_local_url', 'store']\n",
    "            writer = csv.DictWriter(csvfile, fieldnames=fieldnames, delimiter=';')\n",
    "\n",
    "            if not file_exists:\n",
    "                writer.writeheader()\n",
    "\n",
    "            page = 1\n",
    "            current_date = str(date.today())\n",
    "            \n",
    "            # Настройка для Магнита\n",
    "            self._setup_magnit_store()\n",
    "            \n",
    "            seen_products = set()\n",
    "\n",
    "            if file_exists:\n",
    "                with open(self.csv_filename, 'r', encoding='utf-8') as f:\n",
    "                    reader = csv.DictReader(f, delimiter=';')\n",
    "                    for row in reader:\n",
    "                        seen_products.add((row['name'], row['store']))\n",
    "            \n",
    "            while True:                \n",
    "                url = self.store.get_url(page)\n",
    "                print(f\"Запрос страницы: {url}\")\n",
    "                self.driver.get(url)\n",
    "                time.sleep(5) \n",
    "\n",
    "                soup = BeautifulSoup(self.driver.page_source, \"html.parser\")\n",
    "                products = soup.find_all(self.store.product_selector) if callable(\n",
    "                    self.store.product_selector) else soup.select(self.store.product_selector)\n",
    "\n",
    "                print(f\"Найдено элементов на странице: {len(products)}\")\n",
    "                if not products:\n",
    "                    print(\"Товары не найдены или все страницы загружены!\")\n",
    "                    break\n",
    "\n",
    "                new_products = 0\n",
    "                for item in products:\n",
    "                    try:\n",
    "                        name_elem = item.select_one(self.store.name_selector)\n",
    "                        name = name_elem.text.strip() if name_elem else None\n",
    "\n",
    "                        image_path = self.download_image(item)\n",
    "                        \n",
    "                        product_key = (name, self.store.store_name)\n",
    "\n",
    "                        if product_key in seen_products or name is None:\n",
    "                            continue\n",
    "\n",
    "                        seen_products.add(product_key)\n",
    "                        product_dict = {\n",
    "                            \"name\": name,\n",
    "                            \"img_local_url\": image_path,\n",
    "                            \"store\": self.store.store_name\n",
    "                        }\n",
    "                        writer.writerow(product_dict)\n",
    "                        new_products += 1\n",
    "\n",
    "                    except Exception as e:\n",
    "                        print(f\"Ошибка при парсинге товара: {e}\")\n",
    "                        continue\n",
    "\n",
    "                print(f\"Страница {page} загружена, новых товаров: {new_products}\")\n",
    "                if new_products == 0:\n",
    "                    print(\"Новых товаров не найдено, завершаем.\")\n",
    "                    break\n",
    "\n",
    "                page += 1 \n",
    "                time.sleep(random.uniform(1, 3))\n",
    "\n",
    "        self.driver.quit()\n",
    "        print(f\"Данные добавлены в {self.csv_filename}\")"
   ]
  },
  {
   "cell_type": "markdown",
   "id": "b796b234-ba83-4465-833f-6c1b13bb154d",
   "metadata": {},
   "source": [
    "## Преобразование данных и запись в БД"
   ]
  },
  {
   "cell_type": "code",
   "execution_count": 22,
   "id": "ddfb0476-b539-4826-a80f-6e7b6d6f3937",
   "metadata": {},
   "outputs": [],
   "source": [
    "csv_schema = {\n",
    "    \"name\": pl.Utf8,\n",
    "    \"img_local_url\": pl.Utf8,\n",
    "    \"store\": pl.Utf8\n",
    "}"
   ]
  },
  {
   "cell_type": "code",
   "execution_count": 98,
   "id": "e989d8cd-5fb9-4bac-a07d-8f6e7515b1e0",
   "metadata": {},
   "outputs": [],
   "source": [
    "def process_image(img_path: str):\n",
    "    img = Image.open(img_path).convert('RGB')\n",
    "    # print(img.getpixel((100,100)))\n",
    "    # Уменьшение размера изображения для экономии памяти\n",
    "    img = img.resize((64, 64))\n",
    "    \n",
    "    # Построчная обработка пикселей\n",
    "    vector = []\n",
    "    for y in range(64):\n",
    "        for x in range(64):\n",
    "            r, g, b = img.getpixel((x, y))  \n",
    "            vector.extend([r / 255.0, g / 255.0, b / 255.0])  # Нормализация\n",
    "    \n",
    "    vector = np.array(vector, dtype=np.float16)\n",
    "    norm = np.linalg.norm(vector)\n",
    "    vector = (vector / norm) if norm > 0 else vector\n",
    "    \n",
    "    return vector.tobytes()"
   ]
  },
  {
   "cell_type": "code",
   "execution_count": 104,
   "id": "eba78632-b390-4e9a-9aa6-86315161201a",
   "metadata": {},
   "outputs": [],
   "source": [
    "def bytea_to_float_array(byte_data):\n",
    "    \"\"\"Converts bytea to a NumPy float array.\"\"\"\n",
    "    if byte_data is None:  \n",
    "        return None\n",
    "    try:\n",
    "        buffer = BytesIO(byte_data)\n",
    "        return np.frombuffer(buffer.read(), dtype=np.float32)  \n",
    "    except Exception as e:\n",
    "        print(f\"Error converting bytea to float array: {e}\")\n",
    "        return None"
   ]
  },
  {
   "cell_type": "code",
   "execution_count": 86,
   "id": "6309c576-aff6-4b52-97e1-2e0bd60e60e7",
   "metadata": {},
   "outputs": [],
   "source": [
    "def process_csv_to_db(csv_filename: str, session) -> None:\n",
    "    df = pd.read_csv(csv_filename, delimiter=';')\n",
    "    \n",
    "    df['img_embedding'] = df['img_local_url'].apply(\n",
    "        lambda x: process_image(r'{}'.format(x))\n",
    "    )    \n",
    "\n",
    "    existing_products = {\n",
    "        (row.name, row.store) \n",
    "         for row in session.query(ProductImg.name, ProductImg.store).all()\n",
    "    }\n",
    "    # print(existing_products)\n",
    "    count = 0\n",
    "    for _, row in df.iterrows():\n",
    "        product_key = (row['name'], row['store'])\n",
    "        # print(product_key)\n",
    "        if product_key not in existing_products:\n",
    "            product_db = ProductImg(\n",
    "                name=row['name'],\n",
    "                store=row['store'],\n",
    "                img_local_url=row['img_local_url'] if pd.notna(row['img_local_url']) else None,  \n",
    "                img_embedding=row['img_embedding'] if pd.notna(row['img_embedding']) else None \n",
    "            )\n",
    "            session.add(product_db)\n",
    "            count += 1\n",
    "    session.commit()\n",
    "    print(f\"{count} строк из {csv_filename} обработаны и записаны в базу данных\")"
   ]
  },
  {
   "cell_type": "markdown",
   "id": "57280c9c-b086-4c96-9830-86d15e79aacc",
   "metadata": {},
   "source": [
    "## Вызов скрапера Пятерочки и запись в CSV"
   ]
  },
  {
   "cell_type": "code",
   "execution_count": 28,
   "id": "b487778c-7afa-4acb-9f2e-a4b377c06092",
   "metadata": {},
   "outputs": [
    {
     "name": "stdout",
     "output_type": "stream",
     "text": [
      "Запрос страницы: https://5ka.ru/catalog/syr--251C13095/?page=1\n",
      "Найдено элементов на странице: 12\n",
      "Страница 1 загружена, новых товаров: 0\n",
      "Новых товаров не найдено, завершаем.\n",
      "Данные добавлены в Пятерочка_img_products.csv\n"
     ]
    }
   ],
   "source": [
    "pyaterochka_scraper = PyaterochkaScraper()\n",
    "scraper = ProductImgScraper(pyaterochka_scraper)\n",
    "scraper.scrape_to_csv()"
   ]
  },
  {
   "cell_type": "markdown",
   "id": "2cfbf46c-704b-4649-8d57-6780b833230d",
   "metadata": {},
   "source": [
    "## Вызов скрапера Магнита и запись в CSV"
   ]
  },
  {
   "cell_type": "code",
   "execution_count": 30,
   "id": "ae852b7d-6850-4c53-9fe8-ff21af60b87c",
   "metadata": {},
   "outputs": [
    {
     "name": "stdout",
     "output_type": "stream",
     "text": [
      "Настраиваем город и магазин для Магнита...\n",
      "Запрос страницы: https://magnit.ru/catalog/37741-syry_mm?shopCode=161924&shopType=1&page=1\n",
      "Найдено элементов на странице: 33\n",
      "Страница 1 загружена, новых товаров: 0\n",
      "Новых товаров не найдено, завершаем.\n",
      "Данные добавлены в Магнит_img_products.csv\n"
     ]
    }
   ],
   "source": [
    "magnit_scraper = MagnitScraper()\n",
    "scraper = ProductImgScraper(magnit_scraper)\n",
    "scraper.scrape_to_csv()"
   ]
  },
  {
   "cell_type": "markdown",
   "id": "0adc050d-3586-4360-8674-73c7a12a1f0c",
   "metadata": {},
   "source": [
    "## Проверка сохраненных данных"
   ]
  },
  {
   "cell_type": "code",
   "execution_count": 32,
   "id": "0bc1db72-a4dd-461d-8ac5-616e99121f3f",
   "metadata": {},
   "outputs": [
    {
     "name": "stdout",
     "output_type": "stream",
     "text": [
      "Пятерочка: 122\n",
      "\n",
      "Пример данных из Пятерочки (последние записи):\n"
     ]
    },
    {
     "data": {
      "text/html": [
       "<div><style>\n",
       ".dataframe > thead > tr,\n",
       ".dataframe > tbody > tr {\n",
       "  text-align: right;\n",
       "  white-space: pre-wrap;\n",
       "}\n",
       "</style>\n",
       "<small>shape: (5, 3)</small><table border=\"1\" class=\"dataframe\"><thead><tr><th>name</th><th>img_local_url</th><th>store</th></tr><tr><td>str</td><td>str</td><td>str</td></tr></thead><tbody><tr><td>&quot;Сыр Верещагин Белпер Кнолле в …</td><td>&quot;C:\\Users\\admin\\Desktop\\Learnin…</td><td>&quot;Пятерочка&quot;</td></tr><tr><td>&quot;Сыр Верещагин Верещагинский по…</td><td>&quot;C:\\Users\\admin\\Desktop\\Learnin…</td><td>&quot;Пятерочка&quot;</td></tr><tr><td>&quot;Сыр Верещагин Конаковский с па…</td><td>&quot;C:\\Users\\admin\\Desktop\\Learnin…</td><td>&quot;Пятерочка&quot;</td></tr><tr><td>&quot;Сыр Белебеевский Благородный Д…</td><td>&quot;C:\\Users\\admin\\Desktop\\Learnin…</td><td>&quot;Пятерочка&quot;</td></tr><tr><td>&quot;Сыр Ларец с лисичками нарезка …</td><td>&quot;C:\\Users\\admin\\Desktop\\Learnin…</td><td>&quot;Пятерочка&quot;</td></tr></tbody></table></div>"
      ],
      "text/plain": [
       "shape: (5, 3)\n",
       "┌─────────────────────────────────┬─────────────────────────────────┬───────────┐\n",
       "│ name                            ┆ img_local_url                   ┆ store     │\n",
       "│ ---                             ┆ ---                             ┆ ---       │\n",
       "│ str                             ┆ str                             ┆ str       │\n",
       "╞═════════════════════════════════╪═════════════════════════════════╪═══════════╡\n",
       "│ Сыр Верещагин Белпер Кнолле в … ┆ C:\\Users\\admin\\Desktop\\Learnin… ┆ Пятерочка │\n",
       "│ Сыр Верещагин Верещагинский по… ┆ C:\\Users\\admin\\Desktop\\Learnin… ┆ Пятерочка │\n",
       "│ Сыр Верещагин Конаковский с па… ┆ C:\\Users\\admin\\Desktop\\Learnin… ┆ Пятерочка │\n",
       "│ Сыр Белебеевский Благородный Д… ┆ C:\\Users\\admin\\Desktop\\Learnin… ┆ Пятерочка │\n",
       "│ Сыр Ларец с лисичками нарезка … ┆ C:\\Users\\admin\\Desktop\\Learnin… ┆ Пятерочка │\n",
       "└─────────────────────────────────┴─────────────────────────────────┴───────────┘"
      ]
     },
     "execution_count": 32,
     "metadata": {},
     "output_type": "execute_result"
    }
   ],
   "source": [
    "pyaterochka_df = pl.read_csv(\"Пятерочка_img_products.csv\", separator=';', schema=csv_schema, try_parse_dates=True)\n",
    "print(\"Пятерочка:\", len(pyaterochka_df))\n",
    "print(\"\\nПример данных из Пятерочки (последние записи):\")\n",
    "pyaterochka_df.tail()"
   ]
  },
  {
   "cell_type": "code",
   "execution_count": 33,
   "id": "e89e3579-edf2-42c4-8784-da5b14b6c5da",
   "metadata": {},
   "outputs": [
    {
     "name": "stdout",
     "output_type": "stream",
     "text": [
      "Магнит: 93\n",
      "\n",
      "Пример данных из Магнита (последние записи):\n"
     ]
    },
    {
     "data": {
      "text/html": [
       "<div><style>\n",
       ".dataframe > thead > tr,\n",
       ".dataframe > tbody > tr {\n",
       "  text-align: right;\n",
       "  white-space: pre-wrap;\n",
       "}\n",
       "</style>\n",
       "<small>shape: (5, 3)</small><table border=\"1\" class=\"dataframe\"><thead><tr><th>name</th><th>img_local_url</th><th>store</th></tr><tr><td>str</td><td>str</td><td>str</td></tr></thead><tbody><tr><td>&quot;Сыр плавленый Viola Сливочный …</td><td>&quot;C:\\Users\\admin\\Desktop\\Learnin…</td><td>&quot;Магнит&quot;</td></tr><tr><td>&quot;Сыр плавленый Viola Cливочный …</td><td>&quot;C:\\Users\\admin\\Desktop\\Learnin…</td><td>&quot;Магнит&quot;</td></tr><tr><td>&quot;Сыр Laime Пармезан выдержанный…</td><td>&quot;C:\\Users\\admin\\Desktop\\Learnin…</td><td>&quot;Магнит&quot;</td></tr><tr><td>&quot;Сыр Экомилк творожный 60% 350г&quot;</td><td>&quot;C:\\Users\\admin\\Desktop\\Learnin…</td><td>&quot;Магнит&quot;</td></tr><tr><td>&quot;Сыр Василеостровская сыроварня…</td><td>&quot;C:\\Users\\admin\\Desktop\\Learnin…</td><td>&quot;Магнит&quot;</td></tr></tbody></table></div>"
      ],
      "text/plain": [
       "shape: (5, 3)\n",
       "┌─────────────────────────────────┬─────────────────────────────────┬────────┐\n",
       "│ name                            ┆ img_local_url                   ┆ store  │\n",
       "│ ---                             ┆ ---                             ┆ ---    │\n",
       "│ str                             ┆ str                             ┆ str    │\n",
       "╞═════════════════════════════════╪═════════════════════════════════╪════════╡\n",
       "│ Сыр плавленый Viola Сливочный … ┆ C:\\Users\\admin\\Desktop\\Learnin… ┆ Магнит │\n",
       "│ Сыр плавленый Viola Cливочный … ┆ C:\\Users\\admin\\Desktop\\Learnin… ┆ Магнит │\n",
       "│ Сыр Laime Пармезан выдержанный… ┆ C:\\Users\\admin\\Desktop\\Learnin… ┆ Магнит │\n",
       "│ Сыр Экомилк творожный 60% 350г  ┆ C:\\Users\\admin\\Desktop\\Learnin… ┆ Магнит │\n",
       "│ Сыр Василеостровская сыроварня… ┆ C:\\Users\\admin\\Desktop\\Learnin… ┆ Магнит │\n",
       "└─────────────────────────────────┴─────────────────────────────────┴────────┘"
      ]
     },
     "execution_count": 33,
     "metadata": {},
     "output_type": "execute_result"
    }
   ],
   "source": [
    "magnit_df = pl.read_csv(\"Магнит_img_products.csv\", separator=';', schema=csv_schema, try_parse_dates=True)\n",
    "print(\"Магнит:\", len(magnit_df))\n",
    "print(\"\\nПример данных из Магнита (последние записи):\")\n",
    "magnit_df.tail()"
   ]
  },
  {
   "cell_type": "markdown",
   "id": "876803c4-038e-4d75-84e8-3c65dc61efcd",
   "metadata": {},
   "source": [
    "## Инициализация БД"
   ]
  },
  {
   "cell_type": "code",
   "execution_count": 84,
   "id": "69cb0ff7-394b-4986-b079-2ceacc8e8c37",
   "metadata": {},
   "outputs": [],
   "source": [
    "session = init_db()"
   ]
  },
  {
   "cell_type": "markdown",
   "id": "b2bb959b-5b30-4d03-b56c-ae90f333d685",
   "metadata": {},
   "source": [
    "## Сохранение данных Пятерочки в БД"
   ]
  },
  {
   "cell_type": "code",
   "execution_count": 94,
   "id": "72dc74a2-841e-488a-aa32-c6748d17ae45",
   "metadata": {},
   "outputs": [],
   "source": [
    "session.rollback()"
   ]
  },
  {
   "cell_type": "code",
   "execution_count": 88,
   "id": "9d09f65b-bd70-459c-8cc8-df266b5791be",
   "metadata": {},
   "outputs": [
    {
     "name": "stdout",
     "output_type": "stream",
     "text": [
      "122 строк из Пятерочка_img_products.csv обработаны и записаны в базу данных\n"
     ]
    }
   ],
   "source": [
    "process_csv_to_db(\"Пятерочка_img_products.csv\", session)"
   ]
  },
  {
   "cell_type": "code",
   "execution_count": 114,
   "id": "bb187135-5163-48df-94cd-4ad8ccaef446",
   "metadata": {},
   "outputs": [],
   "source": [
    "# Определение схемы данных\n",
    "load_schema = {\n",
    "    \"name\": pl.Utf8,\n",
    "    \"img_local_url\": pl.Float64,\n",
    "    \"img_embedding\": pl.List(pl.Float32),\n",
    "    \"store\": pl.Utf8\n",
    "}"
   ]
  },
  {
   "cell_type": "markdown",
   "id": "21bae09c-95ae-4745-8d81-13d52c79e7bd",
   "metadata": {},
   "source": [
    "## Сохранение данных Магнита в БД"
   ]
  },
  {
   "cell_type": "code",
   "execution_count": 100,
   "id": "a1e67178-e562-4cd3-88d9-8609941e98cd",
   "metadata": {},
   "outputs": [
    {
     "name": "stdout",
     "output_type": "stream",
     "text": [
      "93 строк из Магнит_img_products.csv обработаны и записаны в базу данных\n"
     ]
    }
   ],
   "source": [
    "process_csv_to_db(\"Магнит_img_products.csv\", session)"
   ]
  },
  {
   "cell_type": "markdown",
   "id": "ba8253d5-989b-43b5-a861-a292e36a8149",
   "metadata": {},
   "source": [
    "## Получение всех данных"
   ]
  },
  {
   "cell_type": "code",
   "execution_count": 339,
   "id": "30c311b2-76a3-4439-b125-1f1848eb9ce6",
   "metadata": {
    "scrolled": true
   },
   "outputs": [
    {
     "data": {
      "text/html": [
       "<div><style>\n",
       ".dataframe > thead > tr,\n",
       ".dataframe > tbody > tr {\n",
       "  text-align: right;\n",
       "  white-space: pre-wrap;\n",
       "}\n",
       "</style>\n",
       "<small>shape: (5, 4)</small><table border=\"1\" class=\"dataframe\"><thead><tr><th>name</th><th>img_local_url</th><th>img_embedding</th><th>store</th></tr><tr><td>str</td><td>str</td><td>list[f64]</td><td>str</td></tr></thead><tbody><tr><td>&quot;Сыр плавленый Viola Сливочный 45% 130г&quot;</td><td>&quot;C:\\Users\\admin\\Desktop\\Learning\\Magister\\Semester_2\\Data EDA\\lab1\\Магнит\\Сыр плавленый Viola Сливочный 45% 130г.jpeg&quot;</td><td>[7.5600e-19, 7.5600e-19, … 7.5600e-19]</td><td>&quot;Магнит&quot;</td></tr><tr><td>&quot;Сыр плавленый Viola Cливочный 45% 140г&quot;</td><td>&quot;C:\\Users\\admin\\Desktop\\Learning\\Magister\\Semester_2\\Data EDA\\lab1\\Магнит\\Сыр плавленый Viola Cливочный 45% 140г.png&quot;</td><td>[0.0, 0.0, … 1.4094e-20]</td><td>&quot;Магнит&quot;</td></tr><tr><td>&quot;Сыр Laime Пармезан выдержанный 40% весовой&quot;</td><td>&quot;C:\\Users\\admin\\Desktop\\Learning\\Magister\\Semester_2\\Data EDA\\lab1\\Магнит\\Сыр Laime Пармезан выдержанный 40% весовой.png&quot;</td><td>[8.4746e-19, 3.7930e-20, … 1.6088e-21]</td><td>&quot;Магнит&quot;</td></tr><tr><td>&quot;Сыр Экомилк творожный 60% 350г&quot;</td><td>&quot;C:\\Users\\admin\\Desktop\\Learning\\Magister\\Semester_2\\Data EDA\\lab1\\Магнит\\Сыр Экомилк творожный 60% 350г.jpeg&quot;</td><td>[1.3968e-18, 1.3968e-18, … 1.3968e-18]</td><td>&quot;Магнит&quot;</td></tr><tr><td>&quot;Сыр Василеостровская сыроварня Пряди домашний с паприкой 45% 100г&quot;</td><td>&quot;C:\\Users\\admin\\Desktop\\Learning\\Magister\\Semester_2\\Data EDA\\lab1\\Магнит\\Сыр Василеостровская сыроварня Пряди домашний с паприкой 45% 100г.jpeg&quot;</td><td>[4.6461e-19, 4.6461e-19, … 4.6461e-19]</td><td>&quot;Магнит&quot;</td></tr></tbody></table></div>"
      ],
      "text/plain": [
       "shape: (5, 4)\n",
       "┌────────────────────────────────────────┬───────────────────────────────────────┬────────────────────────────┬────────┐\n",
       "│ name                                   ┆ img_local_url                         ┆ img_embedding              ┆ store  │\n",
       "│ ---                                    ┆ ---                                   ┆ ---                        ┆ ---    │\n",
       "│ str                                    ┆ str                                   ┆ list[f64]                  ┆ str    │\n",
       "╞════════════════════════════════════════╪═══════════════════════════════════════╪════════════════════════════╪════════╡\n",
       "│ Сыр плавленый Viola Сливочный 45% 130г ┆ C:\\Users\\admin\\Desktop\\Learning\\Magis ┆ [7.5600e-19, 7.5600e-19, … ┆ Магнит │\n",
       "│                                        ┆ ter\\Semester_2\\Data                   ┆ 7.5600e-19]                ┆        │\n",
       "│                                        ┆ EDA\\lab1\\Магнит\\Сыр плавленый Viola   ┆                            ┆        │\n",
       "│                                        ┆ Сливочный 45% 130г.jpeg               ┆                            ┆        │\n",
       "│ Сыр плавленый Viola Cливочный 45% 140г ┆ C:\\Users\\admin\\Desktop\\Learning\\Magis ┆ [0.0, 0.0, … 1.4094e-20]   ┆ Магнит │\n",
       "│                                        ┆ ter\\Semester_2\\Data                   ┆                            ┆        │\n",
       "│                                        ┆ EDA\\lab1\\Магнит\\Сыр плавленый Viola   ┆                            ┆        │\n",
       "│                                        ┆ Cливочный 45% 140г.png                ┆                            ┆        │\n",
       "│ Сыр Laime Пармезан выдержанный 40%     ┆ C:\\Users\\admin\\Desktop\\Learning\\Magis ┆ [8.4746e-19, 3.7930e-20, … ┆ Магнит │\n",
       "│ весовой                                ┆ ter\\Semester_2\\Data                   ┆ 1.6088e-21]                ┆        │\n",
       "│                                        ┆ EDA\\lab1\\Магнит\\Сыр Laime Пармезан    ┆                            ┆        │\n",
       "│                                        ┆ выдержанный 40% весовой.png           ┆                            ┆        │\n",
       "│ Сыр Экомилк творожный 60% 350г         ┆ C:\\Users\\admin\\Desktop\\Learning\\Magis ┆ [1.3968e-18, 1.3968e-18, … ┆ Магнит │\n",
       "│                                        ┆ ter\\Semester_2\\Data                   ┆ 1.3968e-18]                ┆        │\n",
       "│                                        ┆ EDA\\lab1\\Магнит\\Сыр Экомилк творожный ┆                            ┆        │\n",
       "│                                        ┆ 60% 350г.jpeg                         ┆                            ┆        │\n",
       "│ Сыр Василеостровская сыроварня Пряди   ┆ C:\\Users\\admin\\Desktop\\Learning\\Magis ┆ [4.6461e-19, 4.6461e-19, … ┆ Магнит │\n",
       "│ домашний с паприкой 45% 100г           ┆ ter\\Semester_2\\Data                   ┆ 4.6461e-19]                ┆        │\n",
       "│                                        ┆ EDA\\lab1\\Магнит\\Сыр Василеостровская  ┆                            ┆        │\n",
       "│                                        ┆ сыроварня Пряди домашний с паприкой   ┆                            ┆        │\n",
       "│                                        ┆ 45% 100г.jpeg                         ┆                            ┆        │\n",
       "└────────────────────────────────────────┴───────────────────────────────────────┴────────────────────────────┴────────┘"
      ]
     },
     "execution_count": 339,
     "metadata": {},
     "output_type": "execute_result"
    }
   ],
   "source": [
    "results = (\n",
    "    session.query(ProductImg)\n",
    "    .all()\n",
    ")\n",
    "\n",
    "embeddings = [\n",
    "    np.frombuffer(row.img_embedding, dtype=np.float32).tolist() \n",
    "    for row in results\n",
    "]\n",
    "\n",
    "data = [{\n",
    "    \"name\": product.name,\n",
    "    \"img_local_url\": product.img_local_url,\n",
    "    \"img_embedding\": embeddings[i],\n",
    "    \"store\": product.store\n",
    "} for i, product in enumerate(results)]\n",
    "\n",
    "df = pl.DataFrame(data).with_columns(\n",
    "    pl.col(\"img_embedding\").cast(pl.List(pl.Float32)).alias('img_embedding') \n",
    ")\n",
    "\n",
    "df = pl.DataFrame(data)\n",
    "pl.Config.set_fmt_str_lengths(200)\n",
    "df.tail()"
   ]
  },
  {
   "cell_type": "code",
   "execution_count": 94,
   "id": "f05399fd-d73c-4cd9-9d8b-4468d4905ec9",
   "metadata": {},
   "outputs": [],
   "source": [
    "session.close()"
   ]
  },
  {
   "cell_type": "markdown",
   "id": "563a9d3b-ea35-4ec8-9cd4-e1a3a9521a42",
   "metadata": {},
   "source": [
    "## Пример изображений"
   ]
  },
  {
   "cell_type": "code",
   "execution_count": 155,
   "id": "e6da3af8-6c9a-4a41-853e-dba288b4b3af",
   "metadata": {},
   "outputs": [
    {
     "name": "stdout",
     "output_type": "stream",
     "text": [
      "Сыр Фетакса без рассола 45% БЗМЖ 200г\n"
     ]
    },
    {
     "data": {
      "image/jpeg": "[encoded data removed]",
      "image/png": "[encoded data removed]",
      "text/plain": [
       "<PIL.JpegImagePlugin.JpegImageFile image mode=RGB size=320x320>"
      ]
     },
     "execution_count": 155,
     "metadata": {},
     "output_type": "execute_result"
    }
   ],
   "source": [
    "print(df.select('name').head(1).item(0,0))\n",
    "\n",
    "img = Image.open(df.select('img_local_url').head(1).item(0, 0))\n",
    "img"
   ]
  },
  {
   "cell_type": "markdown",
   "id": "8d8e2af6-fb38-43b6-9d75-ed07aad4ad49",
   "metadata": {},
   "source": [
    "## Разметка изображений"
   ]
  },
  {
   "cell_type": "markdown",
   "id": "c3391aef-f544-463e-8bbc-90637985235d",
   "metadata": {},
   "source": [
    "Изображения упаковок сыра можно разметить на предмет привлекательности для клиента. Возможный вариант разметки - по шкале от 1 до 5, где\n",
    "1 - точно не куплю\n",
    "2 - скорее всего не куплю\n",
    "3 - не уверен\n",
    "4 - скорее всего куплю\n",
    "5 - нравится, куплю\n",
    "\n",
    "Разметка ручная. Ее удобно реализовать, отметив в свойствах изображений Оценку и распарсив эти метаданные библиотекой Pillow."
   ]
  },
  {
   "cell_type": "code",
   "execution_count": 244,
   "id": "9f34b001-3294-45e8-9677-2e388cff13f5",
   "metadata": {},
   "outputs": [],
   "source": [
    "def get_rating(image_path):\n",
    "    \"\"\"Читает Windows-рейтинг из JPG.\"\"\"\n",
    "    try:\n",
    "        img = Image.open(image_path)\n",
    "        info = img._getexif()\n",
    "        if info:\n",
    "            rating = info.get(18246) \n",
    "            return rating\n",
    "        else:\n",
    "            return None\n",
    "    except FileNotFoundError:\n",
    "        return -1\n",
    "    except Exception as e:\n",
    "        return -1"
   ]
  },
  {
   "cell_type": "code",
   "execution_count": 246,
   "id": "634f0d54-17e5-4b28-b88e-995f53a4cd22",
   "metadata": {},
   "outputs": [
    {
     "name": "stdout",
     "output_type": "stream",
     "text": [
      "1\n"
     ]
    }
   ],
   "source": [
    "print(get_rating(r\"C:\\Users\\admin\\Desktop\\Learning\\Magister\\Semester_2\\Data EDA\\lab1\\Пятерочка\\Сыр плавленый Карат Дружба 45% БЗМЖ 90г.jpeg\"))"
   ]
  },
  {
   "cell_type": "markdown",
   "id": "5e232451-3b3e-4d30-9565-8d7f553bc1c8",
   "metadata": {},
   "source": [
    "Замена jpeg на jpg для Магнита (пришлось делать Save As для изображений Магнита из-за кривого формата, не позволяющего менять метаданные)"
   ]
  },
  {
   "cell_type": "code",
   "execution_count": 341,
   "id": "53bb3a9c-e72f-424a-a533-19b2d77b972b",
   "metadata": {},
   "outputs": [],
   "source": [
    "df = (\n",
    "    df\n",
    "    .with_columns(\n",
    "        pl.when(pl.col('store') == 'Магнит')\n",
    "        .then(pl.col('img_local_url').str.replace('.jpeg', '.jpg').str.replace('.png', '.jpg'))\n",
    "        .otherwise(pl.col('img_local_url'))\n",
    "        .alias('img_local_url')\n",
    "    )\n",
    ")"
   ]
  },
  {
   "cell_type": "code",
   "execution_count": 343,
   "id": "a4bc01b8-e31c-4560-82ee-11204fdb1785",
   "metadata": {
    "scrolled": true
   },
   "outputs": [
    {
     "data": {
      "text/html": [
       "<div><style>\n",
       ".dataframe > thead > tr,\n",
       ".dataframe > tbody > tr {\n",
       "  text-align: right;\n",
       "  white-space: pre-wrap;\n",
       "}\n",
       "</style>\n",
       "<small>shape: (5, 5)</small><table border=\"1\" class=\"dataframe\"><thead><tr><th>name</th><th>img_local_url</th><th>img_embedding</th><th>store</th><th>img_rating</th></tr><tr><td>str</td><td>str</td><td>list[f64]</td><td>str</td><td>i32</td></tr></thead><tbody><tr><td>&quot;Сыр Радость Вкуса Топленое молочко нарезка 45% БЗМЖ 125г&quot;</td><td>&quot;C:\\Users\\admin\\Desktop\\Learning\\Magister\\Semester_2\\Data EDA\\lab1\\Пятерочка\\Сыр Радость Вкуса Топленое молочко нарезка 45% БЗМЖ 125г.jpeg&quot;</td><td>[2.1271e-19, 1.7883e-19, … 4.2802e-20]</td><td>&quot;Пятерочка&quot;</td><td>2</td></tr><tr><td>&quot;Сыр Сыробогатов Швейцарский 45% БЗМЖ 180г&quot;</td><td>&quot;C:\\Users\\admin\\Desktop\\Learning\\Magister\\Semester_2\\Data EDA\\lab1\\Пятерочка\\Сыр Сыробогатов Швейцарский 45% БЗМЖ 180г.jpeg&quot;</td><td>[1.6352e-21, 7.6145e-22, … 4.8881e-24]</td><td>&quot;Пятерочка&quot;</td><td>3</td></tr><tr><td>&quot;Сыр творожный Almette сливочный 60% БЗМЖ 150г&quot;</td><td>&quot;C:\\Users\\admin\\Desktop\\Learning\\Magister\\Semester_2\\Data EDA\\lab1\\Пятерочка\\Сыр творожный Almette сливочный 60% БЗМЖ 150г.jpeg&quot;</td><td>[9.0891e-19, 9.0891e-19, … 9.0891e-19]</td><td>&quot;Пятерочка&quot;</td><td>3</td></tr><tr><td>&quot;Сыр Брест-Литовск Российский 50% 150г&quot;</td><td>&quot;C:\\Users\\admin\\Desktop\\Learning\\Magister\\Semester_2\\Data EDA\\lab1\\Магнит\\Сыр Брест-Литовск Российский 50% 150г.jpg&quot;</td><td>[5.8997e-19, 5.8997e-19, … 5.8997e-19]</td><td>&quot;Магнит&quot;</td><td>3</td></tr><tr><td>&quot;Сыр Умалат Сулугуни молодой слоистый 45% БЗМЖ 200г&quot;</td><td>&quot;C:\\Users\\admin\\Desktop\\Learning\\Magister\\Semester_2\\Data EDA\\lab1\\Пятерочка\\Сыр Умалат Сулугуни молодой слоистый 45% БЗМЖ 200г.jpeg&quot;</td><td>[3.6358e-18, 1.3890e-17, … 9.4956e-19]</td><td>&quot;Пятерочка&quot;</td><td>4</td></tr></tbody></table></div>"
      ],
      "text/plain": [
       "shape: (5, 5)\n",
       "┌───────────────────────────────┬──────────────────────────────┬──────────────────────────────┬───────────┬────────────┐\n",
       "│ name                          ┆ img_local_url                ┆ img_embedding                ┆ store     ┆ img_rating │\n",
       "│ ---                           ┆ ---                          ┆ ---                          ┆ ---       ┆ ---        │\n",
       "│ str                           ┆ str                          ┆ list[f64]                    ┆ str       ┆ i32        │\n",
       "╞═══════════════════════════════╪══════════════════════════════╪══════════════════════════════╪═══════════╪════════════╡\n",
       "│ Сыр Радость Вкуса Топленое    ┆ C:\\Users\\admin\\Desktop\\Learn ┆ [2.1271e-19, 1.7883e-19, …   ┆ Пятерочка ┆ 2          │\n",
       "│ молочко нарезка 45% БЗМЖ 125г ┆ ing\\Magister\\Semester_2\\Data ┆ 4.2802e-20]                  ┆           ┆            │\n",
       "│                               ┆ EDA\\lab1\\Пятерочка\\Сыр       ┆                              ┆           ┆            │\n",
       "│                               ┆ Радость Вкуса Топленое       ┆                              ┆           ┆            │\n",
       "│                               ┆ молочко нарезка 45% БЗМЖ     ┆                              ┆           ┆            │\n",
       "│                               ┆ 125г.jpeg                    ┆                              ┆           ┆            │\n",
       "│ Сыр Сыробогатов Швейцарский   ┆ C:\\Users\\admin\\Desktop\\Learn ┆ [1.6352e-21, 7.6145e-22, …   ┆ Пятерочка ┆ 3          │\n",
       "│ 45% БЗМЖ 180г                 ┆ ing\\Magister\\Semester_2\\Data ┆ 4.8881e-24]                  ┆           ┆            │\n",
       "│                               ┆ EDA\\lab1\\Пятерочка\\Сыр       ┆                              ┆           ┆            │\n",
       "│                               ┆ Сыробогатов Швейцарский 45%  ┆                              ┆           ┆            │\n",
       "│                               ┆ БЗМЖ 180г.jpeg               ┆                              ┆           ┆            │\n",
       "│ Сыр творожный Almette         ┆ C:\\Users\\admin\\Desktop\\Learn ┆ [9.0891e-19, 9.0891e-19, …   ┆ Пятерочка ┆ 3          │\n",
       "│ сливочный 60% БЗМЖ 150г       ┆ ing\\Magister\\Semester_2\\Data ┆ 9.0891e-19]                  ┆           ┆            │\n",
       "│                               ┆ EDA\\lab1\\Пятерочка\\Сыр       ┆                              ┆           ┆            │\n",
       "│                               ┆ творожный Almette сливочный  ┆                              ┆           ┆            │\n",
       "│                               ┆ 60% БЗМЖ 150г.jpeg           ┆                              ┆           ┆            │\n",
       "│ Сыр Брест-Литовск Российский  ┆ C:\\Users\\admin\\Desktop\\Learn ┆ [5.8997e-19, 5.8997e-19, …   ┆ Магнит    ┆ 3          │\n",
       "│ 50% 150г                      ┆ ing\\Magister\\Semester_2\\Data ┆ 5.8997e-19]                  ┆           ┆            │\n",
       "│                               ┆ EDA\\lab1\\Магнит\\Сыр          ┆                              ┆           ┆            │\n",
       "│                               ┆ Брест-Литовск Российский 50% ┆                              ┆           ┆            │\n",
       "│                               ┆ 150г.jpg                     ┆                              ┆           ┆            │\n",
       "│ Сыр Умалат Сулугуни молодой   ┆ C:\\Users\\admin\\Desktop\\Learn ┆ [3.6358e-18, 1.3890e-17, …   ┆ Пятерочка ┆ 4          │\n",
       "│ слоистый 45% БЗМЖ 200г        ┆ ing\\Magister\\Semester_2\\Data ┆ 9.4956e-19]                  ┆           ┆            │\n",
       "│                               ┆ EDA\\lab1\\Пятерочка\\Сыр       ┆                              ┆           ┆            │\n",
       "│                               ┆ Умалат Сулугуни молодой      ┆                              ┆           ┆            │\n",
       "│                               ┆ слоистый 45% БЗМЖ 200г.jpeg  ┆                              ┆           ┆            │\n",
       "└───────────────────────────────┴──────────────────────────────┴──────────────────────────────┴───────────┴────────────┘"
      ]
     },
     "execution_count": 343,
     "metadata": {},
     "output_type": "execute_result"
    }
   ],
   "source": [
    "df_marked = df.with_columns(\n",
    "    pl.col(\"img_local_url\").map_elements(lambda x: get_rating(x), return_dtype=pl.Int32).alias(\"img_rating\")\n",
    ")\n",
    "\n",
    "df_marked.sample(5)"
   ]
  },
  {
   "cell_type": "markdown",
   "id": "05f27fa9-d524-4f56-8e3f-c66ff6b8f4f3",
   "metadata": {},
   "source": [
    "Проверка на некорректные пуути к изображениям"
   ]
  },
  {
   "cell_type": "code",
   "execution_count": 314,
   "id": "dd6dc62c-ff61-4468-b3ae-ac99602d83f4",
   "metadata": {},
   "outputs": [
    {
     "data": {
      "text/html": [
       "<div><style>\n",
       ".dataframe > thead > tr,\n",
       ".dataframe > tbody > tr {\n",
       "  text-align: right;\n",
       "  white-space: pre-wrap;\n",
       "}\n",
       "</style>\n",
       "<small>shape: (0, 5)</small><table border=\"1\" class=\"dataframe\"><thead><tr><th>name</th><th>img_local_url</th><th>img_embedding</th><th>store</th><th>rating_value</th></tr><tr><td>str</td><td>str</td><td>list[f64]</td><td>str</td><td>i32</td></tr></thead><tbody></tbody></table></div>"
      ],
      "text/plain": [
       "shape: (0, 5)\n",
       "┌──────┬───────────────┬───────────────┬───────┬──────────────┐\n",
       "│ name ┆ img_local_url ┆ img_embedding ┆ store ┆ rating_value │\n",
       "│ ---  ┆ ---           ┆ ---           ┆ ---   ┆ ---          │\n",
       "│ str  ┆ str           ┆ list[f64]     ┆ str   ┆ i32          │\n",
       "╞══════╪═══════════════╪═══════════════╪═══════╪══════════════╡\n",
       "└──────┴───────────────┴───────────────┴───────┴──────────────┘"
      ]
     },
     "execution_count": 314,
     "metadata": {},
     "output_type": "execute_result"
    }
   ],
   "source": [
    "df_marked.filter(pl.col('rating_value') == -1)"
   ]
  },
  {
   "cell_type": "markdown",
   "id": "6a34fd6d-d806-42ca-bb15-c4983ccc95ff",
   "metadata": {},
   "source": [
    "## Интеграция с основным датасетом"
   ]
  },
  {
   "cell_type": "markdown",
   "id": "af1134f7-c8a1-4fe9-b15c-acd4b5a27846",
   "metadata": {},
   "source": [
    "### Конфигурация подключения к базе данных"
   ]
  },
  {
   "cell_type": "code",
   "execution_count": 319,
   "id": "7b9c3f14-1d0f-49e4-85db-5ab6e34b733b",
   "metadata": {},
   "outputs": [
    {
     "name": "stderr",
     "output_type": "stream",
     "text": [
      "C:\\Users\\admin\\AppData\\Local\\Temp\\ipykernel_8872\\988954521.py:1: MovedIn20Warning: The ``declarative_base()`` function is now available as sqlalchemy.orm.declarative_base(). (deprecated since: 2.0) (Background on SQLAlchemy 2.0 at: https://sqlalche.me/e/b8d9)\n",
      "  Base = declarative_base()\n"
     ]
    }
   ],
   "source": [
    "Base = declarative_base()\n",
    "\n",
    "DATABASE_URL = \"postgresql+psycopg2://{username}:{password}@{host}:{port}/{db_name}\".format(\n",
    "    host=os.getenv(\"POSTGRES_HOST\", \"localhost\"),\n",
    "    port=os.getenv(\"POSTGRES_PORT\", \"5432\"),\n",
    "    db_name=os.getenv(\"POSTGRES_DB\", \"store_parser\"),\n",
    "    username=os.getenv(\"POSTGRES_USER\", \"postgres\"),\n",
    "    password=os.getenv(\"POSTGRES_PASSWORD\", \"123456\"),\n",
    "\n",
    ")\n",
    "\n",
    "def init_db():\n",
    "    engine = create_engine(DATABASE_URL)\n",
    "    Base.metadata.create_all(engine)\n",
    "    Session = sessionmaker(bind=engine)\n",
    "    return Session()"
   ]
  },
  {
   "cell_type": "markdown",
   "id": "72224b67-095f-4293-b72e-045e9d7b9fcf",
   "metadata": {},
   "source": [
    "### Класс, соответствующий структуре таблицы в БД"
   ]
  },
  {
   "cell_type": "code",
   "execution_count": 322,
   "id": "78c64a48-df1d-4ff7-bfce-5a19d1097409",
   "metadata": {},
   "outputs": [],
   "source": [
    "class Product(Base):\n",
    "    __tablename__ = 'store_products'\n",
    "\n",
    "    name        = Column(String, nullable=False, primary_key=True)\n",
    "    brand       = Column(String)\n",
    "    price       = Column(Float)  \n",
    "    weight      = Column(Float)\n",
    "    unit        = Column(String)\n",
    "    fat_content = Column(Float, nullable=True)\n",
    "    is_sliced   = Column(Boolean, nullable=True)\n",
    "    is_bzmj     = Column(Boolean, nullable=True)\n",
    "    is_creamy   = Column(Boolean, nullable=True)\n",
    "    discount    = Column(Float, nullable=True) \n",
    "    rating      = Column(Float, nullable=True)\n",
    "    date_added  = Column(Date, default=date.today, primary_key=True)  \n",
    "    store       = Column(String, nullable=False, primary_key=True)\n",
    "\n",
    "    __table_args__ = {'extend_existing': True}\n",
    "\n",
    "    def __repr__(self):\n",
    "        return f\"<Product(name='{self.name}', price={self.price}, date_added={self.date_added}, store={self.store})>\""
   ]
  },
  {
   "cell_type": "markdown",
   "id": "94b6656a-3710-4a21-823a-4f9a3988dc58",
   "metadata": {},
   "source": [
    "### Чтение из БД"
   ]
  },
  {
   "cell_type": "code",
   "execution_count": 327,
   "id": "6d810846-01c7-4e5a-8050-44a66200f51f",
   "metadata": {},
   "outputs": [],
   "source": [
    "# Определение схемы данных\n",
    "load_schema = {\n",
    "    \"name\": pl.Utf8,\n",
    "    \"price\": pl.Float64,\n",
    "    \"date_added\": pl.Date,\n",
    "    \"store\": pl.Utf8,\n",
    "    \"brand\": pl.Utf8,\n",
    "    \"weight\": pl.Float32,\n",
    "    \"unit\": pl.Utf8,\n",
    "    \"fat_content\": pl.Float32,\n",
    "    \"is_sliced\": pl.Boolean,\n",
    "    \"is_bzmj\": pl.Boolean,\n",
    "    \"is_creamy\": pl.Boolean,\n",
    "    \"discount\": pl.Float32,\n",
    "    \"rating\": pl.Float32\n",
    "}"
   ]
  },
  {
   "cell_type": "code",
   "execution_count": 345,
   "id": "0df3bda7-2334-4baa-8a8e-7ca744256031",
   "metadata": {},
   "outputs": [
    {
     "data": {
      "text/html": [
       "<div><style>\n",
       ".dataframe > thead > tr,\n",
       ".dataframe > tbody > tr {\n",
       "  text-align: right;\n",
       "  white-space: pre-wrap;\n",
       "}\n",
       "</style>\n",
       "<small>shape: (5, 13)</small><table border=\"1\" class=\"dataframe\"><thead><tr><th>name</th><th>price</th><th>date_added</th><th>store</th><th>brand</th><th>weight</th><th>unit</th><th>fat_content</th><th>is_sliced</th><th>is_bzmj</th><th>is_creamy</th><th>discount</th><th>rating</th></tr><tr><td>str</td><td>f64</td><td>date</td><td>str</td><td>str</td><td>f32</td><td>str</td><td>f32</td><td>bool</td><td>bool</td><td>bool</td><td>f32</td><td>f32</td></tr></thead><tbody><tr><td>&quot;Сыр Брест-Литовск Маасдам 45% 200г&quot;</td><td>269.99</td><td>2025-04-04</td><td>&quot;Магнит&quot;</td><td>&quot;Брест-Литовск Маасдам&quot;</td><td>200.0</td><td>&quot;г&quot;</td><td>45.0</td><td>null</td><td>null</td><td>null</td><td>null</td><td>4.7</td></tr><tr><td>&quot;Сыр Ларец с грецкими орехами 45% БЗМЖ 245г&quot;</td><td>269.99</td><td>2025-03-29</td><td>&quot;Пятерочка&quot;</td><td>&quot;Ларец&quot;</td><td>245.0</td><td>&quot;г&quot;</td><td>45.0</td><td>null</td><td>true</td><td>null</td><td>null</td><td>4.91</td></tr><tr><td>&quot;Сыр плавленый Viola Cливочный 45% 140г&quot;</td><td>139.99</td><td>2025-04-09</td><td>&quot;Магнит&quot;</td><td>&quot;Viola Cливочный&quot;</td><td>140.0</td><td>&quot;г&quot;</td><td>45.0</td><td>null</td><td>null</td><td>null</td><td>0.0</td><td>4.7</td></tr><tr><td>&quot;Сыр плавленый President с ветчиной 45% 400г&quot;</td><td>269.99</td><td>2025-04-04</td><td>&quot;Магнит&quot;</td><td>&quot;President&quot;</td><td>400.0</td><td>&quot;г&quot;</td><td>45.0</td><td>null</td><td>null</td><td>null</td><td>22.0</td><td>4.8</td></tr><tr><td>&quot;Сыр творожный Pretto с травами 65% 140г&quot;</td><td>114.99</td><td>2025-04-06</td><td>&quot;Магнит&quot;</td><td>&quot;Pretto&quot;</td><td>140.0</td><td>&quot;г&quot;</td><td>65.0</td><td>null</td><td>null</td><td>null</td><td>36.0</td><td>4.8</td></tr></tbody></table></div>"
      ],
      "text/plain": [
       "shape: (5, 13)\n",
       "┌──────────────────────────────────────┬────────┬────────────┬───────────┬───┬─────────┬───────────┬──────────┬────────┐\n",
       "│ name                                 ┆ price  ┆ date_added ┆ store     ┆ … ┆ is_bzmj ┆ is_creamy ┆ discount ┆ rating │\n",
       "│ ---                                  ┆ ---    ┆ ---        ┆ ---       ┆   ┆ ---     ┆ ---       ┆ ---      ┆ ---    │\n",
       "│ str                                  ┆ f64    ┆ date       ┆ str       ┆   ┆ bool    ┆ bool      ┆ f32      ┆ f32    │\n",
       "╞══════════════════════════════════════╪════════╪════════════╪═══════════╪═══╪═════════╪═══════════╪══════════╪════════╡\n",
       "│ Сыр Брест-Литовск Маасдам 45% 200г   ┆ 269.99 ┆ 2025-04-04 ┆ Магнит    ┆ … ┆ null    ┆ null      ┆ null     ┆ 4.7    │\n",
       "│ Сыр Ларец с грецкими орехами 45%     ┆ 269.99 ┆ 2025-03-29 ┆ Пятерочка ┆ … ┆ true    ┆ null      ┆ null     ┆ 4.91   │\n",
       "│ БЗМЖ 245г                            ┆        ┆            ┆           ┆   ┆         ┆           ┆          ┆        │\n",
       "│ Сыр плавленый Viola Cливочный 45%    ┆ 139.99 ┆ 2025-04-09 ┆ Магнит    ┆ … ┆ null    ┆ null      ┆ 0.0      ┆ 4.7    │\n",
       "│ 140г                                 ┆        ┆            ┆           ┆   ┆         ┆           ┆          ┆        │\n",
       "│ Сыр плавленый President с ветчиной   ┆ 269.99 ┆ 2025-04-04 ┆ Магнит    ┆ … ┆ null    ┆ null      ┆ 22.0     ┆ 4.8    │\n",
       "│ 45% 400г                             ┆        ┆            ┆           ┆   ┆         ┆           ┆          ┆        │\n",
       "│ Сыр творожный Pretto с травами 65%   ┆ 114.99 ┆ 2025-04-06 ┆ Магнит    ┆ … ┆ null    ┆ null      ┆ 36.0     ┆ 4.8    │\n",
       "│ 140г                                 ┆        ┆            ┆           ┆   ┆         ┆           ┆          ┆        │\n",
       "└──────────────────────────────────────┴────────┴────────────┴───────────┴───┴─────────┴───────────┴──────────┴────────┘"
      ]
     },
     "execution_count": 345,
     "metadata": {},
     "output_type": "execute_result"
    }
   ],
   "source": [
    "results = (\n",
    "    session\n",
    "    .query(Product)\n",
    "    .order_by(Product.date_added.asc())\n",
    "    .all()\n",
    ")\n",
    "\n",
    "data = [{\n",
    "    \"name\": product.name,\n",
    "    \"price\": product.price,\n",
    "    \"date_added\": product.date_added,\n",
    "    \"store\": product.store,\n",
    "    \"brand\": product.brand,\n",
    "    \"weight\": product.weight,\n",
    "    \"unit\": product.unit,\n",
    "    \"fat_content\": product.fat_content,\n",
    "    \"is_sliced\": product.is_sliced,\n",
    "    \"is_bzmj\": product.is_bzmj,\n",
    "    \"discount\": product.discount,\n",
    "    \"rating\": product.rating\n",
    "} for product in results]\n",
    "\n",
    "df_main = pl.DataFrame(data, schema=load_schema)\n",
    "df_main.sample(5)"
   ]
  },
  {
   "cell_type": "code",
   "execution_count": 349,
   "id": "a319baa3-1614-4b6e-83d6-d8dab02c3b16",
   "metadata": {},
   "outputs": [
    {
     "data": {
      "text/html": [
       "<div><style>\n",
       ".dataframe > thead > tr,\n",
       ".dataframe > tbody > tr {\n",
       "  text-align: right;\n",
       "  white-space: pre-wrap;\n",
       "}\n",
       "</style>\n",
       "<small>shape: (5, 16)</small><table border=\"1\" class=\"dataframe\"><thead><tr><th>name</th><th>price</th><th>date_added</th><th>store</th><th>brand</th><th>weight</th><th>unit</th><th>fat_content</th><th>is_sliced</th><th>is_bzmj</th><th>is_creamy</th><th>discount</th><th>rating</th><th>img_local_url</th><th>img_embedding</th><th>img_rating</th></tr><tr><td>str</td><td>f64</td><td>date</td><td>str</td><td>str</td><td>f32</td><td>str</td><td>f32</td><td>bool</td><td>bool</td><td>bool</td><td>f32</td><td>f32</td><td>str</td><td>list[f64]</td><td>i32</td></tr></thead><tbody><tr><td>&quot;Продукт рассольный Сиртаки Original 55% 200г&quot;</td><td>149.99</td><td>2025-04-06</td><td>&quot;Магнит&quot;</td><td>&quot;Сиртаки Original&quot;</td><td>200.0</td><td>&quot;г&quot;</td><td>55.0</td><td>null</td><td>null</td><td>null</td><td>0.0</td><td>4.8</td><td>&quot;C:\\Users\\admin\\Desktop\\Learning\\Magister\\Semester_2\\Data EDA\\lab1\\Магнит\\Продукт рассольный Сиртаки Original 55% 200г.jpg&quot;</td><td>[1.3181e-17, 1.3181e-17, … 1.3181e-17]</td><td>3</td></tr><tr><td>&quot;Сыр Laplandia Edam нарезка 45% БЗМЖ 120г&quot;</td><td>197.99</td><td>2025-04-11</td><td>&quot;Пятерочка&quot;</td><td>&quot;Laplandia Edam&quot;</td><td>120.0</td><td>&quot;г&quot;</td><td>45.0</td><td>true</td><td>true</td><td>null</td><td>0.0</td><td>4.92</td><td>null</td><td>null</td><td>null</td></tr><tr><td>&quot;Сыр Hochland Грюнландер полутвердый 50% БЗМЖ 400г&quot;</td><td>409.99</td><td>2025-04-06</td><td>&quot;Пятерочка&quot;</td><td>&quot;Hochland Грюнландер&quot;</td><td>400.0</td><td>&quot;г&quot;</td><td>50.0</td><td>null</td><td>true</td><td>null</td><td>10.0</td><td>4.92</td><td>&quot;C:\\Users\\admin\\Desktop\\Learning\\Magister\\Semester_2\\Data EDA\\lab1\\Пятерочка\\Сыр Hochland Грюнландер полутвердый 50% БЗМЖ 400г.jpeg&quot;</td><td>[4.3947e-18, 4.3947e-18, … 4.3947e-18]</td><td>4</td></tr><tr><td>&quot;Сыр Поставы Городок Голландский премиум нарезка 45% 150г&quot;</td><td>169.99</td><td>2025-03-29</td><td>&quot;Магнит&quot;</td><td>&quot;Поставы Городок Голландский&quot;</td><td>150.0</td><td>&quot;г&quot;</td><td>45.0</td><td>true</td><td>null</td><td>null</td><td>null</td><td>4.7</td><td>&quot;C:\\Users\\admin\\Desktop\\Learning\\Magister\\Semester_2\\Data EDA\\lab1\\Магнит\\Сыр Поставы Городок Голландский премиум нарезка 45% 150г.jpg&quot;</td><td>[9.9022e-19, 9.9022e-19, … 9.9022e-19]</td><td>2</td></tr><tr><td>&quot;Сыр ЭкоНива Momente aus Schollbrunn полутвердый 50% 200г&quot;</td><td>199.99</td><td>2025-04-04</td><td>&quot;Магнит&quot;</td><td>&quot;ЭкоНива Momente&quot;</td><td>200.0</td><td>&quot;г&quot;</td><td>50.0</td><td>null</td><td>null</td><td>null</td><td>13.0</td><td>4.7</td><td>&quot;C:\\Users\\admin\\Desktop\\Learning\\Magister\\Semester_2\\Data EDA\\lab1\\Магнит\\Сыр ЭкоНива Momente aus Schollbrunn полутвердый 50% 200г.jpg&quot;</td><td>[1.0580e-18, 1.0580e-18, … 1.0580e-18]</td><td>4</td></tr></tbody></table></div>"
      ],
      "text/plain": [
       "shape: (5, 16)\n",
       "┌─────────────────────┬────────┬────────────┬───────────┬───┬────────┬────────────────────┬───────────────┬────────────┐\n",
       "│ name                ┆ price  ┆ date_added ┆ store     ┆ … ┆ rating ┆ img_local_url      ┆ img_embedding ┆ img_rating │\n",
       "│ ---                 ┆ ---    ┆ ---        ┆ ---       ┆   ┆ ---    ┆ ---                ┆ ---           ┆ ---        │\n",
       "│ str                 ┆ f64    ┆ date       ┆ str       ┆   ┆ f32    ┆ str                ┆ list[f64]     ┆ i32        │\n",
       "╞═════════════════════╪════════╪════════════╪═══════════╪═══╪════════╪════════════════════╪═══════════════╪════════════╡\n",
       "│ Продукт рассольный  ┆ 149.99 ┆ 2025-04-06 ┆ Магнит    ┆ … ┆ 4.8    ┆ C:\\Users\\admin\\Des ┆ [1.3181e-17,  ┆ 3          │\n",
       "│ Сиртаки Original    ┆        ┆            ┆           ┆   ┆        ┆ ktop\\Learning\\Magi ┆ 1.3181e-17, … ┆            │\n",
       "│ 55% 200г            ┆        ┆            ┆           ┆   ┆        ┆ ster\\Semester_2\\Da ┆ 1.3181e-17]   ┆            │\n",
       "│                     ┆        ┆            ┆           ┆   ┆        ┆ ta EDA\\lab1\\Магнит ┆               ┆            │\n",
       "│                     ┆        ┆            ┆           ┆   ┆        ┆ \\Продукт           ┆               ┆            │\n",
       "│                     ┆        ┆            ┆           ┆   ┆        ┆ рассольный Сиртаки ┆               ┆            │\n",
       "│                     ┆        ┆            ┆           ┆   ┆        ┆ Original 55%       ┆               ┆            │\n",
       "│                     ┆        ┆            ┆           ┆   ┆        ┆ 200г.jpg           ┆               ┆            │\n",
       "│ Сыр Laplandia Edam  ┆ 197.99 ┆ 2025-04-11 ┆ Пятерочка ┆ … ┆ 4.92   ┆ null               ┆ null          ┆ null       │\n",
       "│ нарезка 45% БЗМЖ    ┆        ┆            ┆           ┆   ┆        ┆                    ┆               ┆            │\n",
       "│ 120г                ┆        ┆            ┆           ┆   ┆        ┆                    ┆               ┆            │\n",
       "│ Сыр Hochland        ┆ 409.99 ┆ 2025-04-06 ┆ Пятерочка ┆ … ┆ 4.92   ┆ C:\\Users\\admin\\Des ┆ [4.3947e-18,  ┆ 4          │\n",
       "│ Грюнландер          ┆        ┆            ┆           ┆   ┆        ┆ ktop\\Learning\\Magi ┆ 4.3947e-18, … ┆            │\n",
       "│ полутвердый 50%     ┆        ┆            ┆           ┆   ┆        ┆ ster\\Semester_2\\Da ┆ 4.3947e-18]   ┆            │\n",
       "│ БЗМЖ 400г           ┆        ┆            ┆           ┆   ┆        ┆ ta EDA\\lab1\\Пятеро ┆               ┆            │\n",
       "│                     ┆        ┆            ┆           ┆   ┆        ┆ чка\\Сыр Hochland   ┆               ┆            │\n",
       "│                     ┆        ┆            ┆           ┆   ┆        ┆ Грюнландер         ┆               ┆            │\n",
       "│                     ┆        ┆            ┆           ┆   ┆        ┆ полутвердый 50%    ┆               ┆            │\n",
       "│                     ┆        ┆            ┆           ┆   ┆        ┆ БЗМЖ 400г.jpeg     ┆               ┆            │\n",
       "│ Сыр Поставы Городок ┆ 169.99 ┆ 2025-03-29 ┆ Магнит    ┆ … ┆ 4.7    ┆ C:\\Users\\admin\\Des ┆ [9.9022e-19,  ┆ 2          │\n",
       "│ Голландский премиум ┆        ┆            ┆           ┆   ┆        ┆ ktop\\Learning\\Magi ┆ 9.9022e-19, … ┆            │\n",
       "│ нарезка 45% 150г    ┆        ┆            ┆           ┆   ┆        ┆ ster\\Semester_2\\Da ┆ 9.9022e-19]   ┆            │\n",
       "│                     ┆        ┆            ┆           ┆   ┆        ┆ ta EDA\\lab1\\Магнит ┆               ┆            │\n",
       "│                     ┆        ┆            ┆           ┆   ┆        ┆ \\Сыр Поставы       ┆               ┆            │\n",
       "│                     ┆        ┆            ┆           ┆   ┆        ┆ Городок            ┆               ┆            │\n",
       "│                     ┆        ┆            ┆           ┆   ┆        ┆ Голландский        ┆               ┆            │\n",
       "│                     ┆        ┆            ┆           ┆   ┆        ┆ премиум нарезка    ┆               ┆            │\n",
       "│                     ┆        ┆            ┆           ┆   ┆        ┆ 45% 150г.jpg       ┆               ┆            │\n",
       "│ Сыр ЭкоНива Momente ┆ 199.99 ┆ 2025-04-04 ┆ Магнит    ┆ … ┆ 4.7    ┆ C:\\Users\\admin\\Des ┆ [1.0580e-18,  ┆ 4          │\n",
       "│ aus Schollbrunn     ┆        ┆            ┆           ┆   ┆        ┆ ktop\\Learning\\Magi ┆ 1.0580e-18, … ┆            │\n",
       "│ полутвердый 50%     ┆        ┆            ┆           ┆   ┆        ┆ ster\\Semester_2\\Da ┆ 1.0580e-18]   ┆            │\n",
       "│ 200г                ┆        ┆            ┆           ┆   ┆        ┆ ta EDA\\lab1\\Магнит ┆               ┆            │\n",
       "│                     ┆        ┆            ┆           ┆   ┆        ┆ \\Сыр ЭкоНива       ┆               ┆            │\n",
       "│                     ┆        ┆            ┆           ┆   ┆        ┆ Momente aus        ┆               ┆            │\n",
       "│                     ┆        ┆            ┆           ┆   ┆        ┆ Schollbrunn        ┆               ┆            │\n",
       "│                     ┆        ┆            ┆           ┆   ┆        ┆ полутвердый 50%    ┆               ┆            │\n",
       "│                     ┆        ┆            ┆           ┆   ┆        ┆ 200г.jpg           ┆               ┆            │\n",
       "└─────────────────────┴────────┴────────────┴───────────┴───┴────────┴────────────────────┴───────────────┴────────────┘"
      ]
     },
     "execution_count": 349,
     "metadata": {},
     "output_type": "execute_result"
    }
   ],
   "source": [
    "df_joined = (\n",
    "    df_main.join(df_marked.drop('store'), on='name', how='left')\n",
    ")\n",
    "df_joined.sample(5)"
   ]
  },
  {
   "cell_type": "markdown",
   "id": "f054e83d-aca3-4533-a5d2-0cd8e71a6dec",
   "metadata": {},
   "source": [
    "Мультимодальные данные можно использовать для предсказания стоимости товара. Эмбеддинг изображения добавляет информацию о привлекательности.\n",
    "Для предсказания стоимости товара можно использовать градиентый бустинг."
   ]
  },
  {
   "cell_type": "code",
   "execution_count": null,
   "id": "10b94a0a-56b7-4079-980d-601b347847c5",
   "metadata": {},
   "outputs": [],
   "source": []
  }
 ],
 "metadata": {
  "kernelspec": {
   "display_name": "Python 3 (ipykernel)",
   "language": "python",
   "name": "python3"
  },
  "language_info": {
   "codemirror_mode": {
    "name": "ipython",
    "version": 3
   },
   "file_extension": ".py",
   "mimetype": "text/x-python",
   "name": "python",
   "nbconvert_exporter": "python",
   "pygments_lexer": "ipython3",
   "version": "3.12.4"
  }
 },
 "nbformat": 4,
 "nbformat_minor": 5
}
