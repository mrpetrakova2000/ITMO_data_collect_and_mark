{
 "cells": [
  {
   "cell_type": "markdown",
   "id": "357578c4-aeef-4ab7-a7eb-c05450500d79",
   "metadata": {},
   "source": [
    "# Лабораторная работа 2"
   ]
  },
  {
   "cell_type": "markdown",
   "id": "f0e45c44-c61d-451d-83ef-6a9fa6773fb3",
   "metadata": {},
   "source": [
    "## Постановка задачи"
   ]
  },
  {
   "cell_type": "markdown",
   "id": "4c62f345-ff2a-48d2-98bd-22287f0b46a0",
   "metadata": {},
   "source": [
    "**Часть 1: «Следствие ведёт детектив»**\r\n",
    "\r\n",
    "- Возьмите датасет из задания №1 \r\n",
    "- Проанализируйте пропуски: определите их процент и расположение (случайны ли пропуски или есть закономерность?)\r\n",
    "- Сформулируйте гипотезу о возможных причинах появления пропусков.\r\n",
    "- Проанализируйте датасет на выбросы удобным вам методом.\r\n",
    "\r\n",
    "---\r\n",
    "\r\n",
    "**Часть 2: «Выбор подходящего оружия»**\r\n",
    "\r\n",
    "- Примените несколько разных методов работы с пропусками, выбросами.\r\n",
    "- Приведите данные в единый вид, поработайте над категориальными признаками.\r\n",
    "- Оцените, как каждый из методов повлиял на распределение данных и результаты простого анализа (например, расчёт среднего или простая регрессия).\r\n",
    "\r\n",
    "---\r\n",
    "\r\n",
    "**Часть 3: «Раскрытие дела»**\r\n",
    "\r\n",
    "- Выберите и обоснуйте самый эффективный метод для вашего набора данных.\r\n",
    "- Сформулируйте краткую рекомендацию по оптимальному подходу к обработке пропущенных значений в вашем датасете.\r\n",
    "\r\n",
    "🏆 **Дополнительные баллы** («Расследование с изюминкой»):\r\n",
    "\r\n",
    "*+3 балла* Предложите собственный метод или комбинацию методов, которые лучше всего подходят именно для вашего случая. именно для вашего случая."
   ]
  },
  {
   "cell_type": "markdown",
   "id": "1ca94764-c653-45b0-8ba9-f4724662f4f4",
   "metadata": {},
   "source": [
    "## Описание датасета"
   ]
  },
  {
   "cell_type": "markdown",
   "id": "46e19f8c-5043-451a-ad18-7f5843030e16",
   "metadata": {},
   "source": [
    "**Идея:**\n",
    "\n",
    "Получить данные о продуктах и ценах на них в разных магазинах, для возможности поиска наиболее выгодных предложений.\n",
    "Также предполагается извлечение дополнительных признаков из описания товаров и поддержка гибкого добавления новых источников (магазинов).\n",
    "Производится веб-скрейпинг данных с сайтов https://magnit.ru/ (Магнит) и https://5ka.ru/ (Пятерочка). В данной работе производится сбор данных о ценах на товары категории \"Сыр\", за продолжительное время (в идеале, за каждый день)."
   ]
  },
  {
   "cell_type": "markdown",
   "id": "74feaac7-0fcc-4196-9a0c-520eccf05a27",
   "metadata": {},
   "source": [
    "## Импорт библиотек"
   ]
  },
  {
   "cell_type": "code",
   "execution_count": 156,
   "id": "5126b848-4253-40b0-a235-a181536c0e44",
   "metadata": {},
   "outputs": [],
   "source": [
    "!pip install -q ydata_profiling psycopg2 matplotlib seaborn polars scikit-learn fancyimpute rapidfuzz"
   ]
  },
  {
   "cell_type": "code",
   "execution_count": 157,
   "id": "6d4808ed-5231-4888-9781-b91b2fb9be74",
   "metadata": {},
   "outputs": [],
   "source": [
    "from sqlalchemy import create_engine, Column, Float, String, Date, Boolean, Integer\n",
    "from sqlalchemy.ext.declarative import declarative_base\n",
    "from sqlalchemy.orm import sessionmaker\n",
    "\n",
    "from ydata_profiling import ProfileReport\n",
    "from typing import Optional, Tuple, Dict\n",
    "from sklearn.impute import SimpleImputer\n",
    "from fancyimpute import IterativeImputer\n",
    "\n",
    "import matplotlib.pyplot as plt\n",
    "from rapidfuzz import fuzz\n",
    "from datetime import date\n",
    "import seaborn as sns\n",
    "import pandas as pd\n",
    "import polars as pl\n",
    "import numpy as np\n",
    "import requests\n",
    "import random\n",
    "import time\n",
    "import csv\n",
    "import os\n",
    "import re"
   ]
  },
  {
   "cell_type": "markdown",
   "id": "c1aad84a-a684-481a-af99-115b932b9be0",
   "metadata": {},
   "source": [
    "## Конфигурация подключения к базе данных"
   ]
  },
  {
   "cell_type": "code",
   "execution_count": 159,
   "id": "4921c33c-68ec-4056-a45c-e633953abf57",
   "metadata": {},
   "outputs": [
    {
     "name": "stderr",
     "output_type": "stream",
     "text": [
      "C:\\Users\\admin\\AppData\\Local\\Temp\\ipykernel_9588\\988954521.py:1: MovedIn20Warning: The ``declarative_base()`` function is now available as sqlalchemy.orm.declarative_base(). (deprecated since: 2.0) (Background on SQLAlchemy 2.0 at: https://sqlalche.me/e/b8d9)\n",
      "  Base = declarative_base()\n"
     ]
    }
   ],
   "source": [
    "Base = declarative_base()\n",
    "\n",
    "DATABASE_URL = \"postgresql+psycopg2://{username}:{password}@{host}:{port}/{db_name}\".format(\n",
    "    host=os.getenv(\"POSTGRES_HOST\", \"localhost\"),\n",
    "    port=os.getenv(\"POSTGRES_PORT\", \"5432\"),\n",
    "    db_name=os.getenv(\"POSTGRES_DB\", \"store_parser\"),\n",
    "    username=os.getenv(\"POSTGRES_USER\", \"postgres\"),\n",
    "    password=os.getenv(\"POSTGRES_PASSWORD\", \"123456\"),\n",
    "\n",
    ")\n",
    "\n",
    "def init_db():\n",
    "    engine = create_engine(DATABASE_URL)\n",
    "    Base.metadata.create_all(engine)\n",
    "    Session = sessionmaker(bind=engine)\n",
    "    return Session()"
   ]
  },
  {
   "cell_type": "markdown",
   "id": "8a9d9e2e-3bc6-4c0f-91f9-2cccc7029935",
   "metadata": {},
   "source": [
    "## Класс, соответствующий структуре таблицы в БД"
   ]
  },
  {
   "cell_type": "code",
   "execution_count": 161,
   "id": "53ebea59-c460-4752-892f-c07678ecdfa4",
   "metadata": {},
   "outputs": [],
   "source": [
    "class Product(Base):\n",
    "    __tablename__ = 'store_products'\n",
    "\n",
    "    name = Column(String, nullable=False, primary_key=True)\n",
    "    brand = Column(String)\n",
    "    price = Column(Float)  \n",
    "    weight = Column(Float)\n",
    "    unit = Column(String)\n",
    "    fat_content = Column(Float, nullable=True)\n",
    "    is_sliced = Column(Boolean, nullable=True)\n",
    "    is_bzmj = Column(Boolean, nullable=True)\n",
    "    is_creamy = Column(Boolean, nullable=True)\n",
    "    discount = Column(Float, nullable=True) \n",
    "    rating = Column(Float, nullable=True)\n",
    "    date_added = Column(Date, default=date.today, primary_key=True)  \n",
    "    store = Column(String, nullable=False, primary_key=True)\n",
    "\n",
    "    __table_args__ = {'extend_existing': True}\n",
    "\n",
    "    def __repr__(self):\n",
    "        return f\"<Product(name='{self.name}', price={self.price}, date_added={self.date_added}, store={self.store})>\""
   ]
  },
  {
   "cell_type": "markdown",
   "id": "876803c4-038e-4d75-84e8-3c65dc61efcd",
   "metadata": {},
   "source": [
    "## Инициализация БД"
   ]
  },
  {
   "cell_type": "code",
   "execution_count": 163,
   "id": "69cb0ff7-394b-4986-b079-2ceacc8e8c37",
   "metadata": {},
   "outputs": [],
   "source": [
    "session = init_db()"
   ]
  },
  {
   "cell_type": "code",
   "execution_count": 164,
   "id": "34e6f244-6219-40e6-a93e-3d9549afd96b",
   "metadata": {},
   "outputs": [],
   "source": [
    "# Определение схемы данных\n",
    "load_schema = {\n",
    "    \"name\": pl.Utf8,\n",
    "    \"price\": pl.Float64,\n",
    "    \"date_added\": pl.Date,\n",
    "    \"store\": pl.Utf8,\n",
    "    \"brand\": pl.Utf8,\n",
    "    \"weight\": pl.Float32,\n",
    "    \"unit\": pl.Utf8,\n",
    "    \"fat_content\": pl.Float32,\n",
    "    \"is_sliced\": pl.Boolean,\n",
    "    \"is_bzmj\": pl.Boolean,\n",
    "    \"is_creamy\": pl.Boolean,\n",
    "    \"discount\": pl.Float32,\n",
    "    \"rating\": pl.Float32\n",
    "}"
   ]
  },
  {
   "cell_type": "markdown",
   "id": "ba8253d5-989b-43b5-a861-a292e36a8149",
   "metadata": {},
   "source": [
    "## Получение всех данных"
   ]
  },
  {
   "cell_type": "code",
   "execution_count": 166,
   "id": "30c311b2-76a3-4439-b125-1f1848eb9ce6",
   "metadata": {},
   "outputs": [
    {
     "data": {
      "text/html": [
       "<div><style>\n",
       ".dataframe > thead > tr,\n",
       ".dataframe > tbody > tr {\n",
       "  text-align: right;\n",
       "  white-space: pre-wrap;\n",
       "}\n",
       "</style>\n",
       "<small>shape: (5, 13)</small><table border=\"1\" class=\"dataframe\"><thead><tr><th>name</th><th>price</th><th>date_added</th><th>store</th><th>brand</th><th>weight</th><th>unit</th><th>fat_content</th><th>is_sliced</th><th>is_bzmj</th><th>is_creamy</th><th>discount</th><th>rating</th></tr><tr><td>str</td><td>f64</td><td>date</td><td>str</td><td>str</td><td>f32</td><td>str</td><td>f32</td><td>bool</td><td>bool</td><td>bool</td><td>f32</td><td>f32</td></tr></thead><tbody><tr><td>&quot;Сыр Поставы Городок Пармезан гранд 45% 200г&quot;</td><td>179.99</td><td>2025-03-26</td><td>&quot;Магнит&quot;</td><td>&quot;Поставы Городок Пармезан&quot;</td><td>200.0</td><td>&quot;г&quot;</td><td>45.0</td><td>null</td><td>null</td><td>null</td><td>null</td><td>null</td></tr><tr><td>&quot;Сыр Hochland Сливочный плавленый 55% БЗМЖ 200г&quot;</td><td>175.99</td><td>2025-04-03</td><td>&quot;Пятерочка&quot;</td><td>&quot;Hochland Сливочный&quot;</td><td>200.0</td><td>&quot;г&quot;</td><td>55.0</td><td>null</td><td>true</td><td>true</td><td>20.0</td><td>4.94</td></tr><tr><td>&quot;Сыр Viola Бутербродный нарезка 45% 120г&quot;</td><td>149.99</td><td>2025-04-04</td><td>&quot;Магнит&quot;</td><td>&quot;Viola Бутербродный&quot;</td><td>120.0</td><td>&quot;г&quot;</td><td>45.0</td><td>true</td><td>null</td><td>null</td><td>16.0</td><td>4.7</td></tr><tr><td>&quot;Сыр Поставы Городок Пармезан гранд 45% 200г&quot;</td><td>179.99</td><td>2025-03-29</td><td>&quot;Магнит&quot;</td><td>&quot;Поставы Городок Пармезан&quot;</td><td>200.0</td><td>&quot;г&quot;</td><td>45.0</td><td>null</td><td>null</td><td>null</td><td>10.0</td><td>4.5</td></tr><tr><td>&quot;Сыр Pretto Маскарпоне 80% 250г&quot;</td><td>279.99</td><td>2025-04-03</td><td>&quot;Магнит&quot;</td><td>&quot;Pretto Маскарпоне&quot;</td><td>250.0</td><td>&quot;г&quot;</td><td>80.0</td><td>null</td><td>null</td><td>null</td><td>30.0</td><td>4.8</td></tr></tbody></table></div>"
      ],
      "text/plain": [
       "shape: (5, 13)\n",
       "┌──────────────────────────────────────┬────────┬────────────┬───────────┬───┬─────────┬───────────┬──────────┬────────┐\n",
       "│ name                                 ┆ price  ┆ date_added ┆ store     ┆ … ┆ is_bzmj ┆ is_creamy ┆ discount ┆ rating │\n",
       "│ ---                                  ┆ ---    ┆ ---        ┆ ---       ┆   ┆ ---     ┆ ---       ┆ ---      ┆ ---    │\n",
       "│ str                                  ┆ f64    ┆ date       ┆ str       ┆   ┆ bool    ┆ bool      ┆ f32      ┆ f32    │\n",
       "╞══════════════════════════════════════╪════════╪════════════╪═══════════╪═══╪═════════╪═══════════╪══════════╪════════╡\n",
       "│ Сыр Поставы Городок Пармезан гранд   ┆ 179.99 ┆ 2025-03-26 ┆ Магнит    ┆ … ┆ null    ┆ null      ┆ null     ┆ null   │\n",
       "│ 45% 200г                             ┆        ┆            ┆           ┆   ┆         ┆           ┆          ┆        │\n",
       "│ Сыр Hochland Сливочный плавленый 55% ┆ 175.99 ┆ 2025-04-03 ┆ Пятерочка ┆ … ┆ true    ┆ true      ┆ 20.0     ┆ 4.94   │\n",
       "│ БЗМЖ 200г                            ┆        ┆            ┆           ┆   ┆         ┆           ┆          ┆        │\n",
       "│ Сыр Viola Бутербродный нарезка 45%   ┆ 149.99 ┆ 2025-04-04 ┆ Магнит    ┆ … ┆ null    ┆ null      ┆ 16.0     ┆ 4.7    │\n",
       "│ 120г                                 ┆        ┆            ┆           ┆   ┆         ┆           ┆          ┆        │\n",
       "│ Сыр Поставы Городок Пармезан гранд   ┆ 179.99 ┆ 2025-03-29 ┆ Магнит    ┆ … ┆ null    ┆ null      ┆ 10.0     ┆ 4.5    │\n",
       "│ 45% 200г                             ┆        ┆            ┆           ┆   ┆         ┆           ┆          ┆        │\n",
       "│ Сыр Pretto Маскарпоне 80% 250г       ┆ 279.99 ┆ 2025-04-03 ┆ Магнит    ┆ … ┆ null    ┆ null      ┆ 30.0     ┆ 4.8    │\n",
       "└──────────────────────────────────────┴────────┴────────────┴───────────┴───┴─────────┴───────────┴──────────┴────────┘"
      ]
     },
     "execution_count": 166,
     "metadata": {},
     "output_type": "execute_result"
    }
   ],
   "source": [
    "results = (\n",
    "    session\n",
    "    .query(Product)\n",
    "    .order_by(Product.date_added.asc())\n",
    "    .all()\n",
    ")\n",
    "\n",
    "data = [{\n",
    "    \"name\": product.name,\n",
    "    \"price\": product.price,\n",
    "    \"date_added\": product.date_added,\n",
    "    \"store\": product.store,\n",
    "    \"brand\": product.brand,\n",
    "    \"weight\": product.weight,\n",
    "    \"unit\": product.unit,\n",
    "    \"fat_content\": product.fat_content,\n",
    "    \"is_sliced\": product.is_sliced,\n",
    "    \"is_creamy\": product.is_creamy,\n",
    "    \"is_bzmj\": product.is_bzmj,\n",
    "    \"discount\": product.discount,\n",
    "    \"rating\": product.rating\n",
    "} for product in results]\n",
    "\n",
    "# df = pd.DataFrame(data)\n",
    "df = pl.DataFrame(data, schema=load_schema)\n",
    "df.sample(5)"
   ]
  },
  {
   "cell_type": "code",
   "execution_count": 167,
   "id": "f05399fd-d73c-4cd9-9d8b-4468d4905ec9",
   "metadata": {},
   "outputs": [],
   "source": [
    "session.close()"
   ]
  },
  {
   "cell_type": "markdown",
   "id": "563a9d3b-ea35-4ec8-9cd4-e1a3a9521a42",
   "metadata": {},
   "source": [
    "## Анализ данных"
   ]
  },
  {
   "cell_type": "code",
   "execution_count": 169,
   "id": "c53ede8c-f193-4315-9e1f-541af50a3185",
   "metadata": {},
   "outputs": [
    {
     "name": "stdout",
     "output_type": "stream",
     "text": [
      "<class 'pandas.core.frame.DataFrame'>\n",
      "RangeIndex: 1572 entries, 0 to 1571\n",
      "Data columns (total 13 columns):\n",
      " #   Column       Non-Null Count  Dtype         \n",
      "---  ------       --------------  -----         \n",
      " 0   name         1572 non-null   object        \n",
      " 1   price        1572 non-null   float64       \n",
      " 2   date_added   1572 non-null   datetime64[ms]\n",
      " 3   store        1572 non-null   object        \n",
      " 4   brand        1572 non-null   object        \n",
      " 5   weight       1572 non-null   float32       \n",
      " 6   unit         1572 non-null   object        \n",
      " 7   fat_content  1512 non-null   float32       \n",
      " 8   is_sliced    181 non-null    object        \n",
      " 9   is_bzmj      880 non-null    object        \n",
      " 10  is_creamy    527 non-null    object        \n",
      " 11  discount     739 non-null    float32       \n",
      " 12  rating       1151 non-null   float32       \n",
      "dtypes: datetime64[ms](1), float32(4), float64(1), object(7)\n",
      "memory usage: 135.2+ KB\n"
     ]
    }
   ],
   "source": [
    "df.to_pandas().info()"
   ]
  },
  {
   "cell_type": "markdown",
   "id": "bbf016a1-9199-4dc9-847c-2724b54a15c5",
   "metadata": {},
   "source": [
    "### Отчет о качестве данных от YData"
   ]
  },
  {
   "cell_type": "code",
   "execution_count": 171,
   "id": "4c046756-e131-491b-8d86-320372b799dc",
   "metadata": {},
   "outputs": [
    {
     "data": {
      "application/vnd.jupyter.widget-view+json": {
       "model_id": "90d2c88b3fb24cc38873403a021c319f",
       "version_major": 2,
       "version_minor": 0
      },
      "text/plain": [
       "Summarize dataset:   0%|          | 0/5 [00:00<?, ?it/s]"
      ]
     },
     "metadata": {},
     "output_type": "display_data"
    },
    {
     "name": "stderr",
     "output_type": "stream",
     "text": [
      "\n",
      "  0%|                                                                                           | 0/13 [00:00<?, ?it/s]\u001b[A\n",
      "100%|██████████████████████████████████████████████████████████████████████████████████| 13/13 [00:00<00:00, 53.40it/s]\u001b[A\n"
     ]
    },
    {
     "data": {
      "application/vnd.jupyter.widget-view+json": {
       "model_id": "c316eebefe87472b9971848e5dc76912",
       "version_major": 2,
       "version_minor": 0
      },
      "text/plain": [
       "Generate report structure:   0%|          | 0/1 [00:00<?, ?it/s]"
      ]
     },
     "metadata": {},
     "output_type": "display_data"
    },
    {
     "data": {
      "application/vnd.jupyter.widget-view+json": {
       "model_id": "c23a18f3d5f04faf85b95e49d79a1165",
       "version_major": 2,
       "version_minor": 0
      },
      "text/plain": [
       "Render HTML:   0%|          | 0/1 [00:00<?, ?it/s]"
      ]
     },
     "metadata": {},
     "output_type": "display_data"
    },
    {
     "data": {
      "application/vnd.jupyter.widget-view+json": {
       "model_id": "d32f6f475099430baca3f944fade715c",
       "version_major": 2,
       "version_minor": 0
      },
      "text/plain": [
       "Export report to file:   0%|          | 0/1 [00:00<?, ?it/s]"
      ]
     },
     "metadata": {},
     "output_type": "display_data"
    }
   ],
   "source": [
    "profile = ProfileReport(df.to_pandas(), title=\"Data Profiling Report\", explorative=True)\n",
    "\n",
    "# Сохраняем отчет в HTML файл\n",
    "profile.to_file(\"data_profile_report.html\")"
   ]
  },
  {
   "cell_type": "markdown",
   "id": "4b79ff84-62bd-4ddc-863c-00d129fcdb3a",
   "metadata": {},
   "source": [
    "### Заполнение пропусков bool-значений"
   ]
  },
  {
   "cell_type": "markdown",
   "id": "591192d3-d06e-4bb7-a00f-3d13dabf6a8f",
   "metadata": {},
   "source": [
    "#### Поле is_sliced"
   ]
  },
  {
   "cell_type": "markdown",
   "id": "e3c919e4-d775-4823-8330-9e76d2adc77d",
   "metadata": {},
   "source": [
    "Предположим, что могут быть другие подстроки, определяющие флаг того, что сыр в нарезке. Попробуем найти подстроки \"%рез%\", \"%ломт%\", \"%слайс%\". Для остальных по логике проставим false вместо null."
   ]
  },
  {
   "cell_type": "code",
   "execution_count": 175,
   "id": "3c5867a5-7ed5-4f77-8c99-d3968fcd3361",
   "metadata": {},
   "outputs": [],
   "source": [
    "sliced_sub = ['рез', 'ломт', 'слайс']"
   ]
  },
  {
   "cell_type": "code",
   "execution_count": 176,
   "id": "53cbb918-7a76-41f9-ada5-b3598a4319e1",
   "metadata": {},
   "outputs": [
    {
     "data": {
      "text/html": [
       "<div><style>\n",
       ".dataframe > thead > tr,\n",
       ".dataframe > tbody > tr {\n",
       "  text-align: right;\n",
       "  white-space: pre-wrap;\n",
       "}\n",
       "</style>\n",
       "<small>shape: (4, 3)</small><table border=\"1\" class=\"dataframe\"><thead><tr><th>name</th><th>store</th><th>is_sliced</th></tr><tr><td>str</td><td>str</td><td>bool</td></tr></thead><tbody><tr><td>&quot;Сыр Hochland Гриль Чиз плавленый ломтики 40% БЗМЖ 150г&quot;</td><td>&quot;Пятерочка&quot;</td><td>null</td></tr><tr><td>&quot;Сыр плавленый Hochland Чизбургер ломтики 45% 150г&quot;</td><td>&quot;Магнит&quot;</td><td>null</td></tr><tr><td>&quot;Сыр плавленый Hochland Сэндвич ломтики 45% БЗМЖ 150г&quot;</td><td>&quot;Пятерочка&quot;</td><td>null</td></tr><tr><td>&quot;Сыр Сыробогатов Для бургера плавленый слайсы 25% БЗМЖ 112г&quot;</td><td>&quot;Пятерочка&quot;</td><td>null</td></tr></tbody></table></div>"
      ],
      "text/plain": [
       "shape: (4, 3)\n",
       "┌────────────────────────────────────────────────────────────┬───────────┬───────────┐\n",
       "│ name                                                       ┆ store     ┆ is_sliced │\n",
       "│ ---                                                        ┆ ---       ┆ ---       │\n",
       "│ str                                                        ┆ str       ┆ bool      │\n",
       "╞════════════════════════════════════════════════════════════╪═══════════╪═══════════╡\n",
       "│ Сыр Hochland Гриль Чиз плавленый ломтики 40% БЗМЖ 150г     ┆ Пятерочка ┆ null      │\n",
       "│ Сыр плавленый Hochland Чизбургер ломтики 45% 150г          ┆ Магнит    ┆ null      │\n",
       "│ Сыр плавленый Hochland Сэндвич ломтики 45% БЗМЖ 150г       ┆ Пятерочка ┆ null      │\n",
       "│ Сыр Сыробогатов Для бургера плавленый слайсы 25% БЗМЖ 112г ┆ Пятерочка ┆ null      │\n",
       "└────────────────────────────────────────────────────────────┴───────────┴───────────┘"
      ]
     },
     "execution_count": 176,
     "metadata": {},
     "output_type": "execute_result"
    }
   ],
   "source": [
    "sliced = (\n",
    "    df\n",
    "    .filter(\n",
    "        ~ pl.col('name').str.contains('нарезка')\n",
    "        & pl.col('name').str.contains_any(sliced_sub)\n",
    "    )\n",
    "    .select('name', 'store', 'is_sliced')\n",
    "    .unique()\n",
    ")\n",
    "pl.Config.set_fmt_str_lengths(100)\n",
    "sliced"
   ]
  },
  {
   "cell_type": "code",
   "execution_count": 177,
   "id": "fced2d56-49cf-4068-b643-e324cb17147f",
   "metadata": {},
   "outputs": [],
   "source": [
    "df = df.with_columns(\n",
    "    pl.when(\n",
    "        ~pl.col(\"name\").str.contains(\"нарезка\") &\n",
    "        pl.col(\"name\").str.contains_any(sliced_sub)\n",
    "    )\n",
    "    .then(True)\n",
    "    .otherwise(False)\n",
    "    .alias(\"is_sliced\")\n",
    ")"
   ]
  },
  {
   "cell_type": "markdown",
   "id": "6e20123d-4c48-49cf-adf9-acfc0fe0470c",
   "metadata": {},
   "source": [
    "#### Поле is_bzmj"
   ]
  },
  {
   "cell_type": "markdown",
   "id": "5077a8b5-e986-4be2-b0f9-a169905cadaf",
   "metadata": {},
   "source": [
    "Задача не легкая, поскольку в магазине Магнит принципиально нигде не указывают этот признак. Можно попробовать по смэтченным продуктам проставить аналогично \"пятерочным\", а остальным проставить false, грубая прикидка."
   ]
  },
  {
   "cell_type": "code",
   "execution_count": 180,
   "id": "7e29688f-8dc5-4d14-b378-5c9179b38689",
   "metadata": {},
   "outputs": [],
   "source": [
    "df_copy = df.to_pandas().copy()"
   ]
  },
  {
   "cell_type": "code",
   "execution_count": 181,
   "id": "af6d488d-6657-4755-ad95-da35fa034938",
   "metadata": {},
   "outputs": [],
   "source": [
    "df_copy['name_normalized'] = df_copy['name'].str.lower()\n",
    "\n",
    "# Функция для сравнения строк с использованием rapidfuzz\n",
    "def is_similar(str1, str2, threshold=60):\n",
    "    return fuzz.ratio(str1, str2) >= threshold\n",
    "\n",
    "# Группировка товаров по схожести наименований, fat_content и weight\n",
    "def group_similar_products(df, threshold=80):\n",
    "    groups = []  # Список для хранения групп\n",
    "    group_ids = {}  # Словарь для хранения id групп\n",
    "    next_id = 1  # Счетчик для уникальных id\n",
    "\n",
    "    for i, row in df.iterrows():\n",
    "        matched_group = None\n",
    "        for group in groups:\n",
    "            # Проверяем совпадение fat_content и weight\n",
    "            if (row['fat_content'] == group['fat_content'] and\n",
    "                row['weight'] == group['weight'] and\n",
    "                row['brand'] == group['brand'] and\n",
    "                is_similar(row['name_normalized'], group['name_normalized'], threshold)):\n",
    "                matched_group = group\n",
    "                break\n",
    "\n",
    "        if matched_group:\n",
    "            group_ids[i] = matched_group['id']  # Присваиваем id существующей группы\n",
    "        else:\n",
    "            # Создаем новую группу\n",
    "            new_group = {\n",
    "                'id': next_id, \n",
    "                'name_normalized': row['name_normalized'],\n",
    "                'fat_content': row['fat_content'], \n",
    "                'brand': row['brand'],\n",
    "                'weight': row['weight']\n",
    "            }\n",
    "            groups.append(new_group)\n",
    "            group_ids[i] = next_id\n",
    "            next_id += 1\n",
    "\n",
    "    df['product_id'] = df.index.map(group_ids)\n",
    "    return df\n",
    "\n",
    "df_with_ids = group_similar_products(df_copy)"
   ]
  },
  {
   "cell_type": "code",
   "execution_count": 182,
   "id": "3f384b07-e79f-4dcf-90dd-62d4161204d6",
   "metadata": {},
   "outputs": [
    {
     "data": {
      "text/html": [
       "<div>\n",
       "<style scoped>\n",
       "    .dataframe tbody tr th:only-of-type {\n",
       "        vertical-align: middle;\n",
       "    }\n",
       "\n",
       "    .dataframe tbody tr th {\n",
       "        vertical-align: top;\n",
       "    }\n",
       "\n",
       "    .dataframe thead th {\n",
       "        text-align: right;\n",
       "    }\n",
       "</style>\n",
       "<table border=\"1\" class=\"dataframe\">\n",
       "  <thead>\n",
       "    <tr style=\"text-align: right;\">\n",
       "      <th></th>\n",
       "      <th>product_id</th>\n",
       "      <th>name</th>\n",
       "      <th>is_bzmj</th>\n",
       "    </tr>\n",
       "  </thead>\n",
       "  <tbody>\n",
       "    <tr>\n",
       "      <th>3</th>\n",
       "      <td>4</td>\n",
       "      <td>[Сыр Брест-Литовск Российский 50% 200г, Сыр полутвердый Брест-Литовск Российский 50% БЗМЖ 200г]</td>\n",
       "      <td>[None, True]</td>\n",
       "    </tr>\n",
       "    <tr>\n",
       "      <th>19</th>\n",
       "      <td>20</td>\n",
       "      <td>[Сыр творожный Hochland с зеленью 60% 140г, Сыр творожный Hochland с чесноком 60% БЗМЖ 140г, Сыр творожный Hochland сливочный 60% 140г]</td>\n",
       "      <td>[None, True]</td>\n",
       "    </tr>\n",
       "    <tr>\n",
       "      <th>95</th>\n",
       "      <td>96</td>\n",
       "      <td>[Сыр Natura Сливочный 45% 300г, Сыр Natura Сливочный нарезка 45% БЗМЖ 300г]</td>\n",
       "      <td>[None, True]</td>\n",
       "    </tr>\n",
       "    <tr>\n",
       "      <th>100</th>\n",
       "      <td>101</td>\n",
       "      <td>[Сыр Ларец с грецкими орехами 45% БЗМЖ 245г, Сыр Ларец с грецкими орехами 45% 245г]</td>\n",
       "      <td>[True, None]</td>\n",
       "    </tr>\n",
       "    <tr>\n",
       "      <th>101</th>\n",
       "      <td>102</td>\n",
       "      <td>[Сыр Фетакса без рассола 45% 200г, Сыр Фетакса без рассола 45% БЗМЖ 200г]</td>\n",
       "      <td>[None, True]</td>\n",
       "    </tr>\n",
       "    <tr>\n",
       "      <th>150</th>\n",
       "      <td>151</td>\n",
       "      <td>[Сыр Viola Бутербродный нарезка 45% 120г, Сыр Viola Бутербродный полутвердый нарезка 45% БЗМЖ 120г]</td>\n",
       "      <td>[None, True]</td>\n",
       "    </tr>\n",
       "    <tr>\n",
       "      <th>165</th>\n",
       "      <td>166</td>\n",
       "      <td>[Сыр Брест-Литовск Классический 45% нарезка 150г, Сыр Брест-Литовск Классический нарезка 45% БЗМЖ 150г]</td>\n",
       "      <td>[None, True]</td>\n",
       "    </tr>\n",
       "  </tbody>\n",
       "</table>\n",
       "</div>"
      ],
      "text/plain": [
       "     product_id  \\\n",
       "3             4   \n",
       "19           20   \n",
       "95           96   \n",
       "100         101   \n",
       "101         102   \n",
       "150         151   \n",
       "165         166   \n",
       "\n",
       "                                                                                                                                        name  \\\n",
       "3                                            [Сыр Брест-Литовск Российский 50% 200г, Сыр полутвердый Брест-Литовск Российский 50% БЗМЖ 200г]   \n",
       "19   [Сыр творожный Hochland с зеленью 60% 140г, Сыр творожный Hochland с чесноком 60% БЗМЖ 140г, Сыр творожный Hochland сливочный 60% 140г]   \n",
       "95                                                               [Сыр Natura Сливочный 45% 300г, Сыр Natura Сливочный нарезка 45% БЗМЖ 300г]   \n",
       "100                                                      [Сыр Ларец с грецкими орехами 45% БЗМЖ 245г, Сыр Ларец с грецкими орехами 45% 245г]   \n",
       "101                                                                [Сыр Фетакса без рассола 45% 200г, Сыр Фетакса без рассола 45% БЗМЖ 200г]   \n",
       "150                                      [Сыр Viola Бутербродный нарезка 45% 120г, Сыр Viola Бутербродный полутвердый нарезка 45% БЗМЖ 120г]   \n",
       "165                                  [Сыр Брест-Литовск Классический 45% нарезка 150г, Сыр Брест-Литовск Классический нарезка 45% БЗМЖ 150г]   \n",
       "\n",
       "          is_bzmj  \n",
       "3    [None, True]  \n",
       "19   [None, True]  \n",
       "95   [None, True]  \n",
       "100  [True, None]  \n",
       "101  [None, True]  \n",
       "150  [None, True]  \n",
       "165  [None, True]  "
      ]
     },
     "execution_count": 182,
     "metadata": {},
     "output_type": "execute_result"
    }
   ],
   "source": [
    "selected = (\n",
    "    df_with_ids\n",
    "    .groupby('product_id', as_index=False)\n",
    "    .agg({\n",
    "        'name': lambda x: list(x.unique()),\n",
    "        'is_bzmj': lambda x: list(x.unique())\n",
    "    })\n",
    "    # Добавляем флаги для проверки уникальности\n",
    "    .assign(\n",
    "        is_single_bzmj=lambda x: x['is_bzmj'].apply(len) == 1,\n",
    "        contains_true=lambda x: x['is_bzmj'].apply(lambda lst: True in lst) \n",
    "    )\n",
    "    # Фильтруем по условию (name ИЛИ is_bzmj имеют одно значение)\n",
    "    .query('not is_single_bzmj and contains_true')\n",
    "    .drop(columns=['is_single_bzmj', 'contains_true'])\n",
    ")\n",
    "\n",
    "pd.set_option('display.max_colwidth', None)\n",
    "selected.head(50)"
   ]
  },
  {
   "cell_type": "code",
   "execution_count": 183,
   "id": "689a9efa-3254-4b46-9e94-d41db52921e3",
   "metadata": {},
   "outputs": [
    {
     "data": {
      "text/plain": [
       "['Сыр Брест-Литовск Российский 50% 200г',\n",
       " 'Сыр полутвердый Брест-Литовск Российский 50% БЗМЖ 200г',\n",
       " 'Сыр творожный Hochland с зеленью 60% 140г',\n",
       " 'Сыр творожный Hochland с чесноком 60% БЗМЖ 140г',\n",
       " 'Сыр творожный Hochland сливочный 60% 140г',\n",
       " 'Сыр Natura Сливочный 45% 300г',\n",
       " 'Сыр Natura Сливочный нарезка 45% БЗМЖ 300г',\n",
       " 'Сыр Ларец с грецкими орехами 45% БЗМЖ 245г',\n",
       " 'Сыр Ларец с грецкими орехами 45% 245г',\n",
       " 'Сыр Фетакса без рассола 45% 200г',\n",
       " 'Сыр Фетакса без рассола 45% БЗМЖ 200г',\n",
       " 'Сыр Viola Бутербродный нарезка 45% 120г',\n",
       " 'Сыр Viola Бутербродный полутвердый нарезка 45% БЗМЖ 120г',\n",
       " 'Сыр Брест-Литовск Классический 45% нарезка 150г',\n",
       " 'Сыр Брест-Литовск Классический нарезка 45% БЗМЖ 150г']"
      ]
     },
     "execution_count": 183,
     "metadata": {},
     "output_type": "execute_result"
    }
   ],
   "source": [
    "# Развернуть списки в selected и получить уникальные имена\n",
    "target_names = selected.explode('name')['name'].unique().tolist()\n",
    "target_names"
   ]
  },
  {
   "cell_type": "code",
   "execution_count": 184,
   "id": "b5584ac6-d948-471a-83d6-4a7d9ff95fe7",
   "metadata": {},
   "outputs": [
    {
     "data": {
      "text/html": [
       "<div><style>\n",
       ".dataframe > thead > tr,\n",
       ".dataframe > tbody > tr {\n",
       "  text-align: right;\n",
       "  white-space: pre-wrap;\n",
       "}\n",
       "</style>\n",
       "<small>shape: (5, 13)</small><table border=\"1\" class=\"dataframe\"><thead><tr><th>name</th><th>price</th><th>date_added</th><th>store</th><th>brand</th><th>weight</th><th>unit</th><th>fat_content</th><th>is_sliced</th><th>is_bzmj</th><th>is_creamy</th><th>discount</th><th>rating</th></tr><tr><td>str</td><td>f64</td><td>date</td><td>str</td><td>str</td><td>f32</td><td>str</td><td>f32</td><td>bool</td><td>bool</td><td>bool</td><td>f32</td><td>f32</td></tr></thead><tbody><tr><td>&quot;Сыр Экомилк творожный 60% 400г&quot;</td><td>269.99</td><td>2025-03-26</td><td>&quot;Магнит&quot;</td><td>&quot;Экомилк&quot;</td><td>400.0</td><td>&quot;г&quot;</td><td>60.0</td><td>false</td><td>false</td><td>true</td><td>null</td><td>null</td></tr><tr><td>&quot;Сыр Свежий Ряд Чечил спагетти копченый БЗМЖ 100г&quot;</td><td>149.99</td><td>2025-03-26</td><td>&quot;Пятерочка&quot;</td><td>&quot;Свежий Ряд Чечил&quot;</td><td>100.0</td><td>&quot;г&quot;</td><td>null</td><td>false</td><td>true</td><td>null</td><td>null</td><td>null</td></tr><tr><td>&quot;Сыр Montarell Бри мягкий 60% БЗМЖ 125г&quot;</td><td>207.99</td><td>2025-03-26</td><td>&quot;Пятерочка&quot;</td><td>&quot;Montarell Бри&quot;</td><td>125.0</td><td>&quot;г&quot;</td><td>60.0</td><td>false</td><td>true</td><td>null</td><td>null</td><td>null</td></tr><tr><td>&quot;Сыр Брест-Литовск Российский 50% 200г&quot;</td><td>239.99</td><td>2025-03-26</td><td>&quot;Магнит&quot;</td><td>&quot;Брест-Литовск Российский&quot;</td><td>200.0</td><td>&quot;г&quot;</td><td>50.0</td><td>false</td><td>true</td><td>null</td><td>null</td><td>null</td></tr><tr><td>&quot;Сыр плавленый Карат Шоколадный 30% 230г&quot;</td><td>159.99</td><td>2025-03-26</td><td>&quot;Магнит&quot;</td><td>&quot;Карат Шоколадный&quot;</td><td>230.0</td><td>&quot;г&quot;</td><td>30.0</td><td>false</td><td>false</td><td>true</td><td>null</td><td>null</td></tr></tbody></table></div>"
      ],
      "text/plain": [
       "shape: (5, 13)\n",
       "┌──────────────────────────────────────┬────────┬────────────┬───────────┬───┬─────────┬───────────┬──────────┬────────┐\n",
       "│ name                                 ┆ price  ┆ date_added ┆ store     ┆ … ┆ is_bzmj ┆ is_creamy ┆ discount ┆ rating │\n",
       "│ ---                                  ┆ ---    ┆ ---        ┆ ---       ┆   ┆ ---     ┆ ---       ┆ ---      ┆ ---    │\n",
       "│ str                                  ┆ f64    ┆ date       ┆ str       ┆   ┆ bool    ┆ bool      ┆ f32      ┆ f32    │\n",
       "╞══════════════════════════════════════╪════════╪════════════╪═══════════╪═══╪═════════╪═══════════╪══════════╪════════╡\n",
       "│ Сыр Экомилк творожный 60% 400г       ┆ 269.99 ┆ 2025-03-26 ┆ Магнит    ┆ … ┆ false   ┆ true      ┆ null     ┆ null   │\n",
       "│ Сыр Свежий Ряд Чечил спагетти        ┆ 149.99 ┆ 2025-03-26 ┆ Пятерочка ┆ … ┆ true    ┆ null      ┆ null     ┆ null   │\n",
       "│ копченый БЗМЖ 100г                   ┆        ┆            ┆           ┆   ┆         ┆           ┆          ┆        │\n",
       "│ Сыр Montarell Бри мягкий 60% БЗМЖ    ┆ 207.99 ┆ 2025-03-26 ┆ Пятерочка ┆ … ┆ true    ┆ null      ┆ null     ┆ null   │\n",
       "│ 125г                                 ┆        ┆            ┆           ┆   ┆         ┆           ┆          ┆        │\n",
       "│ Сыр Брест-Литовск Российский 50%     ┆ 239.99 ┆ 2025-03-26 ┆ Магнит    ┆ … ┆ true    ┆ null      ┆ null     ┆ null   │\n",
       "│ 200г                                 ┆        ┆            ┆           ┆   ┆         ┆           ┆          ┆        │\n",
       "│ Сыр плавленый Карат Шоколадный 30%   ┆ 159.99 ┆ 2025-03-26 ┆ Магнит    ┆ … ┆ false   ┆ true      ┆ null     ┆ null   │\n",
       "│ 230г                                 ┆        ┆            ┆           ┆   ┆         ┆           ┆          ┆        │\n",
       "└──────────────────────────────────────┴────────┴────────────┴───────────┴───┴─────────┴───────────┴──────────┴────────┘"
      ]
     },
     "execution_count": 184,
     "metadata": {},
     "output_type": "execute_result"
    }
   ],
   "source": [
    "# Проставить True для всех записей с name из target_names\n",
    "\n",
    "df = df.with_columns(\n",
    "    pl.when(pl.col('name').is_in(target_names))\n",
    "    .then(True)  # Условие 3: имя в списке → True\n",
    "    .when(pl.col('is_bzmj').is_null()) \n",
    "    .then(False)  # Условие 2: None и имя не в списке → False\n",
    "    .otherwise(pl.col('is_bzmj'))  # Условие 1: сохраняем текущее значение\n",
    "    .alias('is_bzmj')\n",
    ")\n",
    "df.head()"
   ]
  },
  {
   "cell_type": "code",
   "execution_count": 185,
   "id": "93883749-6438-48c2-acae-6a6a4b9f0645",
   "metadata": {},
   "outputs": [
    {
     "data": {
      "text/html": [
       "<div><style>\n",
       ".dataframe > thead > tr,\n",
       ".dataframe > tbody > tr {\n",
       "  text-align: right;\n",
       "  white-space: pre-wrap;\n",
       "}\n",
       "</style>\n",
       "<small>shape: (5, 13)</small><table border=\"1\" class=\"dataframe\"><thead><tr><th>name</th><th>price</th><th>date_added</th><th>store</th><th>brand</th><th>weight</th><th>unit</th><th>fat_content</th><th>is_sliced</th><th>is_bzmj</th><th>is_creamy</th><th>discount</th><th>rating</th></tr><tr><td>str</td><td>f64</td><td>date</td><td>str</td><td>str</td><td>f32</td><td>str</td><td>f32</td><td>bool</td><td>bool</td><td>bool</td><td>f32</td><td>f32</td></tr></thead><tbody><tr><td>&quot;Сыр Брест-Литовск Российский 50% 200г&quot;</td><td>239.99</td><td>2025-03-26</td><td>&quot;Магнит&quot;</td><td>&quot;Брест-Литовск Российский&quot;</td><td>200.0</td><td>&quot;г&quot;</td><td>50.0</td><td>false</td><td>true</td><td>null</td><td>null</td><td>null</td></tr><tr><td>&quot;Сыр творожный Hochland с зеленью 60% 140г&quot;</td><td>119.99</td><td>2025-03-26</td><td>&quot;Магнит&quot;</td><td>&quot;Hochland&quot;</td><td>140.0</td><td>&quot;г&quot;</td><td>60.0</td><td>false</td><td>true</td><td>true</td><td>null</td><td>null</td></tr><tr><td>&quot;Сыр Natura Сливочный 45% 300г&quot;</td><td>319.99</td><td>2025-03-26</td><td>&quot;Магнит&quot;</td><td>&quot;Natura Сливочный&quot;</td><td>300.0</td><td>&quot;г&quot;</td><td>45.0</td><td>false</td><td>true</td><td>null</td><td>null</td><td>null</td></tr><tr><td>&quot;Сыр Фетакса без рассола 45% 200г&quot;</td><td>199.99</td><td>2025-03-26</td><td>&quot;Магнит&quot;</td><td>&quot;Фетакса&quot;</td><td>200.0</td><td>&quot;г&quot;</td><td>45.0</td><td>false</td><td>true</td><td>null</td><td>null</td><td>null</td></tr><tr><td>&quot;Сыр Viola Бутербродный нарезка 45% 120г&quot;</td><td>149.99</td><td>2025-03-26</td><td>&quot;Магнит&quot;</td><td>&quot;Viola Бутербродный&quot;</td><td>120.0</td><td>&quot;г&quot;</td><td>45.0</td><td>false</td><td>true</td><td>null</td><td>null</td><td>null</td></tr></tbody></table></div>"
      ],
      "text/plain": [
       "shape: (5, 13)\n",
       "┌─────────────────────────────────────────┬────────┬────────────┬────────┬───┬─────────┬───────────┬──────────┬────────┐\n",
       "│ name                                    ┆ price  ┆ date_added ┆ store  ┆ … ┆ is_bzmj ┆ is_creamy ┆ discount ┆ rating │\n",
       "│ ---                                     ┆ ---    ┆ ---        ┆ ---    ┆   ┆ ---     ┆ ---       ┆ ---      ┆ ---    │\n",
       "│ str                                     ┆ f64    ┆ date       ┆ str    ┆   ┆ bool    ┆ bool      ┆ f32      ┆ f32    │\n",
       "╞═════════════════════════════════════════╪════════╪════════════╪════════╪═══╪═════════╪═══════════╪══════════╪════════╡\n",
       "│ Сыр Брест-Литовск Российский 50% 200г   ┆ 239.99 ┆ 2025-03-26 ┆ Магнит ┆ … ┆ true    ┆ null      ┆ null     ┆ null   │\n",
       "│ Сыр творожный Hochland с зеленью 60%    ┆ 119.99 ┆ 2025-03-26 ┆ Магнит ┆ … ┆ true    ┆ true      ┆ null     ┆ null   │\n",
       "│ 140г                                    ┆        ┆            ┆        ┆   ┆         ┆           ┆          ┆        │\n",
       "│ Сыр Natura Сливочный 45% 300г           ┆ 319.99 ┆ 2025-03-26 ┆ Магнит ┆ … ┆ true    ┆ null      ┆ null     ┆ null   │\n",
       "│ Сыр Фетакса без рассола 45% 200г        ┆ 199.99 ┆ 2025-03-26 ┆ Магнит ┆ … ┆ true    ┆ null      ┆ null     ┆ null   │\n",
       "│ Сыр Viola Бутербродный нарезка 45% 120г ┆ 149.99 ┆ 2025-03-26 ┆ Магнит ┆ … ┆ true    ┆ null      ┆ null     ┆ null   │\n",
       "└─────────────────────────────────────────┴────────┴────────────┴────────┴───┴─────────┴───────────┴──────────┴────────┘"
      ]
     },
     "execution_count": 185,
     "metadata": {},
     "output_type": "execute_result"
    }
   ],
   "source": [
    "(\n",
    "    df\n",
    "    .filter(pl.col('is_bzmj') == True)\n",
    "    .filter(pl.col('store') == 'Магнит') # в наимнованиях Магнита нет указания БЗМЖ, проверим работу заполнения пропусков\n",
    ").head()"
   ]
  },
  {
   "cell_type": "markdown",
   "id": "969a8664-8220-49d4-8571-3ba9615cdacc",
   "metadata": {},
   "source": [
    "#### Поле is_creamy"
   ]
  },
  {
   "cell_type": "markdown",
   "id": "d3e864dc-0e59-4660-a6e5-ec4d6ab35a51",
   "metadata": {},
   "source": [
    "Можно аналогично is_bzmj проверить"
   ]
  },
  {
   "cell_type": "code",
   "execution_count": 188,
   "id": "95cdf17a-a755-4a75-936d-03b13e002ace",
   "metadata": {},
   "outputs": [
    {
     "data": {
      "text/html": [
       "<div>\n",
       "<style scoped>\n",
       "    .dataframe tbody tr th:only-of-type {\n",
       "        vertical-align: middle;\n",
       "    }\n",
       "\n",
       "    .dataframe tbody tr th {\n",
       "        vertical-align: top;\n",
       "    }\n",
       "\n",
       "    .dataframe thead th {\n",
       "        text-align: right;\n",
       "    }\n",
       "</style>\n",
       "<table border=\"1\" class=\"dataframe\">\n",
       "  <thead>\n",
       "    <tr style=\"text-align: right;\">\n",
       "      <th></th>\n",
       "      <th>product_id</th>\n",
       "      <th>name</th>\n",
       "      <th>is_creamy</th>\n",
       "    </tr>\n",
       "  </thead>\n",
       "  <tbody>\n",
       "    <tr>\n",
       "      <th>98</th>\n",
       "      <td>99</td>\n",
       "      <td>[Плавленый продукт Дружба 50% 100г]</td>\n",
       "      <td>[None, True]</td>\n",
       "    </tr>\n",
       "    <tr>\n",
       "      <th>171</th>\n",
       "      <td>172</td>\n",
       "      <td>[Плавленый продукт Рязанский ЗПС колбасный копченый 45% 300г]</td>\n",
       "      <td>[None, True]</td>\n",
       "    </tr>\n",
       "  </tbody>\n",
       "</table>\n",
       "</div>"
      ],
      "text/plain": [
       "     product_id  \\\n",
       "98           99   \n",
       "171         172   \n",
       "\n",
       "                                                              name  \\\n",
       "98                             [Плавленый продукт Дружба 50% 100г]   \n",
       "171  [Плавленый продукт Рязанский ЗПС колбасный копченый 45% 300г]   \n",
       "\n",
       "        is_creamy  \n",
       "98   [None, True]  \n",
       "171  [None, True]  "
      ]
     },
     "execution_count": 188,
     "metadata": {},
     "output_type": "execute_result"
    }
   ],
   "source": [
    "selected = (\n",
    "    df_with_ids\n",
    "    .groupby('product_id', as_index=False)\n",
    "    .agg({\n",
    "        'name': lambda x: list(x.unique()),\n",
    "        'is_creamy': lambda x: list(x.unique())\n",
    "    })\n",
    "    # Добавляем флаги для проверки уникальности\n",
    "    .assign(\n",
    "        is_single_creamy=lambda x: x['is_creamy'].apply(len) == 1,\n",
    "        contains_true=lambda x: x['is_creamy'].apply(lambda lst: True in lst) \n",
    "    )\n",
    "    # Фильтруем по условию (name ИЛИ is_bzmj имеют одно значение)\n",
    "    .query('not is_single_creamy and contains_true')\n",
    "    .drop(columns=['is_single_creamy', 'contains_true'])\n",
    ")\n",
    "\n",
    "pd.set_option('display.max_colwidth', None)\n",
    "selected.head(50)"
   ]
  },
  {
   "cell_type": "code",
   "execution_count": 189,
   "id": "6bb6cf60-5ae0-4421-a641-bf9187fb476a",
   "metadata": {},
   "outputs": [
    {
     "data": {
      "text/plain": [
       "['Плавленый продукт Дружба 50% 100г',\n",
       " 'Плавленый продукт Рязанский ЗПС колбасный копченый 45% 300г']"
      ]
     },
     "execution_count": 189,
     "metadata": {},
     "output_type": "execute_result"
    }
   ],
   "source": [
    "# Развернуть списки в selected и получить уникальные имена\n",
    "target_names = selected.explode('name')['name'].unique().tolist()\n",
    "target_names"
   ]
  },
  {
   "cell_type": "code",
   "execution_count": 190,
   "id": "261ea134-fc5b-4f31-8543-a06bf5511b18",
   "metadata": {},
   "outputs": [
    {
     "data": {
      "text/html": [
       "<div><style>\n",
       ".dataframe > thead > tr,\n",
       ".dataframe > tbody > tr {\n",
       "  text-align: right;\n",
       "  white-space: pre-wrap;\n",
       "}\n",
       "</style>\n",
       "<small>shape: (5, 13)</small><table border=\"1\" class=\"dataframe\"><thead><tr><th>name</th><th>price</th><th>date_added</th><th>store</th><th>brand</th><th>weight</th><th>unit</th><th>fat_content</th><th>is_sliced</th><th>is_bzmj</th><th>is_creamy</th><th>discount</th><th>rating</th></tr><tr><td>str</td><td>f64</td><td>date</td><td>str</td><td>str</td><td>f32</td><td>str</td><td>f32</td><td>bool</td><td>bool</td><td>bool</td><td>f32</td><td>f32</td></tr></thead><tbody><tr><td>&quot;Сыр Экомилк творожный 60% 400г&quot;</td><td>269.99</td><td>2025-03-26</td><td>&quot;Магнит&quot;</td><td>&quot;Экомилк&quot;</td><td>400.0</td><td>&quot;г&quot;</td><td>60.0</td><td>false</td><td>false</td><td>true</td><td>null</td><td>null</td></tr><tr><td>&quot;Сыр Свежий Ряд Чечил спагетти копченый БЗМЖ 100г&quot;</td><td>149.99</td><td>2025-03-26</td><td>&quot;Пятерочка&quot;</td><td>&quot;Свежий Ряд Чечил&quot;</td><td>100.0</td><td>&quot;г&quot;</td><td>null</td><td>false</td><td>true</td><td>false</td><td>null</td><td>null</td></tr><tr><td>&quot;Сыр Montarell Бри мягкий 60% БЗМЖ 125г&quot;</td><td>207.99</td><td>2025-03-26</td><td>&quot;Пятерочка&quot;</td><td>&quot;Montarell Бри&quot;</td><td>125.0</td><td>&quot;г&quot;</td><td>60.0</td><td>false</td><td>true</td><td>false</td><td>null</td><td>null</td></tr><tr><td>&quot;Сыр Брест-Литовск Российский 50% 200г&quot;</td><td>239.99</td><td>2025-03-26</td><td>&quot;Магнит&quot;</td><td>&quot;Брест-Литовск Российский&quot;</td><td>200.0</td><td>&quot;г&quot;</td><td>50.0</td><td>false</td><td>true</td><td>false</td><td>null</td><td>null</td></tr><tr><td>&quot;Сыр плавленый Карат Шоколадный 30% 230г&quot;</td><td>159.99</td><td>2025-03-26</td><td>&quot;Магнит&quot;</td><td>&quot;Карат Шоколадный&quot;</td><td>230.0</td><td>&quot;г&quot;</td><td>30.0</td><td>false</td><td>false</td><td>true</td><td>null</td><td>null</td></tr></tbody></table></div>"
      ],
      "text/plain": [
       "shape: (5, 13)\n",
       "┌──────────────────────────────────────┬────────┬────────────┬───────────┬───┬─────────┬───────────┬──────────┬────────┐\n",
       "│ name                                 ┆ price  ┆ date_added ┆ store     ┆ … ┆ is_bzmj ┆ is_creamy ┆ discount ┆ rating │\n",
       "│ ---                                  ┆ ---    ┆ ---        ┆ ---       ┆   ┆ ---     ┆ ---       ┆ ---      ┆ ---    │\n",
       "│ str                                  ┆ f64    ┆ date       ┆ str       ┆   ┆ bool    ┆ bool      ┆ f32      ┆ f32    │\n",
       "╞══════════════════════════════════════╪════════╪════════════╪═══════════╪═══╪═════════╪═══════════╪══════════╪════════╡\n",
       "│ Сыр Экомилк творожный 60% 400г       ┆ 269.99 ┆ 2025-03-26 ┆ Магнит    ┆ … ┆ false   ┆ true      ┆ null     ┆ null   │\n",
       "│ Сыр Свежий Ряд Чечил спагетти        ┆ 149.99 ┆ 2025-03-26 ┆ Пятерочка ┆ … ┆ true    ┆ false     ┆ null     ┆ null   │\n",
       "│ копченый БЗМЖ 100г                   ┆        ┆            ┆           ┆   ┆         ┆           ┆          ┆        │\n",
       "│ Сыр Montarell Бри мягкий 60% БЗМЖ    ┆ 207.99 ┆ 2025-03-26 ┆ Пятерочка ┆ … ┆ true    ┆ false     ┆ null     ┆ null   │\n",
       "│ 125г                                 ┆        ┆            ┆           ┆   ┆         ┆           ┆          ┆        │\n",
       "│ Сыр Брест-Литовск Российский 50%     ┆ 239.99 ┆ 2025-03-26 ┆ Магнит    ┆ … ┆ true    ┆ false     ┆ null     ┆ null   │\n",
       "│ 200г                                 ┆        ┆            ┆           ┆   ┆         ┆           ┆          ┆        │\n",
       "│ Сыр плавленый Карат Шоколадный 30%   ┆ 159.99 ┆ 2025-03-26 ┆ Магнит    ┆ … ┆ false   ┆ true      ┆ null     ┆ null   │\n",
       "│ 230г                                 ┆        ┆            ┆           ┆   ┆         ┆           ┆          ┆        │\n",
       "└──────────────────────────────────────┴────────┴────────────┴───────────┴───┴─────────┴───────────┴──────────┴────────┘"
      ]
     },
     "execution_count": 190,
     "metadata": {},
     "output_type": "execute_result"
    }
   ],
   "source": [
    "# Проставить True для всех записей с name из target_names\n",
    "\n",
    "df = df.with_columns(\n",
    "    pl.when(pl.col('name').is_in(target_names))\n",
    "    .then(True)  # Условие 3: имя в списке → True\n",
    "    .when(pl.col('is_creamy').is_null()) \n",
    "    .then(False)  # Условие 2: None и имя не в списке → False\n",
    "    .otherwise(pl.col('is_creamy'))  # Условие 1: сохраняем текущее значение\n",
    "    .alias('is_creamy')\n",
    ")\n",
    "df.head()"
   ]
  },
  {
   "cell_type": "markdown",
   "id": "e0b68e4f-5125-4078-a1ef-7048c825f5cf",
   "metadata": {},
   "source": [
    "#### Поле discount"
   ]
  },
  {
   "cell_type": "markdown",
   "id": "26557ee1-0bde-4aeb-bf47-f2dde78fafb2",
   "metadata": {},
   "source": [
    "При сборе данных было 2 момента:\n",
    "- признак не с первого дня стал вычитываться с источника\n",
    "- нет заполнения пустых значений нулями при сборе данных, необходимо изменение в алгоритме сбора\n",
    "- отследим день, в который стали фиксироваться значения признака"
   ]
  },
  {
   "cell_type": "code",
   "execution_count": 193,
   "id": "673cf499-375f-4bc3-ab2a-9d0d3321d8ee",
   "metadata": {},
   "outputs": [
    {
     "data": {
      "text/html": [
       "<div><style>\n",
       ".dataframe > thead > tr,\n",
       ".dataframe > tbody > tr {\n",
       "  text-align: right;\n",
       "  white-space: pre-wrap;\n",
       "}\n",
       "</style>\n",
       "<small>shape: (1, 13)</small><table border=\"1\" class=\"dataframe\"><thead><tr><th>name</th><th>price</th><th>date_added</th><th>store</th><th>brand</th><th>weight</th><th>unit</th><th>fat_content</th><th>is_sliced</th><th>is_bzmj</th><th>is_creamy</th><th>discount</th><th>rating</th></tr><tr><td>str</td><td>f64</td><td>date</td><td>str</td><td>str</td><td>f32</td><td>str</td><td>f32</td><td>bool</td><td>bool</td><td>bool</td><td>f32</td><td>f32</td></tr></thead><tbody><tr><td>&quot;Сыр Поставы Городок Пармезан гранд 45% 200г&quot;</td><td>179.99</td><td>2025-03-29</td><td>&quot;Магнит&quot;</td><td>&quot;Поставы Городок Пармезан&quot;</td><td>200.0</td><td>&quot;г&quot;</td><td>45.0</td><td>false</td><td>false</td><td>false</td><td>10.0</td><td>4.5</td></tr></tbody></table></div>"
      ],
      "text/plain": [
       "shape: (1, 13)\n",
       "┌─────────────────────────────────────────┬────────┬────────────┬────────┬───┬─────────┬───────────┬──────────┬────────┐\n",
       "│ name                                    ┆ price  ┆ date_added ┆ store  ┆ … ┆ is_bzmj ┆ is_creamy ┆ discount ┆ rating │\n",
       "│ ---                                     ┆ ---    ┆ ---        ┆ ---    ┆   ┆ ---     ┆ ---       ┆ ---      ┆ ---    │\n",
       "│ str                                     ┆ f64    ┆ date       ┆ str    ┆   ┆ bool    ┆ bool      ┆ f32      ┆ f32    │\n",
       "╞═════════════════════════════════════════╪════════╪════════════╪════════╪═══╪═════════╪═══════════╪══════════╪════════╡\n",
       "│ Сыр Поставы Городок Пармезан гранд 45%  ┆ 179.99 ┆ 2025-03-29 ┆ Магнит ┆ … ┆ false   ┆ false     ┆ 10.0     ┆ 4.5    │\n",
       "│ 200г                                    ┆        ┆            ┆        ┆   ┆         ┆           ┆          ┆        │\n",
       "└─────────────────────────────────────────┴────────┴────────────┴────────┴───┴─────────┴───────────┴──────────┴────────┘"
      ]
     },
     "execution_count": 193,
     "metadata": {},
     "output_type": "execute_result"
    }
   ],
   "source": [
    "(\n",
    "    df\n",
    "    .filter(~ pl.col('discount').is_null())\n",
    "    .sort('date_added')\n",
    "    .head(1)\n",
    ")"
   ]
  },
  {
   "cell_type": "markdown",
   "id": "4ad7de73-7a39-4ebe-8a81-084d5f0f2cf4",
   "metadata": {},
   "source": [
    "Алгоритм следующий:\n",
    "- в дни с 29.03 заполняем null на 0, означает что скидки нет\n",
    "- до 29.03 справедливее заполнить средней скидкой на товар за время наблюдения"
   ]
  },
  {
   "cell_type": "code",
   "execution_count": 195,
   "id": "490cb124-7d0e-45b3-9469-0250e8fbf6f9",
   "metadata": {},
   "outputs": [],
   "source": [
    "df = df.with_columns(\n",
    "    pl.when((pl.col('date_added') >= date(2025, 3, 29)) & pl.col('discount').is_null())\n",
    "    .then(0)\n",
    "    .when(pl.col('discount').is_null())\n",
    "    .then(\n",
    "        df\n",
    "        .group_by(\"name\")\n",
    "        .agg(avg_discount=pl.coalesce(pl.col(\"discount\").mean(), 0).alias(\"avg_discount\"))\n",
    "        .join(df, on=\"name\")[\"avg_discount\"]\n",
    "        .round(2)\n",
    "    )\n",
    "    .otherwise(pl.col('discount'))\n",
    "    .alias('discount')\n",
    ")"
   ]
  },
  {
   "cell_type": "markdown",
   "id": "822ed733-19bd-483c-be71-b5d859651d4b",
   "metadata": {},
   "source": [
    "#### Поле fat_content"
   ]
  },
  {
   "cell_type": "markdown",
   "id": "7899b37a-7bea-4bb6-8e69-029a0e9195d1",
   "metadata": {},
   "source": [
    "Можно попробовать аналогично is_bzmj"
   ]
  },
  {
   "cell_type": "code",
   "execution_count": 198,
   "id": "f00e3cb4-caf6-47ff-a3a7-919e845ca707",
   "metadata": {},
   "outputs": [
    {
     "data": {
      "text/html": [
       "<div>\n",
       "<style scoped>\n",
       "    .dataframe tbody tr th:only-of-type {\n",
       "        vertical-align: middle;\n",
       "    }\n",
       "\n",
       "    .dataframe tbody tr th {\n",
       "        vertical-align: top;\n",
       "    }\n",
       "\n",
       "    .dataframe thead th {\n",
       "        text-align: right;\n",
       "    }\n",
       "</style>\n",
       "<table border=\"1\" class=\"dataframe\">\n",
       "  <thead>\n",
       "    <tr style=\"text-align: right;\">\n",
       "      <th></th>\n",
       "      <th>product_id</th>\n",
       "      <th>name</th>\n",
       "      <th>fat_content</th>\n",
       "    </tr>\n",
       "  </thead>\n",
       "  <tbody>\n",
       "  </tbody>\n",
       "</table>\n",
       "</div>"
      ],
      "text/plain": [
       "Empty DataFrame\n",
       "Columns: [product_id, name, fat_content]\n",
       "Index: []"
      ]
     },
     "execution_count": 198,
     "metadata": {},
     "output_type": "execute_result"
    }
   ],
   "source": [
    "selected = (\n",
    "    df_with_ids\n",
    "    .groupby('product_id', as_index=False)\n",
    "    .agg({\n",
    "        'name': lambda x: list(x.unique()),\n",
    "        'fat_content': lambda x: list(x.unique())\n",
    "    })\n",
    "    # Добавляем флаги для проверки уникальности\n",
    "    .assign(\n",
    "        is_single_fat_content=lambda x: x['fat_content'].apply(len) == 1\n",
    "    )\n",
    "    .query('not is_single_fat_content')\n",
    "    .drop(columns=['is_single_fat_content'])\n",
    ")\n",
    "\n",
    "pd.set_option('display.max_colwidth', None)\n",
    "selected.head(50)"
   ]
  },
  {
   "cell_type": "markdown",
   "id": "626d8758-972f-417d-ae6c-cd09840440a1",
   "metadata": {},
   "source": [
    "Тогда найдем пропуски fat_content"
   ]
  },
  {
   "cell_type": "code",
   "execution_count": 200,
   "id": "34779797-8a0a-46e7-887b-e02d193a2e8c",
   "metadata": {},
   "outputs": [
    {
     "data": {
      "text/html": [
       "<div><style>\n",
       ".dataframe > thead > tr,\n",
       ".dataframe > tbody > tr {\n",
       "  text-align: right;\n",
       "  white-space: pre-wrap;\n",
       "}\n",
       "</style>\n",
       "<small>shape: (8,)</small><table border=\"1\" class=\"dataframe\"><thead><tr><th>name</th></tr><tr><td>str</td></tr></thead><tbody><tr><td>&quot;Сыр Premiere of taste Пармезан весовой&quot;</td></tr><tr><td>&quot;Сыр Liebendorf Гауда полутвердый нарезка БЗМЖ 150г&quot;</td></tr><tr><td>&quot;Сыр Premiere of taste мягкий с белой плесенью Бри 125г&quot;</td></tr><tr><td>&quot;Сыр Свежий Ряд Чечил спагетти копченый БЗМЖ 100г&quot;</td></tr><tr><td>&quot;Сыр Моя цена Российский весовой&quot;</td></tr><tr><td>&quot;Сыр Premiere of taste мягкий с белой плесенью Камамбер 125г&quot;</td></tr><tr><td>&quot;Сыр LiebenDorf Маасдам полутвердый нарезка БЗМЖ 150г&quot;</td></tr><tr><td>&quot;Сыр Тэрэз копченый Балыковый 100г&quot;</td></tr></tbody></table></div>"
      ],
      "text/plain": [
       "shape: (8,)\n",
       "Series: 'name' [str]\n",
       "[\n",
       "\t\"Сыр Premiere of taste Пармезан весовой\"\n",
       "\t\"Сыр Liebendorf Гауда полутвердый нарезка БЗМЖ 150г\"\n",
       "\t\"Сыр Premiere of taste мягкий с белой плесенью Бри 125г\"\n",
       "\t\"Сыр Свежий Ряд Чечил спагетти копченый БЗМЖ 100г\"\n",
       "\t\"Сыр Моя цена Российский весовой\"\n",
       "\t\"Сыр Premiere of taste мягкий с белой плесенью Камамбер 125г\"\n",
       "\t\"Сыр LiebenDorf Маасдам полутвердый нарезка БЗМЖ 150г\"\n",
       "\t\"Сыр Тэрэз копченый Балыковый 100г\"\n",
       "]"
      ]
     },
     "execution_count": 200,
     "metadata": {},
     "output_type": "execute_result"
    }
   ],
   "source": [
    "fat_cont_empty = (\n",
    "    df\n",
    "    .filter(pl.col('fat_content').is_null())\n",
    "    ['name']\n",
    "    .unique()\n",
    ")\n",
    "fat_cont_empty"
   ]
  },
  {
   "cell_type": "markdown",
   "id": "062eeb7c-d710-49f9-ba32-5f564ff3be04",
   "metadata": {},
   "source": [
    "Можно, опираясь на данные из интернета, составить словарик, с которым сопоставлять наименование сыра и подставлять жирность. Но это требует ручного составления словаря по видам сыров - не только по представленным выше, а расширенному списку, т.к. есть вероятность того, что придут новые данные.\n",
    "ИЛИ считать как медиану между сырами с той же категорией (Выбрано)"
   ]
  },
  {
   "cell_type": "code",
   "execution_count": 202,
   "id": "b45068ec-7ffa-4783-b115-b8ae119859a5",
   "metadata": {},
   "outputs": [],
   "source": [
    "categories = [\n",
    "    \"бри\", \"российск\", \"камамбер\", \n",
    "    \"копчен\", \"пармезан\", \"гауда\", \n",
    "    \"маасдам\", \"эдам\", \"тильзитер\",\n",
    "    \"бутербродн\", \"чеддер\", \"творожн\",\n",
    "    \"маскарпоне\", \"рикотта\", \"моцарелла\",\n",
    "    \"адыгейск\", \"ламбер\", \"чечил\",\n",
    "    \"монастырск\", \"сливочн\", \"голландск\",\n",
    "    \"сулугуни\", \"брынза\", \"классическ\",\n",
    "    \"сливочн\", \"рассольн\", \"плавленый\",\n",
    "]"
   ]
  },
  {
   "cell_type": "code",
   "execution_count": 203,
   "id": "5e253316-e9c7-40e8-b20b-ea0397a8371f",
   "metadata": {},
   "outputs": [
    {
     "data": {
      "text/html": [
       "<div><style>\n",
       ".dataframe > thead > tr,\n",
       ".dataframe > tbody > tr {\n",
       "  text-align: right;\n",
       "  white-space: pre-wrap;\n",
       "}\n",
       "</style>\n",
       "<small>shape: (7, 14)</small><table border=\"1\" class=\"dataframe\"><thead><tr><th>name</th><th>price</th><th>date_added</th><th>store</th><th>brand</th><th>weight</th><th>unit</th><th>fat_content</th><th>is_sliced</th><th>is_bzmj</th><th>is_creamy</th><th>discount</th><th>rating</th><th>category</th></tr><tr><td>str</td><td>f64</td><td>date</td><td>str</td><td>str</td><td>f32</td><td>str</td><td>f32</td><td>bool</td><td>bool</td><td>bool</td><td>f32</td><td>f32</td><td>str</td></tr></thead><tbody><tr><td>&quot;Сыр Брест-Литовск Классический 45% нарезка 150г&quot;</td><td>179.99</td><td>2025-04-04</td><td>&quot;Магнит&quot;</td><td>&quot;Брест-Литовск Классический&quot;</td><td>150.0</td><td>&quot;г&quot;</td><td>45.0</td><td>false</td><td>true</td><td>false</td><td>18.0</td><td>4.7</td><td>&quot;классическ&quot;</td></tr><tr><td>&quot;Сыр Viola Маасдам полутвердый 45% БЗМЖ 180г&quot;</td><td>237.99</td><td>2025-03-28</td><td>&quot;Пятерочка&quot;</td><td>&quot;Viola Маасдам&quot;</td><td>180.0</td><td>&quot;г&quot;</td><td>45.0</td><td>false</td><td>true</td><td>false</td><td>15.0</td><td>null</td><td>&quot;маасдам&quot;</td></tr><tr><td>&quot;Сыр Liebendorf с грибами плавленый 55% БЗМЖ 400г&quot;</td><td>257.59</td><td>2025-04-04</td><td>&quot;Пятерочка&quot;</td><td>&quot;Liebendorf&quot;</td><td>400.0</td><td>&quot;г&quot;</td><td>55.0</td><td>false</td><td>true</td><td>true</td><td>0.0</td><td>4.88</td><td>&quot;плавленый&quot;</td></tr><tr><td>&quot;Сыр Ламбер 50% весовой&quot;</td><td>324.97</td><td>2025-03-26</td><td>&quot;Магнит&quot;</td><td>&quot;Ламбер&quot;</td><td>1.0</td><td>&quot;кг&quot;</td><td>50.0</td><td>false</td><td>false</td><td>false</td><td>18.0</td><td>null</td><td>&quot;ламбер&quot;</td></tr><tr><td>&quot;Пармезан Trattoria di Maestro Turatti твердый 40% БЗМЖ&quot;</td><td>159.99</td><td>2025-04-02</td><td>&quot;Пятерочка&quot;</td><td>&quot;Trattoria&quot;</td><td>1.0</td><td>&quot;кг&quot;</td><td>40.0</td><td>false</td><td>true</td><td>false</td><td>0.0</td><td>4.89</td><td>&quot;пармезан&quot;</td></tr><tr><td>&quot;Сыр Радость вкуса Топленочка с фенугреком 45% БЗМЖ 180г&quot;</td><td>299.99</td><td>2025-04-03</td><td>&quot;Пятерочка&quot;</td><td>&quot;Радость&quot;</td><td>180.0</td><td>&quot;г&quot;</td><td>45.0</td><td>false</td><td>true</td><td>false</td><td>0.0</td><td>4.84</td><td>null</td></tr><tr><td>&quot;Сыр Белебеевский 45% 190г&quot;</td><td>194.99</td><td>2025-04-03</td><td>&quot;Магнит&quot;</td><td>&quot;Белебеевский&quot;</td><td>190.0</td><td>&quot;г&quot;</td><td>45.0</td><td>false</td><td>false</td><td>false</td><td>18.0</td><td>4.7</td><td>null</td></tr></tbody></table></div>"
      ],
      "text/plain": [
       "shape: (7, 14)\n",
       "┌───────────────────────────────────┬────────┬────────────┬───────────┬───┬───────────┬──────────┬────────┬────────────┐\n",
       "│ name                              ┆ price  ┆ date_added ┆ store     ┆ … ┆ is_creamy ┆ discount ┆ rating ┆ category   │\n",
       "│ ---                               ┆ ---    ┆ ---        ┆ ---       ┆   ┆ ---       ┆ ---      ┆ ---    ┆ ---        │\n",
       "│ str                               ┆ f64    ┆ date       ┆ str       ┆   ┆ bool      ┆ f32      ┆ f32    ┆ str        │\n",
       "╞═══════════════════════════════════╪════════╪════════════╪═══════════╪═══╪═══════════╪══════════╪════════╪════════════╡\n",
       "│ Сыр Брест-Литовск Классический    ┆ 179.99 ┆ 2025-04-04 ┆ Магнит    ┆ … ┆ false     ┆ 18.0     ┆ 4.7    ┆ классическ │\n",
       "│ 45% нарезка 150г                  ┆        ┆            ┆           ┆   ┆           ┆          ┆        ┆            │\n",
       "│ Сыр Viola Маасдам полутвердый 45% ┆ 237.99 ┆ 2025-03-28 ┆ Пятерочка ┆ … ┆ false     ┆ 15.0     ┆ null   ┆ маасдам    │\n",
       "│ БЗМЖ 180г                         ┆        ┆            ┆           ┆   ┆           ┆          ┆        ┆            │\n",
       "│ Сыр Liebendorf с грибами          ┆ 257.59 ┆ 2025-04-04 ┆ Пятерочка ┆ … ┆ true      ┆ 0.0      ┆ 4.88   ┆ плавленый  │\n",
       "│ плавленый 55% БЗМЖ 400г           ┆        ┆            ┆           ┆   ┆           ┆          ┆        ┆            │\n",
       "│ Сыр Ламбер 50% весовой            ┆ 324.97 ┆ 2025-03-26 ┆ Магнит    ┆ … ┆ false     ┆ 18.0     ┆ null   ┆ ламбер     │\n",
       "│ Пармезан Trattoria di Maestro     ┆ 159.99 ┆ 2025-04-02 ┆ Пятерочка ┆ … ┆ false     ┆ 0.0      ┆ 4.89   ┆ пармезан   │\n",
       "│ Turatti твердый 40% БЗМЖ          ┆        ┆            ┆           ┆   ┆           ┆          ┆        ┆            │\n",
       "│ Сыр Радость вкуса Топленочка с    ┆ 299.99 ┆ 2025-04-03 ┆ Пятерочка ┆ … ┆ false     ┆ 0.0      ┆ 4.84   ┆ null       │\n",
       "│ фенугреком 45% БЗМЖ 180г          ┆        ┆            ┆           ┆   ┆           ┆          ┆        ┆            │\n",
       "│ Сыр Белебеевский 45% 190г         ┆ 194.99 ┆ 2025-04-03 ┆ Магнит    ┆ … ┆ false     ┆ 18.0     ┆ 4.7    ┆ null       │\n",
       "└───────────────────────────────────┴────────┴────────────┴───────────┴───┴───────────┴──────────┴────────┴────────────┘"
      ]
     },
     "execution_count": 203,
     "metadata": {},
     "output_type": "execute_result"
    }
   ],
   "source": [
    "# Шаг 1: Добавляем столбец с категорией для каждой строки\n",
    "df = df.with_columns(\n",
    "    pl.coalesce(\n",
    "        *[\n",
    "            pl.when(pl.col(\"name\").str.to_lowercase().str.contains(cat, literal=True))\n",
    "            .then(pl.lit(cat))\n",
    "            for cat in categories\n",
    "        ],\n",
    "        pl.lit(None)  # Если ни одна категория не найдена\n",
    "    )\n",
    "    .alias(\"category\") \n",
    ")\n",
    "df.sample(7)"
   ]
  },
  {
   "cell_type": "code",
   "execution_count": 204,
   "id": "1188505e-0168-4774-a58e-cabc26897317",
   "metadata": {},
   "outputs": [
    {
     "data": {
      "text/html": [
       "<div><style>\n",
       ".dataframe > thead > tr,\n",
       ".dataframe > tbody > tr {\n",
       "  text-align: right;\n",
       "  white-space: pre-wrap;\n",
       "}\n",
       "</style>\n",
       "<small>shape: (26, 2)</small><table border=\"1\" class=\"dataframe\"><thead><tr><th>category</th><th>median_fat</th></tr><tr><td>str</td><td>f32</td></tr></thead><tbody><tr><td>&quot;брынза&quot;</td><td>45.0</td></tr><tr><td>&quot;тильзитер&quot;</td><td>45.0</td></tr><tr><td>&quot;бутербродн&quot;</td><td>45.0</td></tr><tr><td>&quot;сулугуни&quot;</td><td>45.0</td></tr><tr><td>&quot;монастырск&quot;</td><td>45.0</td></tr><tr><td>&hellip;</td><td>&hellip;</td></tr><tr><td>&quot;маскарпоне&quot;</td><td>80.0</td></tr><tr><td>&quot;эдам&quot;</td><td>45.0</td></tr><tr><td>&quot;пармезан&quot;</td><td>40.0</td></tr><tr><td>&quot;камамбер&quot;</td><td>45.0</td></tr><tr><td>&quot;копчен&quot;</td><td>40.0</td></tr></tbody></table></div>"
      ],
      "text/plain": [
       "shape: (26, 2)\n",
       "┌────────────┬────────────┐\n",
       "│ category   ┆ median_fat │\n",
       "│ ---        ┆ ---        │\n",
       "│ str        ┆ f32        │\n",
       "╞════════════╪════════════╡\n",
       "│ брынза     ┆ 45.0       │\n",
       "│ тильзитер  ┆ 45.0       │\n",
       "│ бутербродн ┆ 45.0       │\n",
       "│ сулугуни   ┆ 45.0       │\n",
       "│ монастырск ┆ 45.0       │\n",
       "│ …          ┆ …          │\n",
       "│ маскарпоне ┆ 80.0       │\n",
       "│ эдам       ┆ 45.0       │\n",
       "│ пармезан   ┆ 40.0       │\n",
       "│ камамбер   ┆ 45.0       │\n",
       "│ копчен     ┆ 40.0       │\n",
       "└────────────┴────────────┘"
      ]
     },
     "execution_count": 204,
     "metadata": {},
     "output_type": "execute_result"
    }
   ],
   "source": [
    "# Шаг 2: Вычисляем медианы по категориям\n",
    "median_values = (\n",
    "    df\n",
    "    .filter(pl.col(\"category\").is_not_null())  # Игнорируем строки без категории\n",
    "    .group_by(\"category\")\n",
    "    .agg(pl.median(\"fat_content\").alias(\"median_fat\"))\n",
    ")\n",
    "median_values"
   ]
  },
  {
   "cell_type": "code",
   "execution_count": 205,
   "id": "4eb8c69f-4b7a-4042-8147-f0ee62bb63a6",
   "metadata": {},
   "outputs": [
    {
     "data": {
      "text/html": [
       "<div><style>\n",
       ".dataframe > thead > tr,\n",
       ".dataframe > tbody > tr {\n",
       "  text-align: right;\n",
       "  white-space: pre-wrap;\n",
       "}\n",
       "</style>\n",
       "<small>shape: (5, 13)</small><table border=\"1\" class=\"dataframe\"><thead><tr><th>name</th><th>price</th><th>date_added</th><th>store</th><th>brand</th><th>weight</th><th>unit</th><th>fat_content</th><th>is_sliced</th><th>is_bzmj</th><th>is_creamy</th><th>discount</th><th>rating</th></tr><tr><td>str</td><td>f64</td><td>date</td><td>str</td><td>str</td><td>f32</td><td>str</td><td>f32</td><td>bool</td><td>bool</td><td>bool</td><td>f32</td><td>f32</td></tr></thead><tbody><tr><td>&quot;Сыр Premiere of taste Моцарелла 40% 200г&quot;</td><td>229.99</td><td>2025-04-02</td><td>&quot;Магнит&quot;</td><td>&quot;Premiere&quot;</td><td>200.0</td><td>&quot;г&quot;</td><td>40.0</td><td>false</td><td>false</td><td>false</td><td>0.0</td><td>4.7</td></tr><tr><td>&quot;Сыр ЭкоНива Momente aus Schollbrunn полутвердый 50% 200г&quot;</td><td>199.99</td><td>2025-03-26</td><td>&quot;Магнит&quot;</td><td>&quot;ЭкоНива Momente&quot;</td><td>200.0</td><td>&quot;г&quot;</td><td>50.0</td><td>false</td><td>false</td><td>false</td><td>13.0</td><td>null</td></tr><tr><td>&quot;Сыр творожный Hochland с чесноком 60% БЗМЖ 140г&quot;</td><td>103.99</td><td>2025-03-31</td><td>&quot;Пятерочка&quot;</td><td>&quot;Hochland&quot;</td><td>140.0</td><td>&quot;г&quot;</td><td>60.0</td><td>false</td><td>true</td><td>true</td><td>25.0</td><td>4.9</td></tr><tr><td>&quot;Фета Sveza нежная 45% БЗМЖ 250г&quot;</td><td>199.99</td><td>2025-03-26</td><td>&quot;Пятерочка&quot;</td><td>&quot;Sveza&quot;</td><td>250.0</td><td>&quot;г&quot;</td><td>45.0</td><td>false</td><td>true</td><td>false</td><td>15.0</td><td>null</td></tr><tr><td>&quot;Сыр Сыробогатов Для бургера плавленый слайсы 25% БЗМЖ 112г&quot;</td><td>79.99</td><td>2025-03-26</td><td>&quot;Пятерочка&quot;</td><td>&quot;Сыробогатов Для&quot;</td><td>112.0</td><td>&quot;г&quot;</td><td>25.0</td><td>true</td><td>true</td><td>true</td><td>33.0</td><td>null</td></tr></tbody></table></div>"
      ],
      "text/plain": [
       "shape: (5, 13)\n",
       "┌──────────────────────────────────────┬────────┬────────────┬───────────┬───┬─────────┬───────────┬──────────┬────────┐\n",
       "│ name                                 ┆ price  ┆ date_added ┆ store     ┆ … ┆ is_bzmj ┆ is_creamy ┆ discount ┆ rating │\n",
       "│ ---                                  ┆ ---    ┆ ---        ┆ ---       ┆   ┆ ---     ┆ ---       ┆ ---      ┆ ---    │\n",
       "│ str                                  ┆ f64    ┆ date       ┆ str       ┆   ┆ bool    ┆ bool      ┆ f32      ┆ f32    │\n",
       "╞══════════════════════════════════════╪════════╪════════════╪═══════════╪═══╪═════════╪═══════════╪══════════╪════════╡\n",
       "│ Сыр Premiere of taste Моцарелла 40%  ┆ 229.99 ┆ 2025-04-02 ┆ Магнит    ┆ … ┆ false   ┆ false     ┆ 0.0      ┆ 4.7    │\n",
       "│ 200г                                 ┆        ┆            ┆           ┆   ┆         ┆           ┆          ┆        │\n",
       "│ Сыр ЭкоНива Momente aus Schollbrunn  ┆ 199.99 ┆ 2025-03-26 ┆ Магнит    ┆ … ┆ false   ┆ false     ┆ 13.0     ┆ null   │\n",
       "│ полутвердый 50% 200г                 ┆        ┆            ┆           ┆   ┆         ┆           ┆          ┆        │\n",
       "│ Сыр творожный Hochland с чесноком    ┆ 103.99 ┆ 2025-03-31 ┆ Пятерочка ┆ … ┆ true    ┆ true      ┆ 25.0     ┆ 4.9    │\n",
       "│ 60% БЗМЖ 140г                        ┆        ┆            ┆           ┆   ┆         ┆           ┆          ┆        │\n",
       "│ Фета Sveza нежная 45% БЗМЖ 250г      ┆ 199.99 ┆ 2025-03-26 ┆ Пятерочка ┆ … ┆ true    ┆ false     ┆ 15.0     ┆ null   │\n",
       "│ Сыр Сыробогатов Для бургера          ┆ 79.99  ┆ 2025-03-26 ┆ Пятерочка ┆ … ┆ true    ┆ true      ┆ 33.0     ┆ null   │\n",
       "│ плавленый слайсы 25% БЗМЖ 112г       ┆        ┆            ┆           ┆   ┆         ┆           ┆          ┆        │\n",
       "└──────────────────────────────────────┴────────┴────────────┴───────────┴───┴─────────┴───────────┴──────────┴────────┘"
      ]
     },
     "execution_count": 205,
     "metadata": {},
     "output_type": "execute_result"
    }
   ],
   "source": [
    "# Шаг 3: Заполняем пропуски\n",
    "df = (\n",
    "    df.join(median_values, on=\"category\", how=\"left\")\n",
    "    .with_columns(\n",
    "        pl.coalesce(pl.col(\"fat_content\"), pl.col(\"median_fat\"), 50).alias(\"fat_content\") # Если не найдена категория, ставим среднее как 50\n",
    "    )\n",
    "    .drop(\"median_fat\", \"category\")  # Удаляем вспомогательные столбцы\n",
    ")\n",
    "\n",
    "df.sample(5)"
   ]
  },
  {
   "cell_type": "markdown",
   "id": "86f1485f-90b7-48b2-9507-5de563c745ef",
   "metadata": {},
   "source": [
    "#### Поле rating"
   ]
  },
  {
   "cell_type": "markdown",
   "id": "4773ea96-328d-4824-909f-2daca49d3c7d",
   "metadata": {},
   "source": [
    "Аналогично discount, данные до 29.03 не собирались, а позже - null, если у продукта нет оценки. Попробуем сгруппировать по названию и, может быть, доставить значения тем продуктам, у которых есть оценка в записи за другой день"
   ]
  },
  {
   "cell_type": "code",
   "execution_count": 208,
   "id": "be36a314-f679-42cf-afd9-615d9ef1728a",
   "metadata": {},
   "outputs": [
    {
     "name": "stdout",
     "output_type": "stream",
     "text": [
      "(206, 3)\n"
     ]
    },
    {
     "data": {
      "text/html": [
       "<div><style>\n",
       ".dataframe > thead > tr,\n",
       ".dataframe > tbody > tr {\n",
       "  text-align: right;\n",
       "  white-space: pre-wrap;\n",
       "}\n",
       "</style>\n",
       "<small>shape: (7, 3)</small><table border=\"1\" class=\"dataframe\"><thead><tr><th>name</th><th>unique_ratings</th><th>mean_rating</th></tr><tr><td>str</td><td>list[f32]</td><td>f32</td></tr></thead><tbody><tr><td>&quot;Сыр Endorf Tulyere твердый 50% БЗМЖ 200г&quot;</td><td>[null, 4.86]</td><td>4.86</td></tr><tr><td>&quot;Сыр LiebenDorf Маасдам полутвердый нарезка БЗМЖ 150г&quot;</td><td>[null, 4.89, 4.9]</td><td>4.895</td></tr><tr><td>&quot;Плавленый продукт Дружба 50% 100г&quot;</td><td>[null, 4.6]</td><td>4.6</td></tr><tr><td>&quot;Сыр Брест-Литовск Российский 50% 150г&quot;</td><td>[null, 4.7]</td><td>4.7</td></tr><tr><td>&quot;Сыр полутвердый ЭкоНива Тильзитер 50% БЗМЖ 400г&quot;</td><td>[null, 4.89, 4.9]</td><td>4.895</td></tr><tr><td>&quot;Сыр Vitalat Перлини копченый 40% БЗМЖ 100г&quot;</td><td>[null, 4.87, 4.89]</td><td>4.88</td></tr><tr><td>&quot;Сыр Oldenburger Protein с грецким орехом нарезка 30% БЗМЖ 125г&quot;</td><td>[null, 4.86]</td><td>4.86</td></tr></tbody></table></div>"
      ],
      "text/plain": [
       "shape: (7, 3)\n",
       "┌────────────────────────────────────────────────────────────────┬────────────────────┬─────────────┐\n",
       "│ name                                                           ┆ unique_ratings     ┆ mean_rating │\n",
       "│ ---                                                            ┆ ---                ┆ ---         │\n",
       "│ str                                                            ┆ list[f32]          ┆ f32         │\n",
       "╞════════════════════════════════════════════════════════════════╪════════════════════╪═════════════╡\n",
       "│ Сыр Endorf Tulyere твердый 50% БЗМЖ 200г                       ┆ [null, 4.86]       ┆ 4.86        │\n",
       "│ Сыр LiebenDorf Маасдам полутвердый нарезка БЗМЖ 150г           ┆ [null, 4.89, 4.9]  ┆ 4.895       │\n",
       "│ Плавленый продукт Дружба 50% 100г                              ┆ [null, 4.6]        ┆ 4.6         │\n",
       "│ Сыр Брест-Литовск Российский 50% 150г                          ┆ [null, 4.7]        ┆ 4.7         │\n",
       "│ Сыр полутвердый ЭкоНива Тильзитер 50% БЗМЖ 400г                ┆ [null, 4.89, 4.9]  ┆ 4.895       │\n",
       "│ Сыр Vitalat Перлини копченый 40% БЗМЖ 100г                     ┆ [null, 4.87, 4.89] ┆ 4.88        │\n",
       "│ Сыр Oldenburger Protein с грецким орехом нарезка 30% БЗМЖ 125г ┆ [null, 4.86]       ┆ 4.86        │\n",
       "└────────────────────────────────────────────────────────────────┴────────────────────┴─────────────┘"
      ]
     },
     "execution_count": 208,
     "metadata": {},
     "output_type": "execute_result"
    }
   ],
   "source": [
    "grouped_ratings = (\n",
    "    df\n",
    "    .group_by(\"name\")  # Группировка по \"name\"\n",
    "    .agg(\n",
    "        pl.col(\"rating\").unique().alias(\"unique_ratings\")  # Убираем `.list`\n",
    "    )\n",
    "    .with_columns(\n",
    "        (pl.col(\"unique_ratings\").list.len() == 1).alias(\"is_single_rating\")  # Проверка длины списка\n",
    "    )\n",
    "    .filter((pl.col('is_single_rating') == False) & pl.col('unique_ratings').list.contains(None))\n",
    "    .with_columns(\n",
    "        pl.col(\"unique_ratings\")\n",
    "        .list.eval(pl.element().fill_null(pl.element().mean())) \n",
    "        .list.mean()  # Вычисляем среднее по списку\n",
    "        .alias(\"mean_rating\")\n",
    "    )\n",
    "    .drop(\"is_single_rating\")\n",
    ")\n",
    "print(grouped_ratings.shape)\n",
    "grouped_ratings.sample(7)"
   ]
  },
  {
   "cell_type": "code",
   "execution_count": 209,
   "id": "e7c4ecfd-113e-4680-ba42-244dd369c9ac",
   "metadata": {},
   "outputs": [],
   "source": [
    "global_mean = df.select(pl.mean(\"rating\")).item()\n",
    "\n",
    "df = (\n",
    "    df\n",
    "    .join(grouped_ratings, on=\"name\", how=\"left\")\n",
    "    .with_columns(\n",
    "        pl.coalesce(pl.col(\"rating\"), pl.col(\"mean_rating\"), global_mean).alias(\"rating\")\n",
    "    )\n",
    "    .drop(\"mean_rating\", \"unique_ratings\")\n",
    ")"
   ]
  },
  {
   "cell_type": "code",
   "execution_count": 210,
   "id": "6f7ef32b-d558-433e-878c-d66ff95c0ca1",
   "metadata": {},
   "outputs": [
    {
     "name": "stdout",
     "output_type": "stream",
     "text": [
      "<class 'pandas.core.frame.DataFrame'>\n",
      "RangeIndex: 1572 entries, 0 to 1571\n",
      "Data columns (total 13 columns):\n",
      " #   Column       Non-Null Count  Dtype         \n",
      "---  ------       --------------  -----         \n",
      " 0   name         1572 non-null   object        \n",
      " 1   price        1572 non-null   float64       \n",
      " 2   date_added   1572 non-null   datetime64[ms]\n",
      " 3   store        1572 non-null   object        \n",
      " 4   brand        1572 non-null   object        \n",
      " 5   weight       1572 non-null   float32       \n",
      " 6   unit         1572 non-null   object        \n",
      " 7   fat_content  1572 non-null   float32       \n",
      " 8   is_sliced    1572 non-null   bool          \n",
      " 9   is_bzmj      1572 non-null   bool          \n",
      " 10  is_creamy    1572 non-null   bool          \n",
      " 11  discount     1572 non-null   float32       \n",
      " 12  rating       1572 non-null   float32       \n",
      "dtypes: bool(3), datetime64[ms](1), float32(4), float64(1), object(4)\n",
      "memory usage: 103.0+ KB\n"
     ]
    }
   ],
   "source": [
    "df.to_pandas().info()"
   ]
  },
  {
   "cell_type": "markdown",
   "id": "b012a3d2-f982-405d-b40e-2e1491346318",
   "metadata": {},
   "source": [
    "## Выводы"
   ]
  },
  {
   "cell_type": "markdown",
   "id": "1e66402b-ab8d-4999-b05a-9ad8d3ad5e04",
   "metadata": {},
   "source": [
    "Ввиду специфичности данных и досконального знания о значениях данных и причинах пропусков, были использованы не все возможные методы заполнения пропусков и нормализации данных.\n",
    "В целом, можно определить несколько преимущественных способов:\n",
    "- заполнение медианой (в случае заполнения жирности по категории)\n",
    "- заполнение средним в случае отсутствия значений рейтинга за ранние даты\n",
    "- мэтчинг одинаковых продуктов с отличием в наименовании и заполнение пропусков согласно имеющимся данным в других записях"
   ]
  }
 ],
 "metadata": {
  "kernelspec": {
   "display_name": "Python 3 (ipykernel)",
   "language": "python",
   "name": "python3"
  },
  "language_info": {
   "codemirror_mode": {
    "name": "ipython",
    "version": 3
   },
   "file_extension": ".py",
   "mimetype": "text/x-python",
   "name": "python",
   "nbconvert_exporter": "python",
   "pygments_lexer": "ipython3",
   "version": "3.12.4"
  }
 },
 "nbformat": 4,
 "nbformat_minor": 5
}
