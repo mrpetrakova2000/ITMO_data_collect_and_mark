{
 "cells": [
  {
   "cell_type": "markdown",
   "id": "357578c4-aeef-4ab7-a7eb-c05450500d79",
   "metadata": {},
   "source": [
    "# Лабораторная работа 3 \"Разметка данных\""
   ]
  },
  {
   "cell_type": "markdown",
   "id": "f0e45c44-c61d-451d-83ef-6a9fa6773fb3",
   "metadata": {},
   "source": [
    "## Постановка задачи"
   ]
  },
  {
   "cell_type": "markdown",
   "id": "4c62f345-ff2a-48d2-98bd-22287f0b46a0",
   "metadata": {},
   "source": [
    "- Возьмите датасет в первом дз\r\n",
    "- Напишите ТЗ(в свободной форме) для разметки выбранного датасета. (Для текстового датасета можно предложить разметку семантики, для набора изображений – детекцию или сегментацию). Не забывайте про примеры в ТЗ!\r\n",
    "- Добавьте какой-либо валидатор (принимаются подмешивание тестовых кейсов/рассчет метрики согласованности – в этом случае нужно будет предостаивть разметку от минимум 2х людей).\r\n",
    "- Отправьте ваш собранный (но неразмеченный!) датасет знакомому с курса  и предложите разметить по вашему ТЗ. **Получите обратную связь.**\r\n",
    "Для разметки допустимо использовать одну из онлайн-платформ или самостоятельные инструменты (предоставьте инструмент вашему разметчику).\r\n",
    "- Проанализируйте полученные результаты разметки на наличие выбросов/дубликатов/некорректных результатов. Примените методы для их коррекции или удаления. Оцените метрику согласованности, либо квалификацию вашего разметчика на подмешанных тестовых кейсах.\r\n",
    "- Порефлексируйте на тему процесса разметки данных и качества полученных резул итатов.менно для вашего случая."
   ]
  },
  {
   "cell_type": "markdown",
   "id": "1ca94764-c653-45b0-8ba9-f4724662f4f4",
   "metadata": {},
   "source": [
    "## Описание датасета"
   ]
  },
  {
   "cell_type": "markdown",
   "id": "46e19f8c-5043-451a-ad18-7f5843030e16",
   "metadata": {},
   "source": [
    "**Идея:**\n",
    "\n",
    "Получить данные о продуктах и ценах на них в разных магазинах, для возможности поиска наиболее выгодных предложений.\n",
    "Также предполагается извлечение дополнительных признаков из описания товаров и поддержка гибкого добавления новых источников (магазинов).\n",
    "Производится веб-скрейпинг данных с сайтов https://magnit.ru/ (Магнит) и https://5ka.ru/ (Пятерочка). В данной работе производится сбор данных о ценах на товары категории \"Сыр\", за продолжительное время (в идеале, за каждый день)."
   ]
  },
  {
   "cell_type": "markdown",
   "id": "08c574b1-14e7-4b28-9fe8-bd4c28a93bd0",
   "metadata": {},
   "source": [
    "## Разметка"
   ]
  },
  {
   "cell_type": "markdown",
   "id": "e7fbe278-9ec4-48fc-93b4-f1f2eee7e024",
   "metadata": {},
   "source": [
    "Есть выбор между двумя вариантами разметки:\n",
    "- разметка бренда (поскольку функция для извлечения бренда из ЛР1 реализована не универсальной и ошибается)\n",
    "- разметка типа сыра (твердый, полутвердый, рассольный и т.д.) по известным данным (жирность, is_creamy, категория - Бри, Пармезан и т.д.)\n",
    "\n",
    "Первая разметка более простая и не требует экспертизы в области сыров. Второй вариант предполагает бОльшую сложность для разметчика и может допускать субъективность, однако, выглядит как более понятная для модели машинного обучения задача.\n",
    "\n",
    "В этой работе попробуем разметить бренды сыра для возможности дальнейшего обучения модели с NER (https://www.kaggle.com/code/eneszvo/ner-named-entity-recognition-tutorial)."
   ]
  },
  {
   "cell_type": "markdown",
   "id": "9b463a7b-e7c3-43e3-ad7e-6f99d70d576c",
   "metadata": {},
   "source": [
    "## Техническое задание"
   ]
  },
  {
   "cell_type": "markdown",
   "id": "3b7f7e6e-4dd7-4d46-beed-7e761b63728b",
   "metadata": {},
   "source": [
    "Разметить бренды для каждого уникального наименования сыра. Пример:\n",
    "\n",
    "| Название                                                    | Бренд             |\n",
    "|-------------------------------------------------------------|-------------------|\n",
    "| Сыр плавленый Viola Сливочный 35% БЗМЖ 130г                 | Viola             |\n",
    "| Плавленый продукт Рязанский ЗПС колбасный копченый 45% 300г | Рязанский ЗПС     |\n",
    "| Сыр Сернурский СЗ Сернурская Легенда 45% 300г               | Сернурский СЗ     | \n",
    "| Сыр Брест-Литовск Тильзитер нарезка 45% 130г                | Брест-Литовск     |\n",
    "| Сыр М Свежесть Косичка копченая 40% 100г                    | М Свежесть        |\n",
    "| Сыр творожный Савушкин Воздушный сливочный 60% 150г         | Савушкин          |\n",
    "| Сыр плавленый Карат Дружба 45% 90г                          | Карат             |\n",
    "| Сыр Premiere of taste мягкий с белой плесенью Камамбер 125г | Premiere of taste |\n",
    "| Сыр Магнит Белорусское золото 45% весовой                   | Магнит            |\n",
    "| Сыр Мега Мастер Чечил Боровский 45% 100г 60% 150г\"          | Мега Мастер       |"
   ]
  },
  {
   "cell_type": "markdown",
   "id": "b1781503-aa30-467a-93a6-534b7ea391c6",
   "metadata": {},
   "source": [
    "## Работа разметчика"
   ]
  },
  {
   "cell_type": "markdown",
   "id": "2423f503-0baf-4484-8ba6-f4785704aa94",
   "metadata": {},
   "source": [
    "Для разметки брендов была предоставлена выборка из датасета: набор уникальных брендов. Используемая платформа для разметки - Google Sheets (https://docs.google.com/spreadsheets/d/1OGNTovui8utSQ92NAzAKQFLr5Dk_0AjxBfuSQJlBy-A/edit?usp=sharing)"
   ]
  },
  {
   "cell_type": "markdown",
   "id": "cb4aa475-93a8-43a6-a190-bf2924b0020b",
   "metadata": {},
   "source": [
    "## Валидатор"
   ]
  },
  {
   "cell_type": "markdown",
   "id": "e4ce04a3-a717-48a2-acd9-975d98121a2d",
   "metadata": {},
   "source": [
    "Для валидации разметим некоторое количество записей (около 5-10%). "
   ]
  },
  {
   "cell_type": "markdown",
   "id": "2c0fdeb8-7966-4046-bb05-f0863904eede",
   "metadata": {},
   "source": [
    "## Импорт библиотек"
   ]
  },
  {
   "cell_type": "code",
   "execution_count": 40,
   "id": "5126b848-4253-40b0-a235-a181536c0e44",
   "metadata": {},
   "outputs": [],
   "source": [
    "!pip install -q psycopg2 matplotlib seaborn polars scikit-learn rapidfuzz"
   ]
  },
  {
   "cell_type": "code",
   "execution_count": 41,
   "id": "6d4808ed-5231-4888-9781-b91b2fb9be74",
   "metadata": {},
   "outputs": [],
   "source": [
    "from sqlalchemy import create_engine, Column, Float, String, Date, Boolean, Integer\n",
    "from sqlalchemy.ext.declarative import declarative_base\n",
    "from sqlalchemy.orm import sessionmaker\n",
    "\n",
    "from typing import Optional, Tuple, Dict\n",
    "import matplotlib.pyplot as plt\n",
    "from datetime import date\n",
    "import seaborn as sns\n",
    "import pandas as pd\n",
    "import polars as pl\n",
    "import numpy as np\n",
    "import requests\n",
    "import random\n",
    "import time\n",
    "import csv\n",
    "import os\n",
    "import re"
   ]
  },
  {
   "cell_type": "markdown",
   "id": "c1aad84a-a684-481a-af99-115b932b9be0",
   "metadata": {},
   "source": [
    "## Конфигурация подключения к базе данных"
   ]
  },
  {
   "cell_type": "code",
   "execution_count": 42,
   "id": "4921c33c-68ec-4056-a45c-e633953abf57",
   "metadata": {},
   "outputs": [
    {
     "name": "stderr",
     "output_type": "stream",
     "text": [
      "C:\\Users\\admin\\AppData\\Local\\Temp\\ipykernel_20612\\988954521.py:1: MovedIn20Warning: The ``declarative_base()`` function is now available as sqlalchemy.orm.declarative_base(). (deprecated since: 2.0) (Background on SQLAlchemy 2.0 at: https://sqlalche.me/e/b8d9)\n",
      "  Base = declarative_base()\n"
     ]
    }
   ],
   "source": [
    "Base = declarative_base()\n",
    "\n",
    "DATABASE_URL = \"postgresql+psycopg2://{username}:{password}@{host}:{port}/{db_name}\".format(\n",
    "    host=os.getenv(\"POSTGRES_HOST\", \"localhost\"),\n",
    "    port=os.getenv(\"POSTGRES_PORT\", \"5432\"),\n",
    "    db_name=os.getenv(\"POSTGRES_DB\", \"store_parser\"),\n",
    "    username=os.getenv(\"POSTGRES_USER\", \"postgres\"),\n",
    "    password=os.getenv(\"POSTGRES_PASSWORD\", \"123456\"),\n",
    "\n",
    ")\n",
    "\n",
    "def init_db():\n",
    "    engine = create_engine(DATABASE_URL)\n",
    "    Base.metadata.create_all(engine)\n",
    "    Session = sessionmaker(bind=engine)\n",
    "    return Session()"
   ]
  },
  {
   "cell_type": "markdown",
   "id": "8a9d9e2e-3bc6-4c0f-91f9-2cccc7029935",
   "metadata": {},
   "source": [
    "## Класс, соответствующий структуре таблицы в БД"
   ]
  },
  {
   "cell_type": "code",
   "execution_count": 43,
   "id": "53ebea59-c460-4752-892f-c07678ecdfa4",
   "metadata": {},
   "outputs": [],
   "source": [
    "class ProductFilled(Base):\n",
    "    __tablename__ = 'store_products_filled'\n",
    "\n",
    "    name = Column(String, nullable=False, primary_key=True)\n",
    "    brand = Column(String)\n",
    "    price = Column(Float)  \n",
    "    weight = Column(Float)\n",
    "    unit = Column(String)\n",
    "    fat_content = Column(Float, nullable=True)\n",
    "    is_sliced = Column(Boolean, nullable=True)\n",
    "    is_bzmj = Column(Boolean, nullable=True)\n",
    "    is_creamy = Column(Boolean, nullable=True)\n",
    "    discount = Column(Float, nullable=True) \n",
    "    rating = Column(Float, nullable=True)\n",
    "    date_added = Column(Date, default=date.today, primary_key=True)  \n",
    "    store = Column(String, nullable=False, primary_key=True)\n",
    "\n",
    "    __table_args__ = {'extend_existing': True}\n",
    "\n",
    "    def __repr__(self):\n",
    "        return f\"<ProductFilled(name='{self.name}', price={self.price}, date_added={self.date_added}, store={self.store})>\""
   ]
  },
  {
   "cell_type": "markdown",
   "id": "876803c4-038e-4d75-84e8-3c65dc61efcd",
   "metadata": {},
   "source": [
    "## Инициализация БД"
   ]
  },
  {
   "cell_type": "code",
   "execution_count": 48,
   "id": "69cb0ff7-394b-4986-b079-2ceacc8e8c37",
   "metadata": {},
   "outputs": [],
   "source": [
    "session = init_db()"
   ]
  },
  {
   "cell_type": "code",
   "execution_count": 111,
   "id": "34e6f244-6219-40e6-a93e-3d9549afd96b",
   "metadata": {},
   "outputs": [],
   "source": [
    "# Определение схемы данных\n",
    "load_schema = {\n",
    "    \"name\": pl.Utf8,\n",
    "    \"price\": pl.Float64,\n",
    "    \"date_added\": pl.Date,\n",
    "    \"store\": pl.Utf8,\n",
    "    \"brand_auto\": pl.Utf8,\n",
    "    \"weight\": pl.Float32,\n",
    "    \"unit\": pl.Utf8,\n",
    "    \"fat_content\": pl.Float32,\n",
    "    \"is_sliced\": pl.Boolean,\n",
    "    \"is_bzmj\": pl.Boolean,\n",
    "    \"is_creamy\": pl.Boolean,\n",
    "    \"discount\": pl.Float32,\n",
    "    \"rating\": pl.Float32\n",
    "}"
   ]
  },
  {
   "cell_type": "markdown",
   "id": "ba8253d5-989b-43b5-a861-a292e36a8149",
   "metadata": {},
   "source": [
    "## Получение всех данных"
   ]
  },
  {
   "cell_type": "code",
   "execution_count": 113,
   "id": "30c311b2-76a3-4439-b125-1f1848eb9ce6",
   "metadata": {},
   "outputs": [
    {
     "data": {
      "text/html": [
       "<div><style>\n",
       ".dataframe > thead > tr,\n",
       ".dataframe > tbody > tr {\n",
       "  text-align: right;\n",
       "  white-space: pre-wrap;\n",
       "}\n",
       "</style>\n",
       "<small>shape: (5, 13)</small><table border=\"1\" class=\"dataframe\"><thead><tr><th>name</th><th>price</th><th>date_added</th><th>store</th><th>brand_auto</th><th>weight</th><th>unit</th><th>fat_content</th><th>is_sliced</th><th>is_bzmj</th><th>is_creamy</th><th>discount</th><th>rating</th></tr><tr><td>str</td><td>f64</td><td>date</td><td>str</td><td>str</td><td>f32</td><td>str</td><td>f32</td><td>bool</td><td>bool</td><td>bool</td><td>f32</td><td>f32</td></tr></thead><tbody><tr><td>&quot;Продукт рассольный Сиртаки Ori…</td><td>149.99</td><td>2025-04-03</td><td>&quot;Магнит&quot;</td><td>&quot;Сиртаки Original&quot;</td><td>200.0</td><td>&quot;г&quot;</td><td>55.0</td><td>false</td><td>false</td><td>false</td><td>0.0</td><td>4.8</td></tr><tr><td>&quot;Сыр Hochland Сливочный плавлен…</td><td>359.99</td><td>2025-03-28</td><td>&quot;Пятерочка&quot;</td><td>&quot;Hochland Сливочный&quot;</td><td>400.0</td><td>&quot;г&quot;</td><td>55.0</td><td>false</td><td>true</td><td>true</td><td>10.0</td><td>4.94</td></tr><tr><td>&quot;Сыр Сыробогатов Дружба плавлен…</td><td>71.49</td><td>2025-04-04</td><td>&quot;Пятерочка&quot;</td><td>&quot;Сыробогатов Дружба&quot;</td><td>80.0</td><td>&quot;г&quot;</td><td>50.0</td><td>false</td><td>true</td><td>true</td><td>0.0</td><td>4.79</td></tr><tr><td>&quot;Сыр Landkaas Тильзитер 45% вес…</td><td>230.97</td><td>2025-03-31</td><td>&quot;Магнит&quot;</td><td>&quot;Landkaas Тильзитер&quot;</td><td>1.0</td><td>&quot;кг&quot;</td><td>45.0</td><td>false</td><td>false</td><td>false</td><td>10.0</td><td>4.6</td></tr><tr><td>&quot;Сыр ЭкоНива Momente aus Scholl…</td><td>199.99</td><td>2025-04-05</td><td>&quot;Магнит&quot;</td><td>&quot;ЭкоНива Momente&quot;</td><td>200.0</td><td>&quot;г&quot;</td><td>50.0</td><td>false</td><td>false</td><td>false</td><td>13.0</td><td>4.7</td></tr></tbody></table></div>"
      ],
      "text/plain": [
       "shape: (5, 13)\n",
       "┌─────────────────────────────────┬────────┬────────────┬───────────┬───┬─────────┬───────────┬──────────┬────────┐\n",
       "│ name                            ┆ price  ┆ date_added ┆ store     ┆ … ┆ is_bzmj ┆ is_creamy ┆ discount ┆ rating │\n",
       "│ ---                             ┆ ---    ┆ ---        ┆ ---       ┆   ┆ ---     ┆ ---       ┆ ---      ┆ ---    │\n",
       "│ str                             ┆ f64    ┆ date       ┆ str       ┆   ┆ bool    ┆ bool      ┆ f32      ┆ f32    │\n",
       "╞═════════════════════════════════╪════════╪════════════╪═══════════╪═══╪═════════╪═══════════╪══════════╪════════╡\n",
       "│ Продукт рассольный Сиртаки Ori… ┆ 149.99 ┆ 2025-04-03 ┆ Магнит    ┆ … ┆ false   ┆ false     ┆ 0.0      ┆ 4.8    │\n",
       "│ Сыр Hochland Сливочный плавлен… ┆ 359.99 ┆ 2025-03-28 ┆ Пятерочка ┆ … ┆ true    ┆ true      ┆ 10.0     ┆ 4.94   │\n",
       "│ Сыр Сыробогатов Дружба плавлен… ┆ 71.49  ┆ 2025-04-04 ┆ Пятерочка ┆ … ┆ true    ┆ true      ┆ 0.0      ┆ 4.79   │\n",
       "│ Сыр Landkaas Тильзитер 45% вес… ┆ 230.97 ┆ 2025-03-31 ┆ Магнит    ┆ … ┆ false   ┆ false     ┆ 10.0     ┆ 4.6    │\n",
       "│ Сыр ЭкоНива Momente aus Scholl… ┆ 199.99 ┆ 2025-04-05 ┆ Магнит    ┆ … ┆ false   ┆ false     ┆ 13.0     ┆ 4.7    │\n",
       "└─────────────────────────────────┴────────┴────────────┴───────────┴───┴─────────┴───────────┴──────────┴────────┘"
      ]
     },
     "execution_count": 113,
     "metadata": {},
     "output_type": "execute_result"
    }
   ],
   "source": [
    "results = (\n",
    "    session\n",
    "    .query(ProductFilled)\n",
    "    .order_by(ProductFilled.date_added.asc())\n",
    "    .all()\n",
    ")\n",
    "\n",
    "data = [{\n",
    "    \"name\": product.name,\n",
    "    \"price\": product.price,\n",
    "    \"date_added\": product.date_added,\n",
    "    \"store\": product.store,\n",
    "    \"brand_auto\": product.brand,\n",
    "    \"weight\": product.weight,\n",
    "    \"unit\": product.unit,\n",
    "    \"fat_content\": product.fat_content,\n",
    "    \"is_sliced\": product.is_sliced,\n",
    "    \"is_creamy\": product.is_creamy,\n",
    "    \"is_bzmj\": product.is_bzmj,\n",
    "    \"discount\": product.discount,\n",
    "    \"rating\": product.rating\n",
    "} for product in results]\n",
    "\n",
    "# df = pd.DataFrame(data)\n",
    "df = pl.DataFrame(data, schema=load_schema)\n",
    "df.sample(5)"
   ]
  },
  {
   "cell_type": "code",
   "execution_count": 24,
   "id": "f05399fd-d73c-4cd9-9d8b-4468d4905ec9",
   "metadata": {},
   "outputs": [],
   "source": [
    "session.close()"
   ]
  },
  {
   "cell_type": "markdown",
   "id": "077f6847-ce35-4aa3-b0ba-d9da0256cff3",
   "metadata": {},
   "source": [
    "## Выборочная ручная разметка"
   ]
  },
  {
   "cell_type": "markdown",
   "id": "4df2180c-4a4e-4c3c-8a00-9e62b83a359e",
   "metadata": {},
   "source": [
    "Разметим некоторые записи для валидации разметки"
   ]
  },
  {
   "cell_type": "code",
   "execution_count": 164,
   "id": "b3676cf8-13e6-4d74-8c70-4c59de6855b9",
   "metadata": {},
   "outputs": [],
   "source": [
    "df = df.with_columns(\n",
    "     pl.when(pl.col(\"name\").str.to_lowercase().str.contains(\"viola\"))\n",
    "      .then(pl.lit(\"Viola\"))  # Используем pl.lit для строкового значения\n",
    "      .when(pl.col(\"name\").str.to_lowercase().str.contains(\"kesidis\"))\n",
    "      .then(pl.lit(\"Kesidis\"))\n",
    "      .otherwise(None)\n",
    "    .alias(\"brand_mark\") \n",
    ")"
   ]
  },
  {
   "cell_type": "code",
   "execution_count": 166,
   "id": "9c453b88-212b-48b6-a00f-d95a2bda21c9",
   "metadata": {},
   "outputs": [
    {
     "data": {
      "text/plain": [
       "6.6793893129771025"
      ]
     },
     "execution_count": 166,
     "metadata": {},
     "output_type": "execute_result"
    }
   ],
   "source": [
    "(\n",
    "    df.select(\n",
    "        (1 - pl.col(\"brand_mark\").is_null().mean()).alias(\"fill_percentage\")\n",
    "    ).item() * 100\n",
    ")"
   ]
  },
  {
   "cell_type": "markdown",
   "id": "a05a3f87-7698-454f-9887-bc4b0f6cf97a",
   "metadata": {},
   "source": [
    "## Проверка результатов разметки"
   ]
  },
  {
   "cell_type": "code",
   "execution_count": 168,
   "id": "8d48a2d1-c1c1-4425-ac8a-3ef8db45da8d",
   "metadata": {},
   "outputs": [],
   "source": [
    "schema = {\n",
    "    \"name\": pl.Utf8,\n",
    "    \"brand\": pl.Utf8\n",
    "}"
   ]
  },
  {
   "cell_type": "code",
   "execution_count": 170,
   "id": "120d805a-51e7-460e-afce-3edd3bda0b21",
   "metadata": {},
   "outputs": [],
   "source": [
    "df_marked = pl.read_csv(\"Сыр_разметка.csv\", separator=';', schema=schema)"
   ]
  },
  {
   "cell_type": "code",
   "execution_count": 196,
   "id": "6bf66d70-99bb-484a-9af8-85b6c421a073",
   "metadata": {},
   "outputs": [],
   "source": [
    "df_marked = df_marked.with_columns(\n",
    "    pl.col(\"brand\").str.strip_chars().alias('brand')\n",
    ")"
   ]
  },
  {
   "cell_type": "code",
   "execution_count": 198,
   "id": "c4657992-6af0-4edc-9d74-b2ee67251e83",
   "metadata": {},
   "outputs": [
    {
     "data": {
      "text/html": [
       "<div><style>\n",
       ".dataframe > thead > tr,\n",
       ".dataframe > tbody > tr {\n",
       "  text-align: right;\n",
       "  white-space: pre-wrap;\n",
       "}\n",
       "</style>\n",
       "<small>shape: (10, 2)</small><table border=\"1\" class=\"dataframe\"><thead><tr><th>name</th><th>brand</th></tr><tr><td>str</td><td>str</td></tr></thead><tbody><tr><td>&quot;Сыр Брест-Литовск Классический…</td><td>&quot;Брест-Литовск&quot;</td></tr><tr><td>&quot;Сыр творожный Савушкин Воздушн…</td><td>&quot;Савушкин&quot;</td></tr><tr><td>&quot;Сыр Viola Маасдам полутвердый …</td><td>&quot;Viola&quot;</td></tr><tr><td>&quot;Сыр Сыробогатов Швейцарский 45…</td><td>&quot;Сыробогатов&quot;</td></tr><tr><td>&quot;Сыр Galbani Моцарелла 45% БЗМЖ…</td><td>&quot;Galbani&quot;</td></tr><tr><td>&quot;Сыр плавленый Карат Дружба 45%…</td><td>&quot;Карат&quot;</td></tr><tr><td>&quot;Сыр Сваля Тильзитер нарезка 45…</td><td>&quot;Сваля&quot;</td></tr><tr><td>&quot;Сыр мягкий Ришелье Бри с белой…</td><td>&quot;Ришелье&quot;</td></tr><tr><td>&quot;Сыр Предгорье Кавказа Ассорти …</td><td>&quot;Предгорье Кавказа&quot;</td></tr><tr><td>&quot;Сыр Сыробогатов Дружба плавлен…</td><td>&quot;Сыробогатов&quot;</td></tr></tbody></table></div>"
      ],
      "text/plain": [
       "shape: (10, 2)\n",
       "┌─────────────────────────────────┬───────────────────┐\n",
       "│ name                            ┆ brand             │\n",
       "│ ---                             ┆ ---               │\n",
       "│ str                             ┆ str               │\n",
       "╞═════════════════════════════════╪═══════════════════╡\n",
       "│ Сыр Брест-Литовск Классический… ┆ Брест-Литовск     │\n",
       "│ Сыр творожный Савушкин Воздушн… ┆ Савушкин          │\n",
       "│ Сыр Viola Маасдам полутвердый … ┆ Viola             │\n",
       "│ Сыр Сыробогатов Швейцарский 45… ┆ Сыробогатов       │\n",
       "│ Сыр Galbani Моцарелла 45% БЗМЖ… ┆ Galbani           │\n",
       "│ Сыр плавленый Карат Дружба 45%… ┆ Карат             │\n",
       "│ Сыр Сваля Тильзитер нарезка 45… ┆ Сваля             │\n",
       "│ Сыр мягкий Ришелье Бри с белой… ┆ Ришелье           │\n",
       "│ Сыр Предгорье Кавказа Ассорти … ┆ Предгорье Кавказа │\n",
       "│ Сыр Сыробогатов Дружба плавлен… ┆ Сыробогатов       │\n",
       "└─────────────────────────────────┴───────────────────┘"
      ]
     },
     "execution_count": 198,
     "metadata": {},
     "output_type": "execute_result"
    }
   ],
   "source": [
    "df_marked.head(10)"
   ]
  },
  {
   "cell_type": "markdown",
   "id": "130a9f16-0c20-4054-96f1-6a0f4c9ff9b8",
   "metadata": {},
   "source": [
    "### Джойним с исходным датасетом"
   ]
  },
  {
   "cell_type": "code",
   "execution_count": 200,
   "id": "6e6ef410-01a2-4258-9c6f-7328562bc49a",
   "metadata": {},
   "outputs": [
    {
     "data": {
      "text/html": [
       "<div><style>\n",
       ".dataframe > thead > tr,\n",
       ".dataframe > tbody > tr {\n",
       "  text-align: right;\n",
       "  white-space: pre-wrap;\n",
       "}\n",
       "</style>\n",
       "<small>shape: (5, 16)</small><table border=\"1\" class=\"dataframe\"><thead><tr><th>name</th><th>price</th><th>date_added</th><th>store</th><th>brand_auto</th><th>weight</th><th>unit</th><th>fat_content</th><th>is_sliced</th><th>is_bzmj</th><th>is_creamy</th><th>discount</th><th>rating</th><th>brand_marked</th><th>brand_mark</th><th>brand</th></tr><tr><td>str</td><td>f64</td><td>date</td><td>str</td><td>str</td><td>f32</td><td>str</td><td>f32</td><td>bool</td><td>bool</td><td>bool</td><td>f32</td><td>f32</td><td>str</td><td>str</td><td>str</td></tr></thead><tbody><tr><td>&quot;Сыр Предгорье Кавказа Ассорти …</td><td>169.99</td><td>2025-04-02</td><td>&quot;Магнит&quot;</td><td>&quot;Предгорье Кавказа Ассорти&quot;</td><td>110.0</td><td>&quot;г&quot;</td><td>45.0</td><td>false</td><td>false</td><td>false</td><td>0.0</td><td>4.5</td><td>null</td><td>null</td><td>&quot;Предгорье Кавказа&quot;</td></tr><tr><td>&quot;Сыр плавленый Карат Дружба 45%…</td><td>63.99</td><td>2025-04-03</td><td>&quot;Магнит&quot;</td><td>&quot;Карат Дружба&quot;</td><td>90.0</td><td>&quot;г&quot;</td><td>45.0</td><td>false</td><td>false</td><td>true</td><td>0.0</td><td>4.7</td><td>null</td><td>null</td><td>&quot;Карат&quot;</td></tr><tr><td>&quot;Сыр Gruyere твердый 49% БЗМЖ&quot;</td><td>329.9</td><td>2025-03-28</td><td>&quot;Пятерочка&quot;</td><td>&quot;Gruyere&quot;</td><td>1.0</td><td>&quot;кг&quot;</td><td>49.0</td><td>false</td><td>true</td><td>false</td><td>0.0</td><td>4.79</td><td>null</td><td>null</td><td>&quot;нет&quot;</td></tr><tr><td>&quot;Сыр Поставы Городок Пармезан г…</td><td>179.99</td><td>2025-03-31</td><td>&quot;Магнит&quot;</td><td>&quot;Поставы Городок Пармезан&quot;</td><td>200.0</td><td>&quot;г&quot;</td><td>45.0</td><td>false</td><td>false</td><td>false</td><td>10.0</td><td>4.5</td><td>null</td><td>null</td><td>&quot;Поставы Городок&quot;</td></tr><tr><td>&quot;Сыр Sernur cheese Халумис из к…</td><td>174.99</td><td>2025-03-26</td><td>&quot;Пятерочка&quot;</td><td>&quot;Sernur&quot;</td><td>200.0</td><td>&quot;г&quot;</td><td>50.0</td><td>false</td><td>true</td><td>false</td><td>0.0</td><td>4.805882</td><td>null</td><td>null</td><td>&quot;Sernur cheese&quot;</td></tr></tbody></table></div>"
      ],
      "text/plain": [
       "shape: (5, 16)\n",
       "┌─────────────────────┬────────┬────────────┬───────────┬───┬──────────┬──────────────┬────────────┬───────────────────┐\n",
       "│ name                ┆ price  ┆ date_added ┆ store     ┆ … ┆ rating   ┆ brand_marked ┆ brand_mark ┆ brand             │\n",
       "│ ---                 ┆ ---    ┆ ---        ┆ ---       ┆   ┆ ---      ┆ ---          ┆ ---        ┆ ---               │\n",
       "│ str                 ┆ f64    ┆ date       ┆ str       ┆   ┆ f32      ┆ str          ┆ str        ┆ str               │\n",
       "╞═════════════════════╪════════╪════════════╪═══════════╪═══╪══════════╪══════════════╪════════════╪═══════════════════╡\n",
       "│ Сыр Предгорье       ┆ 169.99 ┆ 2025-04-02 ┆ Магнит    ┆ … ┆ 4.5      ┆ null         ┆ null       ┆ Предгорье Кавказа │\n",
       "│ Кавказа Ассорти …   ┆        ┆            ┆           ┆   ┆          ┆              ┆            ┆                   │\n",
       "│ Сыр плавленый Карат ┆ 63.99  ┆ 2025-04-03 ┆ Магнит    ┆ … ┆ 4.7      ┆ null         ┆ null       ┆ Карат             │\n",
       "│ Дружба 45%…         ┆        ┆            ┆           ┆   ┆          ┆              ┆            ┆                   │\n",
       "│ Сыр Gruyere твердый ┆ 329.9  ┆ 2025-03-28 ┆ Пятерочка ┆ … ┆ 4.79     ┆ null         ┆ null       ┆ нет               │\n",
       "│ 49% БЗМЖ            ┆        ┆            ┆           ┆   ┆          ┆              ┆            ┆                   │\n",
       "│ Сыр Поставы Городок ┆ 179.99 ┆ 2025-03-31 ┆ Магнит    ┆ … ┆ 4.5      ┆ null         ┆ null       ┆ Поставы Городок   │\n",
       "│ Пармезан г…         ┆        ┆            ┆           ┆   ┆          ┆              ┆            ┆                   │\n",
       "│ Сыр Sernur cheese   ┆ 174.99 ┆ 2025-03-26 ┆ Пятерочка ┆ … ┆ 4.805882 ┆ null         ┆ null       ┆ Sernur cheese     │\n",
       "│ Халумис из к…       ┆        ┆            ┆           ┆   ┆          ┆              ┆            ┆                   │\n",
       "└─────────────────────┴────────┴────────────┴───────────┴───┴──────────┴──────────────┴────────────┴───────────────────┘"
      ]
     },
     "execution_count": 200,
     "metadata": {},
     "output_type": "execute_result"
    }
   ],
   "source": [
    "df_joined = (\n",
    "    df\n",
    "    .join(df_marked, on='name', how='left')\n",
    ")\n",
    "df_joined.sample(5)"
   ]
  },
  {
   "cell_type": "code",
   "execution_count": 202,
   "id": "a07d3a5e-7a9d-4c6a-b190-a8e408b6f349",
   "metadata": {},
   "outputs": [
    {
     "data": {
      "text/plain": [
       "74"
      ]
     },
     "execution_count": 202,
     "metadata": {},
     "output_type": "execute_result"
    }
   ],
   "source": [
    "# Количество уникальных брендов\n",
    "count = (\n",
    "    df_joined\n",
    "    .select(pl.col('brand').unique())\n",
    "    .filter(pl.col('brand').is_not_null()) \n",
    "    .height \n",
    ")\n",
    "count"
   ]
  },
  {
   "cell_type": "code",
   "execution_count": 204,
   "id": "af607210-d9e4-4d12-8427-cfc8db2704eb",
   "metadata": {},
   "outputs": [
    {
     "data": {
      "text/html": [
       "<div><style>\n",
       ".dataframe > thead > tr,\n",
       ".dataframe > tbody > tr {\n",
       "  text-align: right;\n",
       "  white-space: pre-wrap;\n",
       "}\n",
       "</style>\n",
       "<small>shape: (10, 2)</small><table border=\"1\" class=\"dataframe\"><thead><tr><th>brand</th><th>count</th></tr><tr><td>str</td><td>u32</td></tr></thead><tbody><tr><td>&quot;Hochland&quot;</td><td>22</td></tr><tr><td>&quot;Брест-Литовск&quot;</td><td>17</td></tr><tr><td>&quot;Viola&quot;</td><td>14</td></tr><tr><td>&quot;Liebendorf&quot;</td><td>13</td></tr><tr><td>&quot;Pretto&quot;</td><td>7</td></tr><tr><td>&quot;Сыробогатов&quot;</td><td>6</td></tr><tr><td>&quot;Вкус &amp; Польза&quot;</td><td>6</td></tr><tr><td>&quot;Экомилк&quot;</td><td>6</td></tr><tr><td>&quot;Almette&quot;</td><td>5</td></tr><tr><td>&quot;Sveza&quot;</td><td>5</td></tr></tbody></table></div>"
      ],
      "text/plain": [
       "shape: (10, 2)\n",
       "┌───────────────┬───────┐\n",
       "│ brand         ┆ count │\n",
       "│ ---           ┆ ---   │\n",
       "│ str           ┆ u32   │\n",
       "╞═══════════════╪═══════╡\n",
       "│ Hochland      ┆ 22    │\n",
       "│ Брест-Литовск ┆ 17    │\n",
       "│ Viola         ┆ 14    │\n",
       "│ Liebendorf    ┆ 13    │\n",
       "│ Pretto        ┆ 7     │\n",
       "│ Сыробогатов   ┆ 6     │\n",
       "│ Вкус & Польза ┆ 6     │\n",
       "│ Экомилк       ┆ 6     │\n",
       "│ Almette       ┆ 5     │\n",
       "│ Sveza         ┆ 5     │\n",
       "└───────────────┴───────┘"
      ]
     },
     "execution_count": 204,
     "metadata": {},
     "output_type": "execute_result"
    }
   ],
   "source": [
    "# Наиболее популярные бренды\n",
    "top = (\n",
    "    df_joined\n",
    "    .unique(subset=['name', 'brand'])\n",
    "    .group_by('brand')\n",
    "    .agg(\n",
    "        pl.len().alias('count')\n",
    "    )\n",
    "    .sort('count', descending=True)\n",
    ")\n",
    "\n",
    "top.head(10)"
   ]
  },
  {
   "cell_type": "markdown",
   "id": "1a10c4c4-1458-4171-b02c-9704501928c4",
   "metadata": {},
   "source": [
    "## Расчет точности ручной разметки по валидационной выборке"
   ]
  },
  {
   "cell_type": "code",
   "execution_count": 212,
   "id": "7d54d681-7c07-41a0-92fe-14de9fe88b73",
   "metadata": {},
   "outputs": [
    {
     "name": "stdout",
     "output_type": "stream",
     "text": [
      "Точность ручной разметки (по уникальным брендам): 100.0% (2/2)\n"
     ]
    }
   ],
   "source": [
    "unique_brands = df_joined.select([\"brand\", \"brand_mark\"]).unique()\n",
    "\n",
    "# Считаем совпадения среди уникальных брендов\n",
    "matches = unique_brands.filter(\n",
    "    (pl.col(\"brand\") == pl.col(\"brand_mark\")) & \n",
    "    (pl.col(\"brand_mark\").is_not_null())\n",
    ").height\n",
    "\n",
    "# Общее количество размеченных уникальных брендов\n",
    "total = unique_brands.filter(\n",
    "    pl.col(\"brand_mark\").is_not_null()\n",
    ").height\n",
    "\n",
    "print(f\"Точность ручной разметки (по уникальным брендам): {matches/total:.1%} ({matches}/{total})\")"
   ]
  },
  {
   "cell_type": "markdown",
   "id": "80a8b45c-655b-4aa1-a9b0-0d4129757baa",
   "metadata": {},
   "source": [
    "## Сверка ручной точности и автоматической"
   ]
  },
  {
   "cell_type": "code",
   "execution_count": 254,
   "id": "c09350f6-fd9e-4fe3-9593-9b7807e12483",
   "metadata": {},
   "outputs": [
    {
     "name": "stdout",
     "output_type": "stream",
     "text": [
      "Точность автоматической разметки: 17.0% (27/159)\n"
     ]
    }
   ],
   "source": [
    "unique_brands = df_joined.select([\"brand\", \"brand_auto\"]).unique()\n",
    "\n",
    "matches_auto = unique_brands.filter(\n",
    "    (pl.col(\"brand\") == pl.col(\"brand_auto\")) & \n",
    "    (pl.col(\"brand\").is_not_null())\n",
    ").height\n",
    "\n",
    "total = unique_brands.filter(pl.col(\"brand\").is_not_null()).height\n",
    "\n",
    "print(f\"Точность автоматической разметки: {matches_auto/total:.1%} ({matches_auto}/{total})\")"
   ]
  },
  {
   "cell_type": "code",
   "execution_count": 258,
   "id": "fdbb3731-c939-446b-b148-bf589fcae697",
   "metadata": {},
   "outputs": [
    {
     "name": "stdout",
     "output_type": "stream",
     "text": [
      "\n",
      "Примеры ошибок:\n",
      "shape: (132, 2)\n",
      "┌───────────────────┬─────────────────────────────────┐\n",
      "│ brand             ┆ brand_auto                      │\n",
      "│ ---               ┆ ---                             │\n",
      "│ str               ┆ str                             │\n",
      "╞═══════════════════╪═════════════════════════════════╡\n",
      "│ Viola             ┆ Viola Классический              │\n",
      "│ нет               ┆ Дружба                          │\n",
      "│ Предгорье Кавказа ┆ Предгорье Кавказа Чечил-спагет… │\n",
      "│ Брест-Литовск     ┆ Брест-Литовск Королевский       │\n",
      "│ ЭкоНива           ┆ ЭкоНива Momente                 │\n",
      "│ …                 ┆ …                               │\n",
      "│ Умалат            ┆ Умалат Сулугуни                 │\n",
      "│ Брест-Литовск     ┆ Брест-Литовск Тильзитер         │\n",
      "│ Радость вкуса     ┆ Радость                         │\n",
      "│ President         ┆ President Сливочный             │\n",
      "│ Карат             ┆ Карат Дружба                    │\n",
      "└───────────────────┴─────────────────────────────────┘\n"
     ]
    }
   ],
   "source": [
    "# Примеры ошибок\n",
    "\n",
    "unique_brands = df_joined.select([\"brand\", \"brand_auto\"]).unique()\n",
    "    \n",
    "errors = unique_brands.filter(\n",
    "    (pl.col(\"brand\") != pl.col(\"brand_auto\")) & \n",
    "    (pl.col(\"brand\").is_not_null())\n",
    ")\n",
    "\n",
    "if errors.height > 0:\n",
    "    print(\"\\nПримеры ошибок:\")\n",
    "    print(errors.select([\"brand\", \"brand_auto\"]))"
   ]
  },
  {
   "cell_type": "markdown",
   "id": "b012a3d2-f982-405d-b40e-2e1491346318",
   "metadata": {},
   "source": [
    "## Выводы"
   ]
  },
  {
   "cell_type": "markdown",
   "id": "1e66402b-ab8d-4999-b05a-9ad8d3ad5e04",
   "metadata": {},
   "source": [
    "**Что получилось:**\n",
    "- Ручная разметка значительно улучшила покрытие брендов. Поскольку написание функции для парсинга и поиска бренда по наименованию не дала успешных результатов (точность ), необходимо использование модели типа NRE (например) для точного заполнения признака.\n",
    "- Проведено сравнение результатов ручной разметки и валидационной выборки (точность разметчика: 100%). Ввиду относительной простоты задачи, ошибок не было допущено\n",
    "- Проведено сравнение результатов ручной разметки человеком и автоматической (из ЛР1 парсинг по полю name). Приняв ручную разметку за истину, получили точность автоматической разметки как: 17%.\n",
    "\n",
    "**Мысли:**\n",
    "- Как вариант разметки дополнительной можно рассмотреть разметку категории сыра (твердый, мягкий, полутвердый и т.д)\n",
    "\n",
    "**Применение:**\n",
    "\n",
    "- Анализ ценовой политики по брендам\n",
    "- Построение модели для прогнозирования спроса\n",
    "\n",
    "Финальный вывод: Разметка качественная, но можно рассмотреть другие варианты ТЗ для разметки с новыми целями.окрытия данных."
   ]
  },
  {
   "cell_type": "code",
   "execution_count": null,
   "id": "f0530715-0820-49d7-968b-94303d2badf2",
   "metadata": {},
   "outputs": [],
   "source": []
  }
 ],
 "metadata": {
  "kernelspec": {
   "display_name": "Python 3 (ipykernel)",
   "language": "python",
   "name": "python3"
  },
  "language_info": {
   "codemirror_mode": {
    "name": "ipython",
    "version": 3
   },
   "file_extension": ".py",
   "mimetype": "text/x-python",
   "name": "python",
   "nbconvert_exporter": "python",
   "pygments_lexer": "ipython3",
   "version": "3.12.4"
  }
 },
 "nbformat": 4,
 "nbformat_minor": 5
}
