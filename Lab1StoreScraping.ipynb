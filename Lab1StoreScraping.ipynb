{
 "cells": [
  {
   "cell_type": "markdown",
   "id": "357578c4-aeef-4ab7-a7eb-c05450500d79",
   "metadata": {},
   "source": [
    "# Лабораторная работа 1 "
   ]
  },
  {
   "cell_type": "markdown",
   "id": "f0e45c44-c61d-451d-83ef-6a9fa6773fb3",
   "metadata": {},
   "source": [
    "## Постановка задачи"
   ]
  },
  {
   "cell_type": "markdown",
   "id": "4c62f345-ff2a-48d2-98bd-22287f0b46a0",
   "metadata": {},
   "source": [
    "- Сбор данных из двух разных источников (открытый датасет / веб-скрейпинг или API).\n",
    "- Агрегация в единый датасет.\n",
    "- Разведывательный анализ данных (EDA).\n",
    "- Базовые визуализации для основных признаков с учетом разметки данных.\n",
    "- Возможные применения этих данных в контексте машинного обучения."
   ]
  },
  {
   "cell_type": "markdown",
   "id": "1ca94764-c653-45b0-8ba9-f4724662f4f4",
   "metadata": {},
   "source": [
    "## Описание датасета"
   ]
  },
  {
   "cell_type": "markdown",
   "id": "46e19f8c-5043-451a-ad18-7f5843030e16",
   "metadata": {},
   "source": [
    "**Идея:**\n",
    "\n",
    "Получить данные о продуктах и ценах на них в разных магазинах, для возможности поиска наиболее выгодных предложений.\n",
    "Также предполагается извлечение дополнительных признаков из описания товаров и поддержка гибкого добавления новых источников (магазинов).\n",
    "\n",
    "**Реализация:** \n",
    "\n",
    "Производится веб-скрейпинг данных с сайтов https://magnit.ru/ (Магнит) и https://5ka.ru/ (Пятерочка). В данной работе производится сбор данных о ценах на товары категории \"Сыр\", за продолжительное время (в идеале, за каждый день).\n",
    "\n",
    "**Применение для машинного обучения:**\n",
    "\n",
    "Предсказание цены и размера скидки на товар как для временного ряда.\n",
    "\n",
    "**Алгоритм обработки:**\n",
    "\n",
    "Объект класса ProductScraper в зависимости от переданного класса магазина, посылает запросы на сайт с помощью Selenium, парсит результаты через BautifulSoup по найденным в коде страницы идентификаторам для поиска нужных элементов.\n",
    "Данные считываются постранично с проверкой существования в csv такого же товара за эту же дату.\n",
    "С сайтов получаем информацию: название товара, цена, скидка, рейтинг. (возможно дальнейшее добавление)\n",
    "\n",
    "Считанная (новая) информация с текущей датой дозаписывается в csv с названием обрабатываемого магазина.\n",
    "\n",
    "В дальнейшем производится извлечение дополнительных признаков из поля `name`:\n",
    "- бренд\n",
    "- вес и единица измерения\n",
    "- в нарезке (да/нет)\n",
    "- БЗМЖ (да/нет)\n",
    "\n",
    "Далее данные с извлеченными фичами записываются в БД. Обработка пропусков планируется в ЛР 2.\n",
    "\n",
    "**Замечания:**\n",
    "\n",
    "Скрейпинг магазинов потребовал дополнительных шагов: для Пятерочки это отправка предварительного запроса на авторизацию, для Магнита - отправка cookies с адресом магазина."
   ]
  },
  {
   "cell_type": "markdown",
   "id": "74feaac7-0fcc-4196-9a0c-520eccf05a27",
   "metadata": {},
   "source": [
    "## Импорт библиотек"
   ]
  },
  {
   "cell_type": "code",
   "execution_count": 1051,
   "id": "5126b848-4253-40b0-a235-a181536c0e44",
   "metadata": {},
   "outputs": [],
   "source": [
    "!pip install -q selenium psycopg2 matplotlib seaborn polars"
   ]
  },
  {
   "cell_type": "code",
   "execution_count": 1052,
   "id": "6d4808ed-5231-4888-9781-b91b2fb9be74",
   "metadata": {},
   "outputs": [],
   "source": [
    "from sqlalchemy import create_engine, Column, Float, String, Date, Boolean, Integer\n",
    "from sqlalchemy.ext.declarative import declarative_base\n",
    "from sqlalchemy.orm import sessionmaker\n",
    "\n",
    "from selenium.webdriver.chrome.service import Service\n",
    "from selenium import webdriver\n",
    "from typing import Optional, Tuple, Dict\n",
    "\n",
    "from abc import ABC, abstractmethod\n",
    "import matplotlib.pyplot as plt\n",
    "from bs4 import BeautifulSoup\n",
    "from rapidfuzz import fuzz\n",
    "from datetime import date\n",
    "import seaborn as sns\n",
    "import pandas as pd\n",
    "import polars as pl\n",
    "import numpy as np\n",
    "import requests\n",
    "import random\n",
    "import time\n",
    "import csv\n",
    "import os\n",
    "import re"
   ]
  },
  {
   "cell_type": "markdown",
   "id": "c1aad84a-a684-481a-af99-115b932b9be0",
   "metadata": {},
   "source": [
    "## Конфигурация подключения к базе данных"
   ]
  },
  {
   "cell_type": "code",
   "execution_count": 451,
   "id": "4921c33c-68ec-4056-a45c-e633953abf57",
   "metadata": {},
   "outputs": [
    {
     "name": "stderr",
     "output_type": "stream",
     "text": [
      "C:\\Users\\admin\\AppData\\Local\\Temp\\ipykernel_11948\\988954521.py:1: MovedIn20Warning: The ``declarative_base()`` function is now available as sqlalchemy.orm.declarative_base(). (deprecated since: 2.0) (Background on SQLAlchemy 2.0 at: https://sqlalche.me/e/b8d9)\n",
      "  Base = declarative_base()\n"
     ]
    }
   ],
   "source": [
    "Base = declarative_base()\n",
    "\n",
    "DATABASE_URL = \"postgresql+psycopg2://{username}:{password}@{host}:{port}/{db_name}\".format(\n",
    "    host=os.getenv(\"POSTGRES_HOST\", \"localhost\"),\n",
    "    port=os.getenv(\"POSTGRES_PORT\", \"5432\"),\n",
    "    db_name=os.getenv(\"POSTGRES_DB\", \"store_parser\"),\n",
    "    username=os.getenv(\"POSTGRES_USER\", \"postgres\"),\n",
    "    password=os.getenv(\"POSTGRES_PASSWORD\", \"123456\"),\n",
    "\n",
    ")\n",
    "\n",
    "def init_db():\n",
    "    engine = create_engine(DATABASE_URL)\n",
    "    Base.metadata.create_all(engine)\n",
    "    Session = sessionmaker(bind=engine)\n",
    "    return Session()"
   ]
  },
  {
   "cell_type": "markdown",
   "id": "8a9d9e2e-3bc6-4c0f-91f9-2cccc7029935",
   "metadata": {},
   "source": [
    "## Класс, соответствующий структуре таблицы в БД"
   ]
  },
  {
   "cell_type": "code",
   "execution_count": 503,
   "id": "53ebea59-c460-4752-892f-c07678ecdfa4",
   "metadata": {},
   "outputs": [
    {
     "name": "stderr",
     "output_type": "stream",
     "text": [
      "C:\\Users\\admin\\AppData\\Local\\Temp\\ipykernel_11948\\547102057.py:1: SAWarning: This declarative base already contains a class with the same class name and module name as __main__.Product, and will be replaced in the string-lookup table.\n",
      "  class Product(Base):\n"
     ]
    }
   ],
   "source": [
    "class Product(Base):\n",
    "    __tablename__ = 'store_products'\n",
    "\n",
    "    name = Column(String, nullable=False, primary_key=True)\n",
    "    brand = Column(String)\n",
    "    price = Column(Float)  \n",
    "    weight = Column(Float)\n",
    "    unit = Column(String)\n",
    "    fat_content = Column(Float, nullable=True)\n",
    "    is_sliced = Column(Boolean, nullable=True)\n",
    "    is_bzmj = Column(Boolean, nullable=True)\n",
    "    discount = Column(Float, nullable=True) \n",
    "    rating = Column(Float, nullable=True)\n",
    "    date_added = Column(Date, default=date.today, primary_key=True)  \n",
    "    store = Column(String, nullable=False, primary_key=True)\n",
    "\n",
    "    __table_args__ = {'extend_existing': True}\n",
    "\n",
    "    def __repr__(self):\n",
    "        return f\"<Product(name='{self.name}', price={self.price}, date_added={self.date_added}, store={self.store})>\""
   ]
  },
  {
   "cell_type": "markdown",
   "id": "fc4281b0-0967-4d6d-afa9-b97fd3c3b1b9",
   "metadata": {},
   "source": [
    "## Абстрактный класс конфигураций скрапера магазина"
   ]
  },
  {
   "cell_type": "code",
   "execution_count": 5,
   "id": "e922ebf1-ee72-4fa8-8085-a12380613c0b",
   "metadata": {},
   "outputs": [],
   "source": [
    "class StoreScraper(ABC):\n",
    "    def __init__(self):\n",
    "        self.store_name = \"\"\n",
    "        self.base_url = \"\"\n",
    "        self.auth_url = None\n",
    "        self.product_selector = \"\"\n",
    "        self.name_selector = \"\"\n",
    "        self.price_selector = \"\"\n",
    "        self.page_param = \"\"\n",
    "        self.discount_selector = \"\"  \n",
    "        self.rating_selector = \"\"  \n",
    "\n",
    "    @abstractmethod\n",
    "    def clean_price(self, price_str: str) -> float:\n",
    "        pass\n",
    "\n",
    "    @abstractmethod\n",
    "    def clean_discount(self, discount_str: str) -> Optional[float]:\n",
    "        pass\n",
    "\n",
    "    @abstractmethod\n",
    "    def clean_rating(self, rating_str: str) -> Optional[float]:\n",
    "        pass\n",
    "\n",
    "    def get_url(self, page: int) -> str:\n",
    "        return f\"{self.base_url}{self.page_param}{page}\""
   ]
  },
  {
   "cell_type": "markdown",
   "id": "42cd8481-dc86-4303-82b1-8edd117baaf1",
   "metadata": {},
   "source": [
    "## Конфигурации для скрапинга Пятерочки"
   ]
  },
  {
   "cell_type": "code",
   "execution_count": 1021,
   "id": "82a12a46-9fb0-439d-b485-08f8f8a897a3",
   "metadata": {},
   "outputs": [],
   "source": [
    "class PyaterochkaScraper(StoreScraper):\n",
    "    def __init__(self):\n",
    "        super().__init__()\n",
    "        self.store_name = \"Пятерочка\"\n",
    "        self.base_url = \"https://5ka.ru/catalog/syr--251C13095/\"\n",
    "        self.auth_url = \"https://id.x5.ru/auth/realms/ssox5id/protocol/openid-connect/login-status-iframe.html/init?client_id=tc5_site&origin=https%3A%2F%2F5ka.ru\"\n",
    "        self.product_selector = lambda tag: tag.get('data-qa', '') and re.compile(r'product-card-\\d+$').match(tag.get('data-qa', ''))\n",
    "        self.name_selector = '.chakra-text.SdLEFc2B-.css-1jdqp4k'\n",
    "        self.price_selector = '.chakra-text.DUXYWqnZ-.css-6uvdux'\n",
    "        self.price_cents_selector = '.chakra-text.j2bifgeA-.css-6uvdux'\n",
    "        self.discount_selector = '.chakra-text.PFxTBQyj-.css-qzip67'  \n",
    "        self.rating_selector = '.chakra-text.o1tGK2uB-.css-1jdqp4k' \n",
    "        self.page_param = \"?page=\"\n",
    "        self.headers = {\n",
    "            \"Accept\": \"*/*\",\n",
    "            \"Accept-Encoding\": \"gzip, deflate, br, zstd\",\n",
    "            \"Accept-Language\": \"ru,en;q=0.9\",\n",
    "            \"Cache-Control\": \"no-cache\",\n",
    "            \"Connection\": \"keep-alive\",\n",
    "            \"Host\": \"id.x5.ru\",\n",
    "            \"Pragma\": \"no-cache\",\n",
    "            \"Sec-Fetch-Dest\": \"empty\",\n",
    "            \"Sec-Fetch-Mode\": \"cors\",\n",
    "            \"Sec-Fetch-Site\": \"same-origin\",\n",
    "            \"User-Agent\": \"Mozilla/5.0 (Windows NT 10.0; Win64; x64) AppleWebKit/537.36 (KHTML, like Gecko) Chrome/132.0.0.0 Safari/537.36\",\n",
    "            \"sec-ch-ua\": '\"Not A(Brand\";v=\"8\", \"Chromium\";v=\"132\"',\n",
    "            \"sec-ch-ua-mobile\": \"?0\",\n",
    "            \"sec-ch-ua-platform\": '\"Windows\"'\n",
    "        }\n",
    "\n",
    "    def clean_price(self, price_str: str, price_cents: str = \"0\") -> float:\n",
    "        cleaned = price_str.replace(' ', '').replace('\\xa0', '')\n",
    "        return float(cleaned + '.' + price_cents) if cleaned else 0.0\n",
    "\n",
    "    def clean_discount(self, discount_str: str) -> Optional[float]:\n",
    "        if discount_str:\n",
    "            match = re.search(r'(\\d+[,.]?\\d*)%', discount_str)\n",
    "            if match:\n",
    "                return float(match.group(1).replace(',', '.'))\n",
    "        return None\n",
    "\n",
    "    def clean_rating(self, rating_str: str) -> Optional[float]:\n",
    "        if rating_str:\n",
    "            match = re.search(r'(\\d+[,.]?\\d*)', rating_str)\n",
    "            if match:\n",
    "                return float(match.group(1).replace(',', '.'))\n",
    "        return None"
   ]
  },
  {
   "cell_type": "markdown",
   "id": "1fafeb9d-7b50-4246-a591-262eeaeccd6e",
   "metadata": {},
   "source": [
    "## Конфигурации скрапера Магнита"
   ]
  },
  {
   "cell_type": "code",
   "execution_count": 7,
   "id": "470083ab-7a73-4459-8a40-1d7f32d29a25",
   "metadata": {},
   "outputs": [],
   "source": [
    "class MagnitScraper(StoreScraper):\n",
    "    def __init__(self):\n",
    "        super().__init__()\n",
    "        self.store_name = \"Магнит\"\n",
    "        self.base_url = \"https://magnit.ru/catalog/37741-syry_mm?shopCode=161924&shopType=1&page=\"\n",
    "        self.product_selector = '.unit-catalog-product-preview'\n",
    "        self.name_selector = '.unit-catalog-product-preview-title'\n",
    "        self.price_selector = '.unit-catalog-product-preview-prices__regular'\n",
    "        self.discount_selector = '.unit-catalog-product-preview__discount'  \n",
    "        self.rating_selector = '.unit-catalog-product-preview-rating-score' \n",
    "        self.page_param = \"\"\n",
    "        self.headers = {\n",
    "            \"User-Agent\": \"Mozilla/5.0 (Windows NT 10.0; Win64; x64) AppleWebKit/537.36 (KHTML, like Gecko) Chrome/122.0.0.0 Safari/537.36\",\n",
    "            \"Content-Type\": \"application/x-www-form-urlencoded\",\n",
    "        }\n",
    "        self.data = {\n",
    "            \"element\": \"CityStore\",\n",
    "            \"block\": \"toolBar\",\n",
    "            \"city\": \"Санкт-Петербург г\",\n",
    "            \"store_id\": \"161924\",\n",
    "        }\n",
    "\n",
    "    def clean_price(self, price_str: str) -> float:\n",
    "        cleaned = price_str[:-1].strip().replace(',', '.')\n",
    "        return float(cleaned) if cleaned else 0.0\n",
    "\n",
    "    def clean_discount(self, discount_str: str) -> Optional[float]:\n",
    "        if discount_str:\n",
    "            match = re.search(r'(\\d+[,.]?\\d*)%', discount_str)\n",
    "            if match:\n",
    "                return float(match.group(1).replace(',', '.'))\n",
    "        return None\n",
    "\n",
    "    def clean_rating(self, rating_str: str) -> Optional[float]:\n",
    "        if rating_str:\n",
    "            match = re.search(r'(\\d+[,.]?\\d*)', rating_str)\n",
    "            if match:\n",
    "                return float(match.group(1).replace(',', '.'))\n",
    "        return None"
   ]
  },
  {
   "cell_type": "markdown",
   "id": "138f83ce-17d7-47dd-a161-2ae98c3f7096",
   "metadata": {},
   "source": [
    "## Реализация обращения к сайтам и сбора данных"
   ]
  },
  {
   "cell_type": "code",
   "execution_count": 397,
   "id": "3f62d221-ba2a-4fa6-8692-22f78ee0bf9d",
   "metadata": {},
   "outputs": [],
   "source": [
    "class ProductScraper:\n",
    "    def __init__(self, store_scraper):\n",
    "        self.store = store_scraper\n",
    "        self.driver = self._setup_driver()\n",
    "        self.csv_filename = f\"{self.store.store_name}_products.csv\"\n",
    "\n",
    "    def _setup_driver(self):\n",
    "        options = webdriver.ChromeOptions()\n",
    "        options.add_argument(\"--headless\")\n",
    "        options.add_argument(\"--no-sandbox\")\n",
    "        options.add_argument(\"--disable-dev-shm-usage\")\n",
    "        options.add_argument(f\"user-agent={self.store.headers['User-Agent']}\")\n",
    "        service = Service(executable_path=\"C:/Users/admin/Downloads/chromedriver-win64/chromedriver-win64/chromedriver.exe\")\n",
    "        return webdriver.Chrome(service=service, options=options)\n",
    "\n",
    "    def _setup_magnit_store(self):\n",
    "        \"\"\"Настройка города и магазина для Магнита\"\"\"\n",
    "        if isinstance(self.store, MagnitScraper):\n",
    "            print(\"Настраиваем город и магазин для Магнита...\")\n",
    "            self.driver.get(\"https://magnit.ru/\")\n",
    "            time.sleep(2)\n",
    "\n",
    "            # Устанавливаем cookies вручную для выбора магазина\n",
    "            self.driver.add_cookie({\"name\": \"store_id\", \"value\": \"161924\"})\n",
    "            self.driver.add_cookie({\"name\": \"city\", \"value\": \"Санкт-Петербург г\"})\n",
    "\n",
    "            self.driver.refresh()\n",
    "            time.sleep(1)\n",
    "\n",
    "    def _authorize_pyaterochka(self):\n",
    "        if self.store.auth_url and isinstance(self.store, PyaterochkaScraper):\n",
    "            print(f\"Выполняем авторизацию для Пятёрочки: {self.store.auth_url}\")\n",
    "            # Выполняем GET-запрос с кастомными заголовками через JavaScript\n",
    "            script = \"\"\"\n",
    "                var xhr = new XMLHttpRequest();\n",
    "                xhr.open(\"GET\", arguments[0], true);\n",
    "                var headers = arguments[1];\n",
    "                for (var key in headers) {\n",
    "                    xhr.setRequestHeader(key, headers[key]);\n",
    "                }\n",
    "                xhr.send();\n",
    "            \"\"\"\n",
    "            self.driver.execute_script(script, self.store.auth_url, self.store.headers)\n",
    "            time.sleep(3) \n",
    "            self.driver.get(self.store.auth_url)  \n",
    "    \n",
    "    def scrape_to_csv(self):\n",
    "        file_exists = os.path.isfile(self.csv_filename)\n",
    "\n",
    "        with open(self.csv_filename, 'a', newline='', encoding='utf-8') as csvfile:\n",
    "            fieldnames = ['name', 'price', 'discount', 'rating', 'date_added', 'store']\n",
    "            writer = csv.DictWriter(csvfile, fieldnames=fieldnames, delimiter=';')\n",
    "\n",
    "            if not file_exists:\n",
    "                writer.writeheader()\n",
    "\n",
    "            page = 1\n",
    "            current_date = str(date.today())\n",
    "            \n",
    "            # Настройка для Магнита\n",
    "            self._setup_magnit_store()\n",
    "\n",
    "            # Авторизация для Пятерочки\n",
    "            self._authorize_pyaterochka()\n",
    "            \n",
    "            seen_products = set()\n",
    "\n",
    "            if file_exists:\n",
    "                with open(self.csv_filename, 'r', encoding='utf-8') as f:\n",
    "                    reader = csv.DictReader(f, delimiter=';')\n",
    "                    for row in reader:\n",
    "                        seen_products.add((row['name'], float(row['price']), row['date_added'], row['store']))\n",
    "            \n",
    "            while True:                \n",
    "                url = self.store.get_url(page)\n",
    "                print(f\"Запрос страницы: {url}\")\n",
    "                self.driver.get(url)\n",
    "                time.sleep(4) \n",
    "\n",
    "                soup = BeautifulSoup(self.driver.page_source, \"html.parser\")\n",
    "                products = soup.find_all(self.store.product_selector) if callable(\n",
    "                    self.store.product_selector) else soup.select(self.store.product_selector)\n",
    "\n",
    "                print(f\"Найдено элементов на странице: {len(products)}\")\n",
    "                if not products:\n",
    "                    print(\"Товары не найдены или все страницы загружены!\")\n",
    "                    break\n",
    "\n",
    "                new_products = 0\n",
    "                for item in products:\n",
    "                    try:\n",
    "                        name_elem = item.select_one(self.store.name_selector)\n",
    "                        name = name_elem.text.strip() if name_elem else None\n",
    "\n",
    "                        price_elem = item.select_one(self.store.price_selector)\n",
    "                        price_str = price_elem.text.strip() if price_elem else None\n",
    "\n",
    "                        discount_elem = item.select_one(self.store.discount_selector)\n",
    "                        discount_str = discount_elem.text.strip() if discount_elem else None\n",
    "                        discount = self.store.clean_discount(discount_str) if discount_str else None\n",
    "\n",
    "                        rating_elem = item.select_one(self.store.rating_selector)\n",
    "                        rating_str = rating_elem.text.strip() if rating_elem else None\n",
    "                        rating = self.store.clean_rating(rating_str) if rating_str else None\n",
    "\n",
    "                        if isinstance(self.store, PyaterochkaScraper):\n",
    "                            price_cents_elem = item.select_one(self.store.price_cents_selector)\n",
    "                            price_cents = price_cents_elem.text if price_cents_elem else \"0\"\n",
    "                            price = self.store.clean_price(price_str, price_cents) if price_str else None\n",
    "                        else:\n",
    "                            price = self.store.clean_price(price_str) if price_str else None\n",
    "\n",
    "                        product_key = (name, price, current_date, self.store.store_name)\n",
    "\n",
    "                        if product_key in seen_products or name is None or price is None:\n",
    "                            continue\n",
    "\n",
    "                        seen_products.add(product_key)\n",
    "                        product_dict = {\n",
    "                            \"name\": name,\n",
    "                            \"price\": price,\n",
    "                            \"discount\": discount,\n",
    "                            \"rating\": rating,\n",
    "                            \"date_added\": current_date,\n",
    "                            \"store\": self.store.store_name\n",
    "                        }\n",
    "                        writer.writerow(product_dict)\n",
    "                        new_products += 1\n",
    "                        # print(f\"Добавлен товар: {product_dict}\")\n",
    "\n",
    "                    except Exception as e:\n",
    "                        print(f\"Ошибка при парсинге товара: {e}\")\n",
    "                        continue\n",
    "\n",
    "                print(f\"Страница {page} загружена, новых товаров: {new_products}\")\n",
    "                if new_products == 0:\n",
    "                    print(\"Новых товаров не найдено, завершаем.\")\n",
    "                    break\n",
    "\n",
    "                page += 1 \n",
    "                time.sleep(random.uniform(1, 3))\n",
    "\n",
    "        self.driver.quit()\n",
    "        print(f\"Данные добавлены в {self.csv_filename}\")"
   ]
  },
  {
   "cell_type": "markdown",
   "id": "22c84b86-4237-4f96-8e1c-82f332caef84",
   "metadata": {},
   "source": [
    "## Функции для извлечения дополнительных признаков"
   ]
  },
  {
   "cell_type": "code",
   "execution_count": 483,
   "id": "bc686b15-35f4-4c7f-ad78-983e93fb2418",
   "metadata": {},
   "outputs": [],
   "source": [
    "def extract_brand(name: str) -> Optional[str]:\n",
    "    words = name.split()\n",
    "    if len(words) < 2:\n",
    "        return None\n",
    "\n",
    "    brand_words = []\n",
    "    for word in words[1:]:  # Начинаем со второго слова\n",
    "        if word and word[0].isupper():\n",
    "            brand_words.append(word)\n",
    "        elif brand_words:\n",
    "            break\n",
    "\n",
    "    return \" \".join(brand_words) if brand_words else None\n",
    "\n",
    "def extract_weight_and_unit(name: str) -> Tuple[float, str]:\n",
    "    if 'весовой' in name.lower():\n",
    "        return 1.0, 'кг'\n",
    "    weight_pattern = re.compile(r'(\\d+[,.]?\\d*)\\s*(г|кг|мл|л)')\n",
    "    match = weight_pattern.search(name)\n",
    "    if match:\n",
    "        weight = float(match.group(1).replace(',', '.'))\n",
    "        return weight, match.group(2)\n",
    "    return 1.0, 'кг'\n",
    "\n",
    "def extract_fat_content(name: str) -> Optional[float]:\n",
    "    fat_pattern = re.compile(r'(\\d+[,.]?\\d*)\\s*%')\n",
    "    match = fat_pattern.search(name)\n",
    "    if match:\n",
    "        return float(match.group(1).replace(',', '.'))\n",
    "    return None\n",
    "\n",
    "def is_sliced(name: str):\n",
    "    if (\"нарезка\" in name.lower()):\n",
    "        return True\n",
    "    else: \n",
    "        return None\n",
    "\n",
    "def is_bzmj(name: str):\n",
    "    if (\"бзмж\" in name.lower()):\n",
    "        return True\n",
    "    else: \n",
    "        return None"
   ]
  },
  {
   "cell_type": "markdown",
   "id": "b796b234-ba83-4465-833f-6c1b13bb154d",
   "metadata": {},
   "source": [
    "## Преобразование данных и запись в БД"
   ]
  },
  {
   "cell_type": "code",
   "execution_count": 1096,
   "id": "ddfb0476-b539-4826-a80f-6e7b6d6f3937",
   "metadata": {},
   "outputs": [],
   "source": [
    "csv_schema = {\n",
    "    \"name\": pl.Utf8,\n",
    "    \"price\": pl.Float64,\n",
    "    \"discount\": pl.Float32,\n",
    "    \"rating\": pl.Float32,\n",
    "    \"date_added\": pl.Date,\n",
    "    \"store\": pl.Utf8\n",
    "}"
   ]
  },
  {
   "cell_type": "code",
   "execution_count": 1238,
   "id": "6309c576-aff6-4b52-97e1-2e0bd60e60e7",
   "metadata": {},
   "outputs": [],
   "source": [
    "def process_csv_to_db(csv_filename: str, session) -> None:\n",
    "    df = pd.read_csv(csv_filename, delimiter=';')\n",
    "    \n",
    "    df['date_added'] = pd.to_datetime(df['date_added']).dt.date\n",
    "\n",
    "    # Извлекаем дополнительные признаки\n",
    "    df['brand'] = df['name'].apply(extract_brand)\n",
    "    df['weight'] = df['name'].apply(lambda x: extract_weight_and_unit(x)[0])\n",
    "    df['unit'] = df['name'].apply(lambda x: extract_weight_and_unit(x)[1])\n",
    "    df['fat_content'] = df['name'].apply(extract_fat_content)\n",
    "    df['is_sliced'] = df['name'].apply(is_sliced)\n",
    "    df['is_bzmj'] = df['name'].apply(is_bzmj)\n",
    "\n",
    "    existing_products = {\n",
    "        (row.name, row.date_added, row.store) \n",
    "         for row in session.query(Product.name, Product.date_added, Product.store).all()\n",
    "    }\n",
    "    # print(existing_products)\n",
    "    count = 0\n",
    "    for _, row in df.iterrows():\n",
    "        product_key = (row['name'], row['date_added'], row['store'])\n",
    "        # print(product_key)\n",
    "        if product_key not in existing_products:\n",
    "            product_db = Product(\n",
    "                name=row['name'],\n",
    "                price=row['price'],\n",
    "                date_added=row['date_added'],\n",
    "                store=row['store'],\n",
    "                brand=row['brand'] if pd.notna(row['brand']) else None,\n",
    "                weight=row['weight'] if pd.notna(row['weight']) else None,\n",
    "                unit=row['unit'] if pd.notna(row['unit']) else None,\n",
    "                fat_content=row['fat_content'] if pd.notna(row['fat_content']) else None,\n",
    "                is_sliced=row['is_sliced'] if pd.notna(row['is_sliced']) else None,\n",
    "                is_bzmj=row['is_bzmj'] if pd.notna(row['is_bzmj']) else None,\n",
    "                discount=row['discount'] if pd.notna(row['discount']) else None,  \n",
    "                rating=row['rating'] if pd.notna(row['rating']) else None \n",
    "            )\n",
    "            session.add(product_db)\n",
    "            count += 1\n",
    "    session.commit()\n",
    "    print(f\"{count}  {csv_filename} обработаны и записаны в базу данных\")"
   ]
  },
  {
   "cell_type": "markdown",
   "id": "57280c9c-b086-4c96-9830-86d15e79aacc",
   "metadata": {},
   "source": [
    "## Вызов скрапера Пятерочки и запись в CSV"
   ]
  },
  {
   "cell_type": "code",
   "execution_count": 1025,
   "id": "d41bbae4-1f22-453a-bf26-6dd6519af99d",
   "metadata": {},
   "outputs": [
    {
     "name": "stdout",
     "output_type": "stream",
     "text": [
      "Выполняем авторизацию для Пятёрочки: https://id.x5.ru/auth/realms/ssox5id/protocol/openid-connect/login-status-iframe.html/init?client_id=tc5_site&origin=https%3A%2F%2F5ka.ru\n",
      "Запрос страницы: https://5ka.ru/catalog/syr--251C13095/?page=1\n",
      "Найдено элементов на странице: 12\n",
      "Страница 1 загружена, новых товаров: 12\n",
      "Запрос страницы: https://5ka.ru/catalog/syr--251C13095/?page=2\n",
      "Найдено элементов на странице: 24\n",
      "Страница 2 загружена, новых товаров: 12\n",
      "Запрос страницы: https://5ka.ru/catalog/syr--251C13095/?page=3\n",
      "Найдено элементов на странице: 36\n",
      "Страница 3 загружена, новых товаров: 12\n",
      "Запрос страницы: https://5ka.ru/catalog/syr--251C13095/?page=4\n",
      "Найдено элементов на странице: 48\n",
      "Страница 4 загружена, новых товаров: 12\n",
      "Запрос страницы: https://5ka.ru/catalog/syr--251C13095/?page=5\n",
      "Найдено элементов на странице: 60\n",
      "Страница 5 загружена, новых товаров: 12\n",
      "Запрос страницы: https://5ka.ru/catalog/syr--251C13095/?page=6\n",
      "Найдено элементов на странице: 72\n",
      "Страница 6 загружена, новых товаров: 12\n",
      "Запрос страницы: https://5ka.ru/catalog/syr--251C13095/?page=7\n",
      "Найдено элементов на странице: 84\n",
      "Страница 7 загружена, новых товаров: 12\n",
      "Запрос страницы: https://5ka.ru/catalog/syr--251C13095/?page=8\n",
      "Найдено элементов на странице: 96\n",
      "Страница 8 загружена, новых товаров: 12\n",
      "Запрос страницы: https://5ka.ru/catalog/syr--251C13095/?page=9\n",
      "Найдено элементов на странице: 108\n",
      "Страница 9 загружена, новых товаров: 12\n",
      "Запрос страницы: https://5ka.ru/catalog/syr--251C13095/?page=10\n",
      "Найдено элементов на странице: 116\n",
      "Страница 10 загружена, новых товаров: 8\n",
      "Запрос страницы: https://5ka.ru/catalog/syr--251C13095/?page=11\n",
      "Найдено элементов на странице: 116\n",
      "Страница 11 загружена, новых товаров: 0\n",
      "Новых товаров не найдено, завершаем.\n",
      "Данные добавлены в Пятерочка_products.csv\n"
     ]
    }
   ],
   "source": [
    "pyaterochka_scraper = PyaterochkaScraper()\n",
    "scraper = ProductScraper(pyaterochka_scraper)\n",
    "scraper.scrape_to_csv()"
   ]
  },
  {
   "cell_type": "markdown",
   "id": "2cfbf46c-704b-4649-8d57-6780b833230d",
   "metadata": {},
   "source": [
    "## Вызов скрапера Магнита и запись в CSV"
   ]
  },
  {
   "cell_type": "code",
   "execution_count": 1017,
   "id": "ae852b7d-6850-4c53-9fe8-ff21af60b87c",
   "metadata": {},
   "outputs": [
    {
     "name": "stdout",
     "output_type": "stream",
     "text": [
      "Настраиваем город и магазин для Магнита...\n",
      "Запрос страницы: https://magnit.ru/catalog/37741-syry_mm?shopCode=161924&shopType=1&page=1\n",
      "Найдено элементов на странице: 33\n",
      "Страница 1 загружена, новых товаров: 33\n",
      "Запрос страницы: https://magnit.ru/catalog/37741-syry_mm?shopCode=161924&shopType=1&page=2\n",
      "Найдено элементов на странице: 33\n",
      "Страница 2 загружена, новых товаров: 33\n",
      "Запрос страницы: https://magnit.ru/catalog/37741-syry_mm?shopCode=161924&shopType=1&page=3\n",
      "Найдено элементов на странице: 13\n",
      "Страница 3 загружена, новых товаров: 13\n",
      "Запрос страницы: https://magnit.ru/catalog/37741-syry_mm?shopCode=161924&shopType=1&page=4\n",
      "Найдено элементов на странице: 0\n",
      "Товары не найдены или все страницы загружены!\n",
      "Данные добавлены в Магнит_products.csv\n"
     ]
    }
   ],
   "source": [
    "magnit_scraper = MagnitScraper()\n",
    "scraper = ProductScraper(magnit_scraper)\n",
    "scraper.scrape_to_csv()"
   ]
  },
  {
   "cell_type": "markdown",
   "id": "0adc050d-3586-4360-8674-73c7a12a1f0c",
   "metadata": {},
   "source": [
    "## Проверка сохраненных данных"
   ]
  },
  {
   "cell_type": "code",
   "execution_count": 1045,
   "id": "0bc1db72-a4dd-461d-8ac5-616e99121f3f",
   "metadata": {},
   "outputs": [
    {
     "name": "stdout",
     "output_type": "stream",
     "text": [
      "Пятерочка: 455\n",
      "\n",
      "Пример данных из Пятерочки (последние записи):\n"
     ]
    },
    {
     "data": {
      "text/html": [
       "<div><style>\n",
       ".dataframe > thead > tr,\n",
       ".dataframe > tbody > tr {\n",
       "  text-align: right;\n",
       "  white-space: pre-wrap;\n",
       "}\n",
       "</style>\n",
       "<small>shape: (5, 6)</small><table border=\"1\" class=\"dataframe\"><thead><tr><th>name</th><th>price</th><th>discount</th><th>rating</th><th>date_added</th><th>store</th></tr><tr><td>str</td><td>f64</td><td>f32</td><td>f32</td><td>date</td><td>str</td></tr></thead><tbody><tr><td>&quot;Сыр La Paulina Чеддер твердый …</td><td>399.99</td><td>10.0</td><td>4.81</td><td>2025-03-31</td><td>&quot;Пятерочка&quot;</td></tr><tr><td>&quot;Сыр Gruyere твердый 49% БЗМЖ&quot;</td><td>329.9</td><td>null</td><td>4.79</td><td>2025-03-31</td><td>&quot;Пятерочка&quot;</td></tr><tr><td>&quot;Сыр Kesidis Халлуми Традиционн…</td><td>169.99</td><td>null</td><td>4.94</td><td>2025-03-31</td><td>&quot;Пятерочка&quot;</td></tr><tr><td>&quot;Сыр Laplandia Emmental полутве…</td><td>197.99</td><td>23.0</td><td>4.86</td><td>2025-03-31</td><td>&quot;Пятерочка&quot;</td></tr><tr><td>&quot;Сыр Верещагин Верещагинский Зе…</td><td>1299.0</td><td>null</td><td>null</td><td>2025-03-31</td><td>&quot;Пятерочка&quot;</td></tr></tbody></table></div>"
      ],
      "text/plain": [
       "shape: (5, 6)\n",
       "┌─────────────────────────────────┬────────┬──────────┬────────┬────────────┬───────────┐\n",
       "│ name                            ┆ price  ┆ discount ┆ rating ┆ date_added ┆ store     │\n",
       "│ ---                             ┆ ---    ┆ ---      ┆ ---    ┆ ---        ┆ ---       │\n",
       "│ str                             ┆ f64    ┆ f32      ┆ f32    ┆ date       ┆ str       │\n",
       "╞═════════════════════════════════╪════════╪══════════╪════════╪════════════╪═══════════╡\n",
       "│ Сыр La Paulina Чеддер твердый … ┆ 399.99 ┆ 10.0     ┆ 4.81   ┆ 2025-03-31 ┆ Пятерочка │\n",
       "│ Сыр Gruyere твердый 49% БЗМЖ    ┆ 329.9  ┆ null     ┆ 4.79   ┆ 2025-03-31 ┆ Пятерочка │\n",
       "│ Сыр Kesidis Халлуми Традиционн… ┆ 169.99 ┆ null     ┆ 4.94   ┆ 2025-03-31 ┆ Пятерочка │\n",
       "│ Сыр Laplandia Emmental полутве… ┆ 197.99 ┆ 23.0     ┆ 4.86   ┆ 2025-03-31 ┆ Пятерочка │\n",
       "│ Сыр Верещагин Верещагинский Зе… ┆ 1299.0 ┆ null     ┆ null   ┆ 2025-03-31 ┆ Пятерочка │\n",
       "└─────────────────────────────────┴────────┴──────────┴────────┴────────────┴───────────┘"
      ]
     },
     "execution_count": 1045,
     "metadata": {},
     "output_type": "execute_result"
    }
   ],
   "source": [
    "pyaterochka_df = pl.read_csv(\"Пятерочка_products.csv\", separator=';', schema=csv_schema, try_parse_dates=True)\n",
    "print(\"Пятерочка:\", len(pyaterochka_df))\n",
    "print(\"\\nПример данных из Пятерочки (последние записи):\")\n",
    "pyaterochka_df.tail()"
   ]
  },
  {
   "cell_type": "code",
   "execution_count": 1049,
   "id": "e89e3579-edf2-42c4-8784-da5b14b6c5da",
   "metadata": {},
   "outputs": [
    {
     "name": "stdout",
     "output_type": "stream",
     "text": [
      "Магнит: 328\n",
      "\n",
      "Пример данных из Магнита (последние записи):\n"
     ]
    },
    {
     "data": {
      "text/html": [
       "<div><style>\n",
       ".dataframe > thead > tr,\n",
       ".dataframe > tbody > tr {\n",
       "  text-align: right;\n",
       "  white-space: pre-wrap;\n",
       "}\n",
       "</style>\n",
       "<small>shape: (5, 6)</small><table border=\"1\" class=\"dataframe\"><thead><tr><th>name</th><th>price</th><th>discount</th><th>rating</th><th>date_added</th><th>store</th></tr><tr><td>str</td><td>f64</td><td>f32</td><td>f32</td><td>date</td><td>str</td></tr></thead><tbody><tr><td>&quot;Сыр творожный Pretto с травами…</td><td>114.99</td><td>36.0</td><td>4.8</td><td>2025-03-31</td><td>&quot;Магнит&quot;</td></tr><tr><td>&quot;Сыр плавленый Viola Cливочный …</td><td>129.99</td><td>15.0</td><td>4.7</td><td>2025-03-31</td><td>&quot;Магнит&quot;</td></tr><tr><td>&quot;Сыр Laime Пармезан выдержанный…</td><td>659.97</td><td>15.0</td><td>4.6</td><td>2025-03-31</td><td>&quot;Магнит&quot;</td></tr><tr><td>&quot;Сыр Экомилк творожный 60% 350г&quot;</td><td>329.99</td><td>null</td><td>4.4</td><td>2025-03-31</td><td>&quot;Магнит&quot;</td></tr><tr><td>&quot;Сыр Василеостровская сыроварня…</td><td>159.99</td><td>null</td><td>null</td><td>2025-03-31</td><td>&quot;Магнит&quot;</td></tr></tbody></table></div>"
      ],
      "text/plain": [
       "shape: (5, 6)\n",
       "┌─────────────────────────────────┬────────┬──────────┬────────┬────────────┬────────┐\n",
       "│ name                            ┆ price  ┆ discount ┆ rating ┆ date_added ┆ store  │\n",
       "│ ---                             ┆ ---    ┆ ---      ┆ ---    ┆ ---        ┆ ---    │\n",
       "│ str                             ┆ f64    ┆ f32      ┆ f32    ┆ date       ┆ str    │\n",
       "╞═════════════════════════════════╪════════╪══════════╪════════╪════════════╪════════╡\n",
       "│ Сыр творожный Pretto с травами… ┆ 114.99 ┆ 36.0     ┆ 4.8    ┆ 2025-03-31 ┆ Магнит │\n",
       "│ Сыр плавленый Viola Cливочный … ┆ 129.99 ┆ 15.0     ┆ 4.7    ┆ 2025-03-31 ┆ Магнит │\n",
       "│ Сыр Laime Пармезан выдержанный… ┆ 659.97 ┆ 15.0     ┆ 4.6    ┆ 2025-03-31 ┆ Магнит │\n",
       "│ Сыр Экомилк творожный 60% 350г  ┆ 329.99 ┆ null     ┆ 4.4    ┆ 2025-03-31 ┆ Магнит │\n",
       "│ Сыр Василеостровская сыроварня… ┆ 159.99 ┆ null     ┆ null   ┆ 2025-03-31 ┆ Магнит │\n",
       "└─────────────────────────────────┴────────┴──────────┴────────┴────────────┴────────┘"
      ]
     },
     "execution_count": 1049,
     "metadata": {},
     "output_type": "execute_result"
    }
   ],
   "source": [
    "magnit_df = pl.read_csv(\"Магнит_products.csv\", separator=';', schema=csv_schema, try_parse_dates=True)\n",
    "print(\"Магнит:\", len(magnit_df))\n",
    "print(\"\\nПример данных из Магнита (последние записи):\")\n",
    "magnit_df.tail()"
   ]
  },
  {
   "cell_type": "markdown",
   "id": "876803c4-038e-4d75-84e8-3c65dc61efcd",
   "metadata": {},
   "source": [
    "## Инициализация БД"
   ]
  },
  {
   "cell_type": "code",
   "execution_count": 507,
   "id": "69cb0ff7-394b-4986-b079-2ceacc8e8c37",
   "metadata": {},
   "outputs": [],
   "source": [
    "session = init_db()"
   ]
  },
  {
   "cell_type": "markdown",
   "id": "b2bb959b-5b30-4d03-b56c-ae90f333d685",
   "metadata": {},
   "source": [
    "## Сохранение данных Пятерочки в БД"
   ]
  },
  {
   "cell_type": "code",
   "execution_count": 1203,
   "id": "72dc74a2-841e-488a-aa32-c6748d17ae45",
   "metadata": {},
   "outputs": [],
   "source": [
    "# session.rollback()"
   ]
  },
  {
   "cell_type": "code",
   "execution_count": 1205,
   "id": "9d09f65b-bd70-459c-8cc8-df266b5791be",
   "metadata": {},
   "outputs": [
    {
     "name": "stdout",
     "output_type": "stream",
     "text": [
      "116 строк из Пятерочка_products.csv обработаны и записаны в базу данных\n"
     ]
    }
   ],
   "source": [
    "process_csv_to_db(\"Пятерочка_products.csv\", session)"
   ]
  },
  {
   "cell_type": "code",
   "execution_count": 1207,
   "id": "bb187135-5163-48df-94cd-4ad8ccaef446",
   "metadata": {},
   "outputs": [],
   "source": [
    "# Определение схемы данных\n",
    "load_schema = {\n",
    "    \"name\": pl.Utf8,\n",
    "    \"price\": pl.Float64,\n",
    "    \"date_added\": pl.Date,\n",
    "    \"store\": pl.Utf8,\n",
    "    \"brand\": pl.Utf8,\n",
    "    \"weight\": pl.Float32,\n",
    "    \"unit\": pl.Utf8,\n",
    "    \"fat_content\": pl.Float32,\n",
    "    \"is_sliced\": pl.Boolean,\n",
    "    \"is_bzmj\": pl.Boolean,\n",
    "    \"discount\": pl.Float32,\n",
    "    \"rating\": pl.Float32\n",
    "}"
   ]
  },
  {
   "cell_type": "code",
   "execution_count": 1209,
   "id": "527aa1e8-3f88-4d6b-871c-f765feb69eaa",
   "metadata": {},
   "outputs": [
    {
     "data": {
      "text/html": [
       "<div><style>\n",
       ".dataframe > thead > tr,\n",
       ".dataframe > tbody > tr {\n",
       "  text-align: right;\n",
       "  white-space: pre-wrap;\n",
       "}\n",
       "</style>\n",
       "<small>shape: (5, 12)</small><table border=\"1\" class=\"dataframe\"><thead><tr><th>name</th><th>price</th><th>date_added</th><th>store</th><th>brand</th><th>weight</th><th>unit</th><th>fat_content</th><th>is_sliced</th><th>is_bzmj</th><th>discount</th><th>rating</th></tr><tr><td>str</td><td>f64</td><td>date</td><td>str</td><td>str</td><td>f32</td><td>str</td><td>f32</td><td>bool</td><td>bool</td><td>f32</td><td>f32</td></tr></thead><tbody><tr><td>&quot;Сыр La Paulina Чеддер твердый 48% БЗМЖ 180г&quot;</td><td>399.99</td><td>2025-03-31</td><td>&quot;Пятерочка&quot;</td><td>&quot;La Paulina Чеддер&quot;</td><td>180.0</td><td>&quot;г&quot;</td><td>48.0</td><td>null</td><td>true</td><td>10.0</td><td>4.81</td></tr><tr><td>&quot;Сыр Gruyere твердый 49% БЗМЖ&quot;</td><td>329.9</td><td>2025-03-31</td><td>&quot;Пятерочка&quot;</td><td>&quot;Gruyere&quot;</td><td>1.0</td><td>&quot;кг&quot;</td><td>49.0</td><td>null</td><td>true</td><td>null</td><td>4.79</td></tr><tr><td>&quot;Сыр Kesidis Халлуми Традиционный для гриля рассольный 40% БЗМЖ 200г&quot;</td><td>169.99</td><td>2025-03-31</td><td>&quot;Пятерочка&quot;</td><td>&quot;Kesidis Халлуми Традиционный&quot;</td><td>200.0</td><td>&quot;г&quot;</td><td>40.0</td><td>null</td><td>true</td><td>null</td><td>4.94</td></tr><tr><td>&quot;Сыр Laplandia Emmental полутвердый 45% БЗМЖ 120г&quot;</td><td>197.99</td><td>2025-03-31</td><td>&quot;Пятерочка&quot;</td><td>&quot;Laplandia Emmental&quot;</td><td>120.0</td><td>&quot;г&quot;</td><td>45.0</td><td>null</td><td>true</td><td>23.0</td><td>4.86</td></tr><tr><td>&quot;Сыр Верещагин Верещагинский Зеленый полутвердый 50% БЗМЖ&quot;</td><td>1299.0</td><td>2025-03-31</td><td>&quot;Пятерочка&quot;</td><td>&quot;Верещагин Верещагинский Зеленый&quot;</td><td>1.0</td><td>&quot;кг&quot;</td><td>50.0</td><td>null</td><td>true</td><td>null</td><td>null</td></tr></tbody></table></div>"
      ],
      "text/plain": [
       "shape: (5, 12)\n",
       "┌──────────────────────────────────────┬────────┬────────────┬───────────┬───┬───────────┬─────────┬──────────┬────────┐\n",
       "│ name                                 ┆ price  ┆ date_added ┆ store     ┆ … ┆ is_sliced ┆ is_bzmj ┆ discount ┆ rating │\n",
       "│ ---                                  ┆ ---    ┆ ---        ┆ ---       ┆   ┆ ---       ┆ ---     ┆ ---      ┆ ---    │\n",
       "│ str                                  ┆ f64    ┆ date       ┆ str       ┆   ┆ bool      ┆ bool    ┆ f32      ┆ f32    │\n",
       "╞══════════════════════════════════════╪════════╪════════════╪═══════════╪═══╪═══════════╪═════════╪══════════╪════════╡\n",
       "│ Сыр La Paulina Чеддер твердый 48%    ┆ 399.99 ┆ 2025-03-31 ┆ Пятерочка ┆ … ┆ null      ┆ true    ┆ 10.0     ┆ 4.81   │\n",
       "│ БЗМЖ 180г                            ┆        ┆            ┆           ┆   ┆           ┆         ┆          ┆        │\n",
       "│ Сыр Gruyere твердый 49% БЗМЖ         ┆ 329.9  ┆ 2025-03-31 ┆ Пятерочка ┆ … ┆ null      ┆ true    ┆ null     ┆ 4.79   │\n",
       "│ Сыр Kesidis Халлуми Традиционный для ┆ 169.99 ┆ 2025-03-31 ┆ Пятерочка ┆ … ┆ null      ┆ true    ┆ null     ┆ 4.94   │\n",
       "│ гриля рассольный 40% БЗМЖ 200г       ┆        ┆            ┆           ┆   ┆           ┆         ┆          ┆        │\n",
       "│ Сыр Laplandia Emmental полутвердый   ┆ 197.99 ┆ 2025-03-31 ┆ Пятерочка ┆ … ┆ null      ┆ true    ┆ 23.0     ┆ 4.86   │\n",
       "│ 45% БЗМЖ 120г                        ┆        ┆            ┆           ┆   ┆           ┆         ┆          ┆        │\n",
       "│ Сыр Верещагин Верещагинский Зеленый  ┆ 1299.0 ┆ 2025-03-31 ┆ Пятерочка ┆ … ┆ null      ┆ true    ┆ null     ┆ null   │\n",
       "│ полутвердый 50% БЗМЖ                 ┆        ┆            ┆           ┆   ┆           ┆         ┆          ┆        │\n",
       "└──────────────────────────────────────┴────────┴────────────┴───────────┴───┴───────────┴─────────┴──────────┴────────┘"
      ]
     },
     "execution_count": 1209,
     "metadata": {},
     "output_type": "execute_result"
    }
   ],
   "source": [
    "results = (\n",
    "    session.query(Product)\n",
    "    .filter(Product.store == 'Пятерочка')\n",
    "    .order_by(Product.date_added.asc())\n",
    "    .all()\n",
    ")\n",
    "\n",
    "data_5ka = [{\n",
    "    \"name\": product.name,\n",
    "    \"price\": product.price,\n",
    "    \"date_added\": product.date_added,\n",
    "    \"store\": product.store,\n",
    "    \"brand\": product.brand,\n",
    "    \"weight\": product.weight,\n",
    "    \"unit\": product.unit,\n",
    "    \"fat_content\": product.fat_content,\n",
    "    \"is_sliced\": product.is_sliced,\n",
    "    \"is_bzmj\": product.is_bzmj,\n",
    "    \"discount\": product.discount,\n",
    "    \"rating\": product.rating\n",
    "} for product in results]\n",
    "\n",
    "\n",
    "df_5ka = pl.DataFrame(data_5ka, schema=load_schema)\n",
    "pl.Config.set_fmt_str_lengths(100)\n",
    "df_5ka.tail()"
   ]
  },
  {
   "cell_type": "markdown",
   "id": "21bae09c-95ae-4745-8d81-13d52c79e7bd",
   "metadata": {},
   "source": [
    "## Сохранение данных Магнита в БД"
   ]
  },
  {
   "cell_type": "code",
   "execution_count": 1211,
   "id": "a1e67178-e562-4cd3-88d9-8609941e98cd",
   "metadata": {},
   "outputs": [
    {
     "name": "stdout",
     "output_type": "stream",
     "text": [
      "79 строк из Магнит_products.csv обработаны и записаны в базу данных\n"
     ]
    }
   ],
   "source": [
    "process_csv_to_db(\"Магнит_products.csv\", session)"
   ]
  },
  {
   "cell_type": "code",
   "execution_count": 1213,
   "id": "b782e91f-48e0-4e0b-a744-65d55580ca54",
   "metadata": {
    "scrolled": true
   },
   "outputs": [
    {
     "data": {
      "text/html": [
       "<div><style>\n",
       ".dataframe > thead > tr,\n",
       ".dataframe > tbody > tr {\n",
       "  text-align: right;\n",
       "  white-space: pre-wrap;\n",
       "}\n",
       "</style>\n",
       "<small>shape: (3, 12)</small><table border=\"1\" class=\"dataframe\"><thead><tr><th>name</th><th>price</th><th>date_added</th><th>store</th><th>brand</th><th>weight</th><th>unit</th><th>fat_content</th><th>is_sliced</th><th>is_bzmj</th><th>discount</th><th>rating</th></tr><tr><td>str</td><td>f64</td><td>date</td><td>str</td><td>str</td><td>f32</td><td>str</td><td>f32</td><td>bool</td><td>bool</td><td>f32</td><td>f32</td></tr></thead><tbody><tr><td>&quot;Сыр плавленый Карат Шоколадный 30% 230г&quot;</td><td>159.99</td><td>2025-03-31</td><td>&quot;Магнит&quot;</td><td>&quot;Карат Шоколадный&quot;</td><td>230.0</td><td>&quot;г&quot;</td><td>30.0</td><td>null</td><td>null</td><td>15.0</td><td>4.8</td></tr><tr><td>&quot;Сыр Rokler пастообразный сливочный 45% 370г&quot;</td><td>239.99</td><td>2025-03-31</td><td>&quot;Магнит&quot;</td><td>&quot;Rokler&quot;</td><td>370.0</td><td>&quot;г&quot;</td><td>45.0</td><td>null</td><td>null</td><td>29.0</td><td>5.0</td></tr><tr><td>&quot;Сыр Варвара-Краса Сметанковый 50% 160г&quot;</td><td>144.99</td><td>2025-03-31</td><td>&quot;Магнит&quot;</td><td>&quot;Варвара-Краса Сметанковый&quot;</td><td>160.0</td><td>&quot;г&quot;</td><td>50.0</td><td>null</td><td>null</td><td>23.0</td><td>4.7</td></tr></tbody></table></div>"
      ],
      "text/plain": [
       "shape: (3, 12)\n",
       "┌─────────────────────────────────────────┬────────┬────────────┬────────┬───┬───────────┬─────────┬──────────┬────────┐\n",
       "│ name                                    ┆ price  ┆ date_added ┆ store  ┆ … ┆ is_sliced ┆ is_bzmj ┆ discount ┆ rating │\n",
       "│ ---                                     ┆ ---    ┆ ---        ┆ ---    ┆   ┆ ---       ┆ ---     ┆ ---      ┆ ---    │\n",
       "│ str                                     ┆ f64    ┆ date       ┆ str    ┆   ┆ bool      ┆ bool    ┆ f32      ┆ f32    │\n",
       "╞═════════════════════════════════════════╪════════╪════════════╪════════╪═══╪═══════════╪═════════╪══════════╪════════╡\n",
       "│ Сыр плавленый Карат Шоколадный 30% 230г ┆ 159.99 ┆ 2025-03-31 ┆ Магнит ┆ … ┆ null      ┆ null    ┆ 15.0     ┆ 4.8    │\n",
       "│ Сыр Rokler пастообразный сливочный 45%  ┆ 239.99 ┆ 2025-03-31 ┆ Магнит ┆ … ┆ null      ┆ null    ┆ 29.0     ┆ 5.0    │\n",
       "│ 370г                                    ┆        ┆            ┆        ┆   ┆           ┆         ┆          ┆        │\n",
       "│ Сыр Варвара-Краса Сметанковый 50% 160г  ┆ 144.99 ┆ 2025-03-31 ┆ Магнит ┆ … ┆ null      ┆ null    ┆ 23.0     ┆ 4.7    │\n",
       "└─────────────────────────────────────────┴────────┴────────────┴────────┴───┴───────────┴─────────┴──────────┴────────┘"
      ]
     },
     "execution_count": 1213,
     "metadata": {},
     "output_type": "execute_result"
    }
   ],
   "source": [
    "results = (\n",
    "    session\n",
    "    .query(Product)\n",
    "    .filter(Product.store == 'Магнит')\n",
    "    .order_by(Product.date_added.asc())\n",
    "    .all()\n",
    ")\n",
    "\n",
    "data_magnit = [{\n",
    "    \"name\": product.name,\n",
    "    \"price\": product.price,\n",
    "    \"date_added\": product.date_added,\n",
    "    \"store\": product.store,\n",
    "    \"brand\": product.brand,\n",
    "    \"weight\": product.weight,\n",
    "    \"unit\": product.unit,\n",
    "    \"fat_content\": product.fat_content,\n",
    "    \"is_sliced\": product.is_sliced,\n",
    "    \"is_bzmj\": product.is_bzmj,\n",
    "    \"discount\": product.discount,\n",
    "    \"rating\": product.rating\n",
    "} for product in results]\n",
    "\n",
    "# df_magnit = pd.DataFrame(data_magnit)\n",
    "df_magnit = pl.DataFrame(data_magnit, schema=load_schema)\n",
    "\n",
    "df_magnit.tail(3)"
   ]
  },
  {
   "cell_type": "markdown",
   "id": "ba8253d5-989b-43b5-a861-a292e36a8149",
   "metadata": {},
   "source": [
    "## Получение всех данных"
   ]
  },
  {
   "cell_type": "code",
   "execution_count": 1216,
   "id": "30c311b2-76a3-4439-b125-1f1848eb9ce6",
   "metadata": {},
   "outputs": [
    {
     "data": {
      "text/html": [
       "<div><style>\n",
       ".dataframe > thead > tr,\n",
       ".dataframe > tbody > tr {\n",
       "  text-align: right;\n",
       "  white-space: pre-wrap;\n",
       "}\n",
       "</style>\n",
       "<small>shape: (5, 12)</small><table border=\"1\" class=\"dataframe\"><thead><tr><th>name</th><th>price</th><th>date_added</th><th>store</th><th>brand</th><th>weight</th><th>unit</th><th>fat_content</th><th>is_sliced</th><th>is_bzmj</th><th>discount</th><th>rating</th></tr><tr><td>str</td><td>f64</td><td>date</td><td>str</td><td>str</td><td>f32</td><td>str</td><td>f32</td><td>bool</td><td>bool</td><td>f32</td><td>f32</td></tr></thead><tbody><tr><td>&quot;Сыр President Камамбер мягкий с белой плесенью 45% БЗМЖ 125г&quot;</td><td>354.99</td><td>2025-03-28</td><td>&quot;Пятерочка&quot;</td><td>&quot;President Камамбер&quot;</td><td>125.0</td><td>&quot;г&quot;</td><td>45.0</td><td>null</td><td>true</td><td>null</td><td>null</td></tr><tr><td>&quot;Сыр Сыробогатов Альпийское утро плавленый 45% 400г&quot;</td><td>229.99</td><td>2025-03-29</td><td>&quot;Магнит&quot;</td><td>&quot;Сыробогатов Альпийское&quot;</td><td>400.0</td><td>&quot;г&quot;</td><td>45.0</td><td>null</td><td>null</td><td>25.0</td><td>4.7</td></tr><tr><td>&quot;Сыр Landkaas Гауда 45% весовой&quot;</td><td>230.97</td><td>2025-03-26</td><td>&quot;Магнит&quot;</td><td>&quot;Landkaas Гауда&quot;</td><td>1.0</td><td>&quot;кг&quot;</td><td>45.0</td><td>null</td><td>null</td><td>null</td><td>null</td></tr><tr><td>&quot;Сыр творожный Violette сливочный 70% БЗМЖ 180г&quot;</td><td>184.99</td><td>2025-03-26</td><td>&quot;Пятерочка&quot;</td><td>&quot;Violette&quot;</td><td>180.0</td><td>&quot;г&quot;</td><td>70.0</td><td>null</td><td>true</td><td>null</td><td>null</td></tr><tr><td>&quot;Сыр Тысяча Озер Сливочный нарезка 50% БЗМЖ 125г&quot;</td><td>144.99</td><td>2025-03-31</td><td>&quot;Пятерочка&quot;</td><td>&quot;Тысяча Озер Сливочный&quot;</td><td>125.0</td><td>&quot;г&quot;</td><td>50.0</td><td>true</td><td>true</td><td>14.0</td><td>4.9</td></tr></tbody></table></div>"
      ],
      "text/plain": [
       "shape: (5, 12)\n",
       "┌──────────────────────────────────────┬────────┬────────────┬───────────┬───┬───────────┬─────────┬──────────┬────────┐\n",
       "│ name                                 ┆ price  ┆ date_added ┆ store     ┆ … ┆ is_sliced ┆ is_bzmj ┆ discount ┆ rating │\n",
       "│ ---                                  ┆ ---    ┆ ---        ┆ ---       ┆   ┆ ---       ┆ ---     ┆ ---      ┆ ---    │\n",
       "│ str                                  ┆ f64    ┆ date       ┆ str       ┆   ┆ bool      ┆ bool    ┆ f32      ┆ f32    │\n",
       "╞══════════════════════════════════════╪════════╪════════════╪═══════════╪═══╪═══════════╪═════════╪══════════╪════════╡\n",
       "│ Сыр President Камамбер мягкий с      ┆ 354.99 ┆ 2025-03-28 ┆ Пятерочка ┆ … ┆ null      ┆ true    ┆ null     ┆ null   │\n",
       "│ белой плесенью 45% БЗМЖ 125г         ┆        ┆            ┆           ┆   ┆           ┆         ┆          ┆        │\n",
       "│ Сыр Сыробогатов Альпийское утро      ┆ 229.99 ┆ 2025-03-29 ┆ Магнит    ┆ … ┆ null      ┆ null    ┆ 25.0     ┆ 4.7    │\n",
       "│ плавленый 45% 400г                   ┆        ┆            ┆           ┆   ┆           ┆         ┆          ┆        │\n",
       "│ Сыр Landkaas Гауда 45% весовой       ┆ 230.97 ┆ 2025-03-26 ┆ Магнит    ┆ … ┆ null      ┆ null    ┆ null     ┆ null   │\n",
       "│ Сыр творожный Violette сливочный 70% ┆ 184.99 ┆ 2025-03-26 ┆ Пятерочка ┆ … ┆ null      ┆ true    ┆ null     ┆ null   │\n",
       "│ БЗМЖ 180г                            ┆        ┆            ┆           ┆   ┆           ┆         ┆          ┆        │\n",
       "│ Сыр Тысяча Озер Сливочный нарезка    ┆ 144.99 ┆ 2025-03-31 ┆ Пятерочка ┆ … ┆ true      ┆ true    ┆ 14.0     ┆ 4.9    │\n",
       "│ 50% БЗМЖ 125г                        ┆        ┆            ┆           ┆   ┆           ┆         ┆          ┆        │\n",
       "└──────────────────────────────────────┴────────┴────────────┴───────────┴───┴───────────┴─────────┴──────────┴────────┘"
      ]
     },
     "execution_count": 1216,
     "metadata": {},
     "output_type": "execute_result"
    }
   ],
   "source": [
    "results = (\n",
    "    session\n",
    "    .query(Product)\n",
    "    .order_by(Product.date_added.asc())\n",
    "    .all()\n",
    ")\n",
    "\n",
    "data = [{\n",
    "    \"name\": product.name,\n",
    "    \"price\": product.price,\n",
    "    \"date_added\": product.date_added,\n",
    "    \"store\": product.store,\n",
    "    \"brand\": product.brand,\n",
    "    \"weight\": product.weight,\n",
    "    \"unit\": product.unit,\n",
    "    \"fat_content\": product.fat_content,\n",
    "    \"is_sliced\": product.is_sliced,\n",
    "    \"is_bzmj\": product.is_bzmj,\n",
    "    \"discount\": product.discount,\n",
    "    \"rating\": product.rating\n",
    "} for product in results]\n",
    "\n",
    "# df = pd.DataFrame(data)\n",
    "df = pl.DataFrame(data, schema=load_schema)\n",
    "df.sample(5)"
   ]
  },
  {
   "cell_type": "code",
   "execution_count": 633,
   "id": "f05399fd-d73c-4cd9-9d8b-4468d4905ec9",
   "metadata": {},
   "outputs": [],
   "source": [
    "session.close()"
   ]
  },
  {
   "cell_type": "markdown",
   "id": "563a9d3b-ea35-4ec8-9cd4-e1a3a9521a42",
   "metadata": {},
   "source": [
    "## Исследование данных"
   ]
  },
  {
   "cell_type": "code",
   "execution_count": 1222,
   "id": "c53ede8c-f193-4315-9e1f-541af50a3185",
   "metadata": {},
   "outputs": [
    {
     "data": {
      "text/plain": [
       "Schema([('name', String),\n",
       "        ('price', Float64),\n",
       "        ('date_added', Date),\n",
       "        ('store', String),\n",
       "        ('brand', String),\n",
       "        ('weight', Float32),\n",
       "        ('unit', String),\n",
       "        ('fat_content', Float32),\n",
       "        ('is_sliced', Boolean),\n",
       "        ('is_bzmj', Boolean),\n",
       "        ('discount', Float32),\n",
       "        ('rating', Float32)])"
      ]
     },
     "execution_count": 1222,
     "metadata": {},
     "output_type": "execute_result"
    }
   ],
   "source": [
    "df.schema"
   ]
  },
  {
   "cell_type": "code",
   "execution_count": 1224,
   "id": "4c046756-e131-491b-8d86-320372b799dc",
   "metadata": {},
   "outputs": [
    {
     "data": {
      "text/html": [
       "<div><style>\n",
       ".dataframe > thead > tr,\n",
       ".dataframe > tbody > tr {\n",
       "  text-align: right;\n",
       "  white-space: pre-wrap;\n",
       "}\n",
       "</style>\n",
       "<small>shape: (9, 13)</small><table border=\"1\" class=\"dataframe\"><thead><tr><th>statistic</th><th>name</th><th>price</th><th>date_added</th><th>store</th><th>brand</th><th>weight</th><th>unit</th><th>fat_content</th><th>is_sliced</th><th>is_bzmj</th><th>discount</th><th>rating</th></tr><tr><td>str</td><td>str</td><td>f64</td><td>str</td><td>str</td><td>str</td><td>f64</td><td>str</td><td>f64</td><td>f64</td><td>f64</td><td>f64</td><td>f64</td></tr></thead><tbody><tr><td>&quot;count&quot;</td><td>&quot;783&quot;</td><td>783.0</td><td>&quot;783&quot;</td><td>&quot;783&quot;</td><td>&quot;783&quot;</td><td>783.0</td><td>&quot;783&quot;</td><td>755.0</td><td>89.0</td><td>452.0</td><td>222.0</td><td>371.0</td></tr><tr><td>&quot;null_count&quot;</td><td>&quot;0&quot;</td><td>0.0</td><td>&quot;0&quot;</td><td>&quot;0&quot;</td><td>&quot;0&quot;</td><td>0.0</td><td>&quot;0&quot;</td><td>28.0</td><td>694.0</td><td>331.0</td><td>561.0</td><td>412.0</td></tr><tr><td>&quot;mean&quot;</td><td>null</td><td>196.515338</td><td>&quot;2025-03-28 10:47:21.379000&quot;</td><td>null</td><td>null</td><td>170.689651</td><td>null</td><td>48.166889</td><td>1.0</td><td>1.0</td><td>19.301802</td><td>4.809057</td></tr><tr><td>&quot;std&quot;</td><td>null</td><td>98.366849</td><td>null</td><td>null</td><td>null</td><td>103.954887</td><td>null</td><td>9.597813</td><td>null</td><td>null</td><td>7.140725</td><td>0.12441</td></tr><tr><td>&quot;min&quot;</td><td>&quot;Пармезан Dolce Granto 40% БЗМЖ 200г&quot;</td><td>16.99</td><td>&quot;2025-03-26&quot;</td><td>&quot;Магнит&quot;</td><td>&quot;Almette&quot;</td><td>1.0</td><td>&quot;г&quot;</td><td>15.0</td><td>1.0</td><td>1.0</td><td>9.0</td><td>4.3</td></tr><tr><td>&quot;25%&quot;</td><td>null</td><td>129.99</td><td>&quot;2025-03-26&quot;</td><td>null</td><td>null</td><td>125.0</td><td>null</td><td>45.0</td><td>null</td><td>null</td><td>14.0</td><td>4.7</td></tr><tr><td>&quot;50%&quot;</td><td>null</td><td>179.99</td><td>&quot;2025-03-28&quot;</td><td>null</td><td>null</td><td>150.0</td><td>null</td><td>45.0</td><td>null</td><td>null</td><td>19.0</td><td>4.85</td></tr><tr><td>&quot;75%&quot;</td><td>null</td><td>239.99</td><td>&quot;2025-03-29&quot;</td><td>null</td><td>null</td><td>200.0</td><td>null</td><td>55.0</td><td>null</td><td>null</td><td>23.0</td><td>4.9</td></tr><tr><td>&quot;max&quot;</td><td>&quot;Фета Sveza нежная 45% БЗМЖ 250г&quot;</td><td>1299.0</td><td>&quot;2025-03-31&quot;</td><td>&quot;Пятерочка&quot;</td><td>&quot;Экомилк Фетика&quot;</td><td>400.0</td><td>&quot;кг&quot;</td><td>80.0</td><td>1.0</td><td>1.0</td><td>37.0</td><td>5.0</td></tr></tbody></table></div>"
      ],
      "text/plain": [
       "shape: (9, 13)\n",
       "┌────────────┬─────────────────────────┬────────────┬─────────────────┬───┬───────────┬─────────┬───────────┬──────────┐\n",
       "│ statistic  ┆ name                    ┆ price      ┆ date_added      ┆ … ┆ is_sliced ┆ is_bzmj ┆ discount  ┆ rating   │\n",
       "│ ---        ┆ ---                     ┆ ---        ┆ ---             ┆   ┆ ---       ┆ ---     ┆ ---       ┆ ---      │\n",
       "│ str        ┆ str                     ┆ f64        ┆ str             ┆   ┆ f64       ┆ f64     ┆ f64       ┆ f64      │\n",
       "╞════════════╪═════════════════════════╪════════════╪═════════════════╪═══╪═══════════╪═════════╪═══════════╪══════════╡\n",
       "│ count      ┆ 783                     ┆ 783.0      ┆ 783             ┆ … ┆ 89.0      ┆ 452.0   ┆ 222.0     ┆ 371.0    │\n",
       "│ null_count ┆ 0                       ┆ 0.0        ┆ 0               ┆ … ┆ 694.0     ┆ 331.0   ┆ 561.0     ┆ 412.0    │\n",
       "│ mean       ┆ null                    ┆ 196.515338 ┆ 2025-03-28      ┆ … ┆ 1.0       ┆ 1.0     ┆ 19.301802 ┆ 4.809057 │\n",
       "│            ┆                         ┆            ┆ 10:47:21.379000 ┆   ┆           ┆         ┆           ┆          │\n",
       "│ std        ┆ null                    ┆ 98.366849  ┆ null            ┆ … ┆ null      ┆ null    ┆ 7.140725  ┆ 0.12441  │\n",
       "│ min        ┆ Пармезан Dolce Granto   ┆ 16.99      ┆ 2025-03-26      ┆ … ┆ 1.0       ┆ 1.0     ┆ 9.0       ┆ 4.3      │\n",
       "│            ┆ 40% БЗМЖ 200г           ┆            ┆                 ┆   ┆           ┆         ┆           ┆          │\n",
       "│ 25%        ┆ null                    ┆ 129.99     ┆ 2025-03-26      ┆ … ┆ null      ┆ null    ┆ 14.0      ┆ 4.7      │\n",
       "│ 50%        ┆ null                    ┆ 179.99     ┆ 2025-03-28      ┆ … ┆ null      ┆ null    ┆ 19.0      ┆ 4.85     │\n",
       "│ 75%        ┆ null                    ┆ 239.99     ┆ 2025-03-29      ┆ … ┆ null      ┆ null    ┆ 23.0      ┆ 4.9      │\n",
       "│ max        ┆ Фета Sveza нежная 45%   ┆ 1299.0     ┆ 2025-03-31      ┆ … ┆ 1.0       ┆ 1.0     ┆ 37.0      ┆ 5.0      │\n",
       "│            ┆ БЗМЖ 250г               ┆            ┆                 ┆   ┆           ┆         ┆           ┆          │\n",
       "└────────────┴─────────────────────────┴────────────┴─────────────────┴───┴───────────┴─────────┴───────────┴──────────┘"
      ]
     },
     "execution_count": 1224,
     "metadata": {},
     "output_type": "execute_result"
    }
   ],
   "source": [
    "df.describe()"
   ]
  },
  {
   "cell_type": "markdown",
   "id": "50ab3538-0f24-44ad-940c-fa0ab34a1dca",
   "metadata": {},
   "source": [
    "## Графики распределения"
   ]
  },
  {
   "cell_type": "markdown",
   "id": "a0df2482-41b5-47d3-b036-a94cf09fd6b4",
   "metadata": {},
   "source": [
    "### Распределение цен"
   ]
  },
  {
   "cell_type": "code",
   "execution_count": 1242,
   "id": "e420ef80-3e7b-4532-86ba-92ea7f7bd2aa",
   "metadata": {},
   "outputs": [
    {
     "data": {
      "image/png": "[encoded data removed]",
      "text/plain": [
       "<Figure size 1000x600 with 1 Axes>"
      ]
     },
     "metadata": {},
     "output_type": "display_data"
    }
   ],
   "source": [
    "# Распределение цен\n",
    "plt.figure(figsize=(10, 6))\n",
    "sns.histplot(df['price'], bins=30, kde=True, color='green')\n",
    "plt.title('Распределение цен')\n",
    "plt.xlabel('Цена')\n",
    "plt.ylabel('Частота')\n",
    "plt.show()"
   ]
  },
  {
   "cell_type": "code",
   "execution_count": 1250,
   "id": "97b1eacb-5ebd-4fa2-97a3-552488b4e775",
   "metadata": {},
   "outputs": [
    {
     "data": {
      "image/png": "[encoded data removed]",
      "text/plain": [
       "<Figure size 1500x500 with 2 Axes>"
      ]
     },
     "metadata": {},
     "output_type": "display_data"
    }
   ],
   "source": [
    "# Распределение цен по магазинам\n",
    "stores = df['store'].unique()\n",
    "n_stores = len(stores)\n",
    "\n",
    "n_rows = (n_stores + 1) // 2 \n",
    "n_cols = 2\n",
    "\n",
    "fig, axes = plt.subplots(n_rows, n_cols, figsize=(15, 5 * n_rows))\n",
    "axes = axes.flatten() \n",
    "\n",
    "for i, store in enumerate(stores):\n",
    "    df_store = df.filter(pl.col('store') == store)\n",
    "    sns.histplot(df_store['price'], bins=30, kde=True, ax=axes[i], color='green')\n",
    "    axes[i].set_title(f'Распределение цен в {store}')\n",
    "    axes[i].set_xlabel('Цена')\n",
    "    axes[i].set_ylabel('Частота')\n",
    "\n",
    "for j in range(i + 1, n_rows * n_cols):\n",
    "    axes[j].axis('off')\n",
    "\n",
    "plt.tight_layout()\n",
    "plt.show()"
   ]
  },
  {
   "cell_type": "markdown",
   "id": "8fd5a2b3-37d3-4951-a222-b7d0dd8d0234",
   "metadata": {},
   "source": [
    "### Распределение рейтингов"
   ]
  },
  {
   "cell_type": "code",
   "execution_count": 1252,
   "id": "668cc6e7-fac4-4d01-849e-7696abbd3df8",
   "metadata": {},
   "outputs": [
    {
     "data": {
      "image/png": "[encoded data removed]",
      "text/plain": [
       "<Figure size 1000x600 with 1 Axes>"
      ]
     },
     "metadata": {},
     "output_type": "display_data"
    }
   ],
   "source": [
    "# Распределение рейтингов\n",
    "plt.figure(figsize=(10, 6))\n",
    "sns.histplot(df['rating'], bins=30, kde=True, color='green')\n",
    "plt.title('Распределение рейтингов')\n",
    "plt.xlabel('Рейтинг')\n",
    "plt.ylabel('Частота')\n",
    "plt.show()"
   ]
  },
  {
   "cell_type": "markdown",
   "id": "c749e9bc-369b-497b-9ba7-eb5af62b7369",
   "metadata": {},
   "source": [
    "### Распределение скидок"
   ]
  },
  {
   "cell_type": "code",
   "execution_count": 1254,
   "id": "e7326374-876e-4be7-903f-3c8081e714fa",
   "metadata": {},
   "outputs": [
    {
     "data": {
      "image/png": "[encoded data removed]",
      "text/plain": [
       "<Figure size 1000x600 with 1 Axes>"
      ]
     },
     "metadata": {},
     "output_type": "display_data"
    }
   ],
   "source": [
    "# Распределение скидок\n",
    "plt.figure(figsize=(10, 6))\n",
    "sns.histplot(df['discount'], bins=30, kde=True, color='green')\n",
    "plt.title('Распределение скидок')\n",
    "plt.xlabel('Скидка')\n",
    "plt.ylabel('Частота')\n",
    "plt.show()"
   ]
  },
  {
   "cell_type": "code",
   "execution_count": 1256,
   "id": "fd30df9d-80b7-4a8f-a183-0d5b2333400a",
   "metadata": {},
   "outputs": [
    {
     "data": {
      "image/png": "[encoded data removed]",
      "text/plain": [
       "<Figure size 1500x500 with 2 Axes>"
      ]
     },
     "metadata": {},
     "output_type": "display_data"
    }
   ],
   "source": [
    "# Распределение скидок по магазинам\n",
    "stores = df['store'].unique()\n",
    "n_stores = len(stores)\n",
    "\n",
    "n_rows = (n_stores + 1) // 2 \n",
    "n_cols = 2\n",
    "\n",
    "fig, axes = plt.subplots(n_rows, n_cols, figsize=(15, 5 * n_rows))\n",
    "axes = axes.flatten() \n",
    "\n",
    "for i, store in enumerate(stores):\n",
    "    df_store = df.filter(pl.col('store') == store)\n",
    "    sns.histplot(df_store['discount'], bins=30, kde=True, ax=axes[i], color='green')\n",
    "    axes[i].set_title(f'Распределение скидок в {store}')\n",
    "    axes[i].set_xlabel('Скидка')\n",
    "    axes[i].set_ylabel('Частота')\n",
    "\n",
    "for j in range(i + 1, n_rows * n_cols):\n",
    "    axes[j].axis('off')\n",
    "\n",
    "plt.tight_layout()\n",
    "plt.show()"
   ]
  },
  {
   "cell_type": "markdown",
   "id": "883e2e90-6e5a-4f8b-a40c-20b9436a49f2",
   "metadata": {},
   "source": [
    "### Динамика средних цен по дням"
   ]
  },
  {
   "cell_type": "code",
   "execution_count": 1258,
   "id": "4d8f520d-ee27-4a0d-887a-906a9370833e",
   "metadata": {},
   "outputs": [
    {
     "data": {
      "image/png": "[encoded data removed]",
      "text/plain": [
       "<Figure size 1200x600 with 1 Axes>"
      ]
     },
     "metadata": {},
     "output_type": "display_data"
    }
   ],
   "source": [
    "# Вычисляем среднюю цену по дням\n",
    "daily_avg_price = (\n",
    "    df\n",
    "    .to_pandas()\n",
    "    .groupby('date_added')\n",
    "    ['price'].mean()\n",
    "    .reset_index()\n",
    ")\n",
    "\n",
    "# График изменения средней цены по дням\n",
    "plt.figure(figsize=(12, 6))\n",
    "plt.ylim(150, 250)\n",
    "sns.lineplot(x='date_added', y='price', data=daily_avg_price, marker='o', color='green')\n",
    "plt.title('Динамика средней цены по дням')\n",
    "plt.xlabel('Дата')\n",
    "plt.ylabel('Средняя цена')\n",
    "plt.grid(True)\n",
    "plt.xticks(rotation=45)\n",
    "plt.show()"
   ]
  },
  {
   "cell_type": "code",
   "execution_count": 1262,
   "id": "a470d2c7-08f7-4360-b73b-babaf2ec408a",
   "metadata": {},
   "outputs": [
    {
     "data": {
      "image/png": "[encoded data removed]",
      "text/plain": [
       "<Figure size 1500x500 with 2 Axes>"
      ]
     },
     "metadata": {},
     "output_type": "display_data"
    }
   ],
   "source": [
    "# Динамика средних цен по дням по магазинам\n",
    "stores = df['store'].unique()\n",
    "n_stores = len(stores)\n",
    "\n",
    "n_rows = (n_stores + 1) // 2\n",
    "n_cols = 2\n",
    "\n",
    "fig, axes = plt.subplots(n_rows, n_cols, figsize=(15, 5 * n_rows))\n",
    "axes = axes.flatten()  \n",
    "\n",
    "for i, store in enumerate(stores):\n",
    "    df_store = df.filter(pl.col('store') == store)\n",
    "    daily_avg_price = (\n",
    "        df_store\n",
    "        .to_pandas()\n",
    "        .groupby('date_added')\n",
    "        ['price'].median()\n",
    "        .reset_index()\n",
    "    )\n",
    "    sns.lineplot(x='date_added', y='price', data=daily_avg_price, marker='o', color='green', ax=axes[i])\n",
    "    axes[i].set_title(f'Динамика средней цены по дням ({store})')\n",
    "    axes[i].set_xlabel('Дата')\n",
    "    axes[i].set_ylabel('Средняя цена')\n",
    "    axes[i].grid(True)\n",
    "    axes[i].tick_params(axis='x', rotation=45)\n",
    "\n",
    "for j in range(i + 1, n_rows * n_cols):\n",
    "    axes[j].axis('off')\n",
    "\n",
    "plt.tight_layout()\n",
    "plt.show()"
   ]
  },
  {
   "cell_type": "markdown",
   "id": "a7d9670b-f68b-48f2-85b8-3943e693d267",
   "metadata": {},
   "source": [
    "### Матрица корреляции для числовых признаков"
   ]
  },
  {
   "cell_type": "code",
   "execution_count": 1278,
   "id": "707cbca8-e9b1-4d0a-b1dc-a61a6f5a3480",
   "metadata": {},
   "outputs": [
    {
     "data": {
      "image/png": "[encoded data removed]",
      "text/plain": [
       "<Figure size 1000x800 with 2 Axes>"
      ]
     },
     "metadata": {},
     "output_type": "display_data"
    }
   ],
   "source": [
    "df_pandas = df.to_pandas()\n",
    "\n",
    "numeric_columns = df_pandas.select_dtypes(include=['number']).columns\n",
    "\n",
    "df_numeric = df_pandas[numeric_columns]\n",
    "\n",
    "correlation_matrix = df_numeric.corr()\n",
    "\n",
    "plt.figure(figsize=(10, 8))\n",
    "sns.heatmap(correlation_matrix, annot=True, fmt=\".2f\", cmap='coolwarm', vmin=-1, vmax=1)\n",
    "plt.title('Матрица корреляции')\n",
    "plt.show()\n"
   ]
  },
  {
   "cell_type": "markdown",
   "id": "c0964684-8545-4bfa-b44b-660d4453b52a",
   "metadata": {},
   "source": [
    "## Доработки"
   ]
  },
  {
   "cell_type": "markdown",
   "id": "9d4ccf1c-7154-46d3-9460-226974a042f1",
   "metadata": {},
   "source": [
    "1. Хорошей мыслью является смэтчить наименования продуктов из разных магазинов. Целиком наименования не будут совпадать из-за наличия в названиях сыров в Пятерочке дополнительной информации типа \"БЗМЖ\". Поэтому необходимо подобрать алгоритм для мэтчинга, возможно по подстроке, возможно по совпадению полей `weight`, `is_sliced`, `fat_content`. Это позволит в дальнейшем находить наиболее выгодное предложение из магазинов.\n",
    "2. Бренд может некорректно записываться. Сейчас действует правило: бренд - это идущие подряд слова в наименовании (кроме первого), начинающиеся с заглавной буквы."
   ]
  },
  {
   "cell_type": "code",
   "execution_count": 1280,
   "id": "e8520bac-86aa-4e8d-8212-2a01c72fbd28",
   "metadata": {},
   "outputs": [
    {
     "name": "stdout",
     "output_type": "stream",
     "text": [
      "True\n",
      "False\n"
     ]
    }
   ],
   "source": [
    "# Пример строк\n",
    "str1 = \"Сыр Белебеевский Классический полутвердый 45% БЗМЖ 190г\"\n",
    "str2 = \"Сыр Белебеевский 45% 190г\"\n",
    "str3 = \"Сыр Белебеевский 50% 200г\"\n",
    "\n",
    "def normalize(s):\n",
    "    return ' '.join(s.lower().split())\n",
    "\n",
    "def compare_strings(str1, str2, threshold=0.6):\n",
    "    similarity = fuzz.ratio(normalize(str1), normalize(str2)) / 100\n",
    "    return similarity >= threshold\n",
    "\n",
    "# Сравнение\n",
    "print(compare_strings(str1, str2)) \n",
    "print(compare_strings(str1, str3)) "
   ]
  },
  {
   "cell_type": "markdown",
   "id": "8cc6989e-59f9-449e-99b2-f3f266218895",
   "metadata": {},
   "source": [
    "Попробуем применить rapidfuzz.ratio для определения одинаковых товаров"
   ]
  },
  {
   "cell_type": "code",
   "execution_count": 1282,
   "id": "1832152a-2563-43fd-9a8b-a8da37b78655",
   "metadata": {},
   "outputs": [],
   "source": [
    "df_copy = df_pandas.copy()"
   ]
  },
  {
   "cell_type": "code",
   "execution_count": 1284,
   "id": "7df001a2-5941-4d89-8cd5-96cd28c368d0",
   "metadata": {},
   "outputs": [
    {
     "data": {
      "text/html": [
       "<div>\n",
       "<style scoped>\n",
       "    .dataframe tbody tr th:only-of-type {\n",
       "        vertical-align: middle;\n",
       "    }\n",
       "\n",
       "    .dataframe tbody tr th {\n",
       "        vertical-align: top;\n",
       "    }\n",
       "\n",
       "    .dataframe thead th {\n",
       "        text-align: right;\n",
       "    }\n",
       "</style>\n",
       "<table border=\"1\" class=\"dataframe\">\n",
       "  <thead>\n",
       "    <tr style=\"text-align: right;\">\n",
       "      <th></th>\n",
       "      <th>name</th>\n",
       "      <th>price</th>\n",
       "      <th>date_added</th>\n",
       "      <th>store</th>\n",
       "      <th>brand</th>\n",
       "      <th>weight</th>\n",
       "      <th>unit</th>\n",
       "      <th>fat_content</th>\n",
       "      <th>is_sliced</th>\n",
       "      <th>is_bzmj</th>\n",
       "      <th>discount</th>\n",
       "      <th>rating</th>\n",
       "      <th>name_normalized</th>\n",
       "      <th>product_id</th>\n",
       "    </tr>\n",
       "  </thead>\n",
       "  <tbody>\n",
       "    <tr>\n",
       "      <th>0</th>\n",
       "      <td>Сыр Belster Parmesan нарезка 40% БЗМЖ 135г</td>\n",
       "      <td>219.99</td>\n",
       "      <td>2025-03-26</td>\n",
       "      <td>Пятерочка</td>\n",
       "      <td>Belster Parmesan</td>\n",
       "      <td>135.0</td>\n",
       "      <td>г</td>\n",
       "      <td>40.0</td>\n",
       "      <td>True</td>\n",
       "      <td>True</td>\n",
       "      <td>NaN</td>\n",
       "      <td>NaN</td>\n",
       "      <td>сыр belster parmesan нарезка 40% бзмж 135г</td>\n",
       "      <td>1</td>\n",
       "    </tr>\n",
       "    <tr>\n",
       "      <th>1</th>\n",
       "      <td>Сыр Брест-Литовск Монастырский 45% БЗМЖ 200г</td>\n",
       "      <td>179.99</td>\n",
       "      <td>2025-03-26</td>\n",
       "      <td>Пятерочка</td>\n",
       "      <td>Брест-Литовск Монастырский</td>\n",
       "      <td>200.0</td>\n",
       "      <td>г</td>\n",
       "      <td>45.0</td>\n",
       "      <td>None</td>\n",
       "      <td>True</td>\n",
       "      <td>NaN</td>\n",
       "      <td>NaN</td>\n",
       "      <td>сыр брест-литовск монастырский 45% бзмж 200г</td>\n",
       "      <td>2</td>\n",
       "    </tr>\n",
       "    <tr>\n",
       "      <th>2</th>\n",
       "      <td>Сыр Сырцееды копченый со вкусом томата 30% БЗМ...</td>\n",
       "      <td>49.99</td>\n",
       "      <td>2025-03-26</td>\n",
       "      <td>Пятерочка</td>\n",
       "      <td>Сырцееды</td>\n",
       "      <td>23.0</td>\n",
       "      <td>г</td>\n",
       "      <td>30.0</td>\n",
       "      <td>None</td>\n",
       "      <td>True</td>\n",
       "      <td>NaN</td>\n",
       "      <td>NaN</td>\n",
       "      <td>сыр сырцееды копченый со вкусом томата 30% бзм...</td>\n",
       "      <td>3</td>\n",
       "    </tr>\n",
       "    <tr>\n",
       "      <th>3</th>\n",
       "      <td>Сыр творожный Violette сливочный 70% БЗМЖ 180г</td>\n",
       "      <td>184.99</td>\n",
       "      <td>2025-03-26</td>\n",
       "      <td>Пятерочка</td>\n",
       "      <td>Violette</td>\n",
       "      <td>180.0</td>\n",
       "      <td>г</td>\n",
       "      <td>70.0</td>\n",
       "      <td>None</td>\n",
       "      <td>True</td>\n",
       "      <td>NaN</td>\n",
       "      <td>NaN</td>\n",
       "      <td>сыр творожный violette сливочный 70% бзмж 180г</td>\n",
       "      <td>4</td>\n",
       "    </tr>\n",
       "    <tr>\n",
       "      <th>4</th>\n",
       "      <td>Сыр Свежий Ряд Чечил спагетти копченый БЗМЖ 100г</td>\n",
       "      <td>149.99</td>\n",
       "      <td>2025-03-26</td>\n",
       "      <td>Пятерочка</td>\n",
       "      <td>Свежий Ряд Чечил</td>\n",
       "      <td>100.0</td>\n",
       "      <td>г</td>\n",
       "      <td>NaN</td>\n",
       "      <td>None</td>\n",
       "      <td>True</td>\n",
       "      <td>NaN</td>\n",
       "      <td>NaN</td>\n",
       "      <td>сыр свежий ряд чечил спагетти копченый бзмж 100г</td>\n",
       "      <td>5</td>\n",
       "    </tr>\n",
       "  </tbody>\n",
       "</table>\n",
       "</div>"
      ],
      "text/plain": [
       "                                                name   price date_added  \\\n",
       "0         Сыр Belster Parmesan нарезка 40% БЗМЖ 135г  219.99 2025-03-26   \n",
       "1       Сыр Брест-Литовск Монастырский 45% БЗМЖ 200г  179.99 2025-03-26   \n",
       "2  Сыр Сырцееды копченый со вкусом томата 30% БЗМ...   49.99 2025-03-26   \n",
       "3     Сыр творожный Violette сливочный 70% БЗМЖ 180г  184.99 2025-03-26   \n",
       "4   Сыр Свежий Ряд Чечил спагетти копченый БЗМЖ 100г  149.99 2025-03-26   \n",
       "\n",
       "       store                       brand  weight unit  fat_content is_sliced  \\\n",
       "0  Пятерочка            Belster Parmesan   135.0    г         40.0      True   \n",
       "1  Пятерочка  Брест-Литовск Монастырский   200.0    г         45.0      None   \n",
       "2  Пятерочка                    Сырцееды    23.0    г         30.0      None   \n",
       "3  Пятерочка                    Violette   180.0    г         70.0      None   \n",
       "4  Пятерочка            Свежий Ряд Чечил   100.0    г          NaN      None   \n",
       "\n",
       "  is_bzmj  discount  rating  \\\n",
       "0    True       NaN     NaN   \n",
       "1    True       NaN     NaN   \n",
       "2    True       NaN     NaN   \n",
       "3    True       NaN     NaN   \n",
       "4    True       NaN     NaN   \n",
       "\n",
       "                                     name_normalized  product_id  \n",
       "0         сыр belster parmesan нарезка 40% бзмж 135г           1  \n",
       "1       сыр брест-литовск монастырский 45% бзмж 200г           2  \n",
       "2  сыр сырцееды копченый со вкусом томата 30% бзм...           3  \n",
       "3     сыр творожный violette сливочный 70% бзмж 180г           4  \n",
       "4   сыр свежий ряд чечил спагетти копченый бзмж 100г           5  "
      ]
     },
     "execution_count": 1284,
     "metadata": {},
     "output_type": "execute_result"
    }
   ],
   "source": [
    "df_copy['name_normalized'] = df_copy['name'].str.lower()\n",
    "\n",
    "# Функция для сравнения строк с использованием rapidfuzz\n",
    "def is_similar(str1, str2, threshold=60):\n",
    "    return fuzz.ratio(str1, str2) >= threshold\n",
    "\n",
    "# Группировка товаров по схожести наименований, fat_content и weight\n",
    "def group_similar_products(df, threshold=80):\n",
    "    groups = []  # Список для хранения групп\n",
    "    group_ids = {}  # Словарь для хранения id групп\n",
    "    next_id = 1  # Счетчик для уникальных id\n",
    "\n",
    "    for i, row in df.iterrows():\n",
    "        matched_group = None\n",
    "        for group in groups:\n",
    "            # Проверяем совпадение fat_content и weight\n",
    "            if (row['fat_content'] == group['fat_content'] and\n",
    "                row['weight'] == group['weight'] and\n",
    "                row['brand'] == group['brand'] and\n",
    "                is_similar(row['name_normalized'], group['name_normalized'], threshold)):\n",
    "                matched_group = group\n",
    "                break\n",
    "\n",
    "        if matched_group:\n",
    "            group_ids[i] = matched_group['id']  # Присваиваем id существующей группы\n",
    "        else:\n",
    "            # Создаем новую группу\n",
    "            new_group = {\n",
    "                'id': next_id, \n",
    "                'name_normalized': row['name_normalized'],\n",
    "                'fat_content': row['fat_content'], \n",
    "                'brand': row['brand'],\n",
    "                'weight': row['weight']\n",
    "            }\n",
    "            groups.append(new_group)\n",
    "            group_ids[i] = next_id\n",
    "            next_id += 1\n",
    "\n",
    "    df['product_id'] = df.index.map(group_ids)\n",
    "    return df\n",
    "\n",
    "df_with_ids = group_similar_products(df_copy)\n",
    "df_with_ids.head()"
   ]
  },
  {
   "cell_type": "code",
   "execution_count": 809,
   "id": "962fb98c-1e07-49e2-8566-e25bc5927d67",
   "metadata": {},
   "outputs": [
    {
     "data": {
      "text/html": [
       "<div>\n",
       "<style scoped>\n",
       "    .dataframe tbody tr th:only-of-type {\n",
       "        vertical-align: middle;\n",
       "    }\n",
       "\n",
       "    .dataframe tbody tr th {\n",
       "        vertical-align: top;\n",
       "    }\n",
       "\n",
       "    .dataframe thead th {\n",
       "        text-align: right;\n",
       "    }\n",
       "</style>\n",
       "<table border=\"1\" class=\"dataframe\">\n",
       "  <thead>\n",
       "    <tr style=\"text-align: right;\">\n",
       "      <th></th>\n",
       "      <th>name</th>\n",
       "      <th>price</th>\n",
       "      <th>date_added</th>\n",
       "      <th>store</th>\n",
       "      <th>brand</th>\n",
       "      <th>weight</th>\n",
       "      <th>unit</th>\n",
       "      <th>fat_content</th>\n",
       "      <th>is_sliced</th>\n",
       "      <th>is_bzmj</th>\n",
       "      <th>discount</th>\n",
       "      <th>rating</th>\n",
       "      <th>name_normalized</th>\n",
       "      <th>product_id</th>\n",
       "    </tr>\n",
       "  </thead>\n",
       "  <tbody>\n",
       "    <tr>\n",
       "      <th>21</th>\n",
       "      <td>Сыр Viola Бутербродный полутвердый нарезка 45%...</td>\n",
       "      <td>169.99</td>\n",
       "      <td>2025-03-26</td>\n",
       "      <td>Пятерочка</td>\n",
       "      <td>Viola Бутербродный</td>\n",
       "      <td>120.0</td>\n",
       "      <td>г</td>\n",
       "      <td>45.0</td>\n",
       "      <td>True</td>\n",
       "      <td>True</td>\n",
       "      <td>NaN</td>\n",
       "      <td>NaN</td>\n",
       "      <td>сыр viola бутербродный полутвердый нарезка 45%...</td>\n",
       "      <td>21</td>\n",
       "    </tr>\n",
       "    <tr>\n",
       "      <th>48</th>\n",
       "      <td>Сыр Viola Бутербродный нарезка 45% 120г</td>\n",
       "      <td>149.99</td>\n",
       "      <td>2025-03-26</td>\n",
       "      <td>Магнит</td>\n",
       "      <td>Viola Бутербродный</td>\n",
       "      <td>120.0</td>\n",
       "      <td>г</td>\n",
       "      <td>45.0</td>\n",
       "      <td>True</td>\n",
       "      <td>None</td>\n",
       "      <td>NaN</td>\n",
       "      <td>NaN</td>\n",
       "      <td>сыр viola бутербродный нарезка 45% 120г</td>\n",
       "      <td>21</td>\n",
       "    </tr>\n",
       "    <tr>\n",
       "      <th>259</th>\n",
       "      <td>Сыр Viola Бутербродный полутвердый нарезка 45%...</td>\n",
       "      <td>157.99</td>\n",
       "      <td>2025-03-28</td>\n",
       "      <td>Пятерочка</td>\n",
       "      <td>Viola Бутербродный</td>\n",
       "      <td>120.0</td>\n",
       "      <td>г</td>\n",
       "      <td>45.0</td>\n",
       "      <td>True</td>\n",
       "      <td>True</td>\n",
       "      <td>NaN</td>\n",
       "      <td>NaN</td>\n",
       "      <td>сыр viola бутербродный полутвердый нарезка 45%...</td>\n",
       "      <td>21</td>\n",
       "    </tr>\n",
       "    <tr>\n",
       "      <th>330</th>\n",
       "      <td>Сыр Viola Бутербродный нарезка 45% 120г</td>\n",
       "      <td>149.99</td>\n",
       "      <td>2025-03-28</td>\n",
       "      <td>Магнит</td>\n",
       "      <td>Viola Бутербродный</td>\n",
       "      <td>120.0</td>\n",
       "      <td>г</td>\n",
       "      <td>45.0</td>\n",
       "      <td>True</td>\n",
       "      <td>None</td>\n",
       "      <td>NaN</td>\n",
       "      <td>NaN</td>\n",
       "      <td>сыр viola бутербродный нарезка 45% 120г</td>\n",
       "      <td>21</td>\n",
       "    </tr>\n",
       "    <tr>\n",
       "      <th>583</th>\n",
       "      <td>Сыр Viola Бутербродный полутвердый нарезка 45%...</td>\n",
       "      <td>157.99</td>\n",
       "      <td>2025-03-29</td>\n",
       "      <td>Пятерочка</td>\n",
       "      <td>Viola Бутербродный</td>\n",
       "      <td>120.0</td>\n",
       "      <td>г</td>\n",
       "      <td>45.0</td>\n",
       "      <td>True</td>\n",
       "      <td>True</td>\n",
       "      <td>16.0</td>\n",
       "      <td>4.9</td>\n",
       "      <td>сыр viola бутербродный полутвердый нарезка 45%...</td>\n",
       "      <td>21</td>\n",
       "    </tr>\n",
       "  </tbody>\n",
       "</table>\n",
       "</div>"
      ],
      "text/plain": [
       "                                                  name   price date_added  \\\n",
       "21   Сыр Viola Бутербродный полутвердый нарезка 45%...  169.99 2025-03-26   \n",
       "48             Сыр Viola Бутербродный нарезка 45% 120г  149.99 2025-03-26   \n",
       "259  Сыр Viola Бутербродный полутвердый нарезка 45%...  157.99 2025-03-28   \n",
       "330            Сыр Viola Бутербродный нарезка 45% 120г  149.99 2025-03-28   \n",
       "583  Сыр Viola Бутербродный полутвердый нарезка 45%...  157.99 2025-03-29   \n",
       "\n",
       "         store               brand  weight unit  fat_content is_sliced  \\\n",
       "21   Пятерочка  Viola Бутербродный   120.0    г         45.0      True   \n",
       "48      Магнит  Viola Бутербродный   120.0    г         45.0      True   \n",
       "259  Пятерочка  Viola Бутербродный   120.0    г         45.0      True   \n",
       "330     Магнит  Viola Бутербродный   120.0    г         45.0      True   \n",
       "583  Пятерочка  Viola Бутербродный   120.0    г         45.0      True   \n",
       "\n",
       "    is_bzmj  discount  rating  \\\n",
       "21     True       NaN     NaN   \n",
       "48     None       NaN     NaN   \n",
       "259    True       NaN     NaN   \n",
       "330    None       NaN     NaN   \n",
       "583    True      16.0     4.9   \n",
       "\n",
       "                                       name_normalized  product_id  \n",
       "21   сыр viola бутербродный полутвердый нарезка 45%...          21  \n",
       "48             сыр viola бутербродный нарезка 45% 120г          21  \n",
       "259  сыр viola бутербродный полутвердый нарезка 45%...          21  \n",
       "330            сыр viola бутербродный нарезка 45% 120г          21  \n",
       "583  сыр viola бутербродный полутвердый нарезка 45%...          21  "
      ]
     },
     "execution_count": 809,
     "metadata": {},
     "output_type": "execute_result"
    }
   ],
   "source": [
    "df_with_ids[df_with_ids['product_id']==21]"
   ]
  },
  {
   "cell_type": "code",
   "execution_count": 863,
   "id": "35c8a3e7-68e6-42e9-a9f9-0ab3d2ec68f3",
   "metadata": {},
   "outputs": [
    {
     "data": {
      "text/html": [
       "<div>\n",
       "<style scoped>\n",
       "    .dataframe tbody tr th:only-of-type {\n",
       "        vertical-align: middle;\n",
       "    }\n",
       "\n",
       "    .dataframe tbody tr th {\n",
       "        vertical-align: top;\n",
       "    }\n",
       "\n",
       "    .dataframe thead th {\n",
       "        text-align: right;\n",
       "    }\n",
       "</style>\n",
       "<table border=\"1\" class=\"dataframe\">\n",
       "  <thead>\n",
       "    <tr style=\"text-align: right;\">\n",
       "      <th></th>\n",
       "      <th>name</th>\n",
       "      <th>price</th>\n",
       "      <th>date_added</th>\n",
       "      <th>store</th>\n",
       "      <th>brand</th>\n",
       "      <th>weight</th>\n",
       "      <th>unit</th>\n",
       "      <th>fat_content</th>\n",
       "      <th>is_sliced</th>\n",
       "      <th>is_bzmj</th>\n",
       "      <th>discount</th>\n",
       "      <th>rating</th>\n",
       "      <th>name_normalized</th>\n",
       "      <th>product_id</th>\n",
       "    </tr>\n",
       "  </thead>\n",
       "  <tbody>\n",
       "    <tr>\n",
       "      <th>47</th>\n",
       "      <td>Сыр Брест-Литовск Российский 50% 200г</td>\n",
       "      <td>239.99</td>\n",
       "      <td>2025-03-26</td>\n",
       "      <td>Магнит</td>\n",
       "      <td>Брест-Литовск Российский</td>\n",
       "      <td>200.0</td>\n",
       "      <td>г</td>\n",
       "      <td>50.0</td>\n",
       "      <td>None</td>\n",
       "      <td>None</td>\n",
       "      <td>NaN</td>\n",
       "      <td>NaN</td>\n",
       "      <td>сыр брест-литовск российский 50% 200г</td>\n",
       "      <td>47</td>\n",
       "    </tr>\n",
       "    <tr>\n",
       "      <th>122</th>\n",
       "      <td>Сыр полутвердый Брест-Литовск Российский 50% Б...</td>\n",
       "      <td>175.99</td>\n",
       "      <td>2025-03-26</td>\n",
       "      <td>Пятерочка</td>\n",
       "      <td>Брест-Литовск Российский</td>\n",
       "      <td>200.0</td>\n",
       "      <td>г</td>\n",
       "      <td>50.0</td>\n",
       "      <td>None</td>\n",
       "      <td>True</td>\n",
       "      <td>NaN</td>\n",
       "      <td>NaN</td>\n",
       "      <td>сыр полутвердый брест-литовск российский 50% б...</td>\n",
       "      <td>47</td>\n",
       "    </tr>\n",
       "    <tr>\n",
       "      <th>220</th>\n",
       "      <td>Сыр полутвердый Брест-Литовск Российский 50% Б...</td>\n",
       "      <td>175.99</td>\n",
       "      <td>2025-03-28</td>\n",
       "      <td>Пятерочка</td>\n",
       "      <td>Брест-Литовск Российский</td>\n",
       "      <td>200.0</td>\n",
       "      <td>г</td>\n",
       "      <td>50.0</td>\n",
       "      <td>None</td>\n",
       "      <td>True</td>\n",
       "      <td>NaN</td>\n",
       "      <td>NaN</td>\n",
       "      <td>сыр полутвердый брест-литовск российский 50% б...</td>\n",
       "      <td>47</td>\n",
       "    </tr>\n",
       "    <tr>\n",
       "      <th>356</th>\n",
       "      <td>Сыр Брест-Литовск Российский 50% 200г</td>\n",
       "      <td>239.99</td>\n",
       "      <td>2025-03-28</td>\n",
       "      <td>Магнит</td>\n",
       "      <td>Брест-Литовск Российский</td>\n",
       "      <td>200.0</td>\n",
       "      <td>г</td>\n",
       "      <td>50.0</td>\n",
       "      <td>None</td>\n",
       "      <td>None</td>\n",
       "      <td>NaN</td>\n",
       "      <td>NaN</td>\n",
       "      <td>сыр брест-литовск российский 50% 200г</td>\n",
       "      <td>47</td>\n",
       "    </tr>\n",
       "    <tr>\n",
       "      <th>481</th>\n",
       "      <td>Сыр полутвердый Брест-Литовск Российский 50% Б...</td>\n",
       "      <td>175.99</td>\n",
       "      <td>2025-03-29</td>\n",
       "      <td>Пятерочка</td>\n",
       "      <td>Брест-Литовск Российский</td>\n",
       "      <td>200.0</td>\n",
       "      <td>г</td>\n",
       "      <td>50.0</td>\n",
       "      <td>None</td>\n",
       "      <td>True</td>\n",
       "      <td>20.0</td>\n",
       "      <td>4.92</td>\n",
       "      <td>сыр полутвердый брест-литовск российский 50% б...</td>\n",
       "      <td>47</td>\n",
       "    </tr>\n",
       "    <tr>\n",
       "      <th>529</th>\n",
       "      <td>Сыр Брест-Литовск Российский 50% 200г</td>\n",
       "      <td>239.99</td>\n",
       "      <td>2025-03-29</td>\n",
       "      <td>Магнит</td>\n",
       "      <td>Брест-Литовск Российский</td>\n",
       "      <td>200.0</td>\n",
       "      <td>г</td>\n",
       "      <td>50.0</td>\n",
       "      <td>None</td>\n",
       "      <td>None</td>\n",
       "      <td>NaN</td>\n",
       "      <td>4.70</td>\n",
       "      <td>сыр брест-литовск российский 50% 200г</td>\n",
       "      <td>47</td>\n",
       "    </tr>\n",
       "  </tbody>\n",
       "</table>\n",
       "</div>"
      ],
      "text/plain": [
       "                                                  name   price date_added  \\\n",
       "47               Сыр Брест-Литовск Российский 50% 200г  239.99 2025-03-26   \n",
       "122  Сыр полутвердый Брест-Литовск Российский 50% Б...  175.99 2025-03-26   \n",
       "220  Сыр полутвердый Брест-Литовск Российский 50% Б...  175.99 2025-03-28   \n",
       "356              Сыр Брест-Литовск Российский 50% 200г  239.99 2025-03-28   \n",
       "481  Сыр полутвердый Брест-Литовск Российский 50% Б...  175.99 2025-03-29   \n",
       "529              Сыр Брест-Литовск Российский 50% 200г  239.99 2025-03-29   \n",
       "\n",
       "         store                     brand  weight unit  fat_content is_sliced  \\\n",
       "47      Магнит  Брест-Литовск Российский   200.0    г         50.0      None   \n",
       "122  Пятерочка  Брест-Литовск Российский   200.0    г         50.0      None   \n",
       "220  Пятерочка  Брест-Литовск Российский   200.0    г         50.0      None   \n",
       "356     Магнит  Брест-Литовск Российский   200.0    г         50.0      None   \n",
       "481  Пятерочка  Брест-Литовск Российский   200.0    г         50.0      None   \n",
       "529     Магнит  Брест-Литовск Российский   200.0    г         50.0      None   \n",
       "\n",
       "    is_bzmj  discount  rating  \\\n",
       "47     None       NaN     NaN   \n",
       "122    True       NaN     NaN   \n",
       "220    True       NaN     NaN   \n",
       "356    None       NaN     NaN   \n",
       "481    True      20.0    4.92   \n",
       "529    None       NaN    4.70   \n",
       "\n",
       "                                       name_normalized  product_id  \n",
       "47               сыр брест-литовск российский 50% 200г          47  \n",
       "122  сыр полутвердый брест-литовск российский 50% б...          47  \n",
       "220  сыр полутвердый брест-литовск российский 50% б...          47  \n",
       "356              сыр брест-литовск российский 50% 200г          47  \n",
       "481  сыр полутвердый брест-литовск российский 50% б...          47  \n",
       "529              сыр брест-литовск российский 50% 200г          47  "
      ]
     },
     "execution_count": 863,
     "metadata": {},
     "output_type": "execute_result"
    }
   ],
   "source": [
    "df_with_ids[df_with_ids['product_id']==47]"
   ]
  },
  {
   "cell_type": "code",
   "execution_count": 897,
   "id": "260b24db-2753-4803-b663-6493d9a5656d",
   "metadata": {},
   "outputs": [
    {
     "data": {
      "text/html": [
       "<div>\n",
       "<style scoped>\n",
       "    .dataframe tbody tr th:only-of-type {\n",
       "        vertical-align: middle;\n",
       "    }\n",
       "\n",
       "    .dataframe tbody tr th {\n",
       "        vertical-align: top;\n",
       "    }\n",
       "\n",
       "    .dataframe thead th {\n",
       "        text-align: right;\n",
       "    }\n",
       "</style>\n",
       "<table border=\"1\" class=\"dataframe\">\n",
       "  <thead>\n",
       "    <tr style=\"text-align: right;\">\n",
       "      <th></th>\n",
       "      <th>name</th>\n",
       "      <th>price</th>\n",
       "      <th>date_added</th>\n",
       "      <th>store</th>\n",
       "      <th>brand</th>\n",
       "      <th>weight</th>\n",
       "      <th>unit</th>\n",
       "      <th>fat_content</th>\n",
       "      <th>is_sliced</th>\n",
       "      <th>is_bzmj</th>\n",
       "      <th>discount</th>\n",
       "      <th>rating</th>\n",
       "      <th>name_normalized</th>\n",
       "      <th>product_id</th>\n",
       "    </tr>\n",
       "  </thead>\n",
       "  <tbody>\n",
       "    <tr>\n",
       "      <th>66</th>\n",
       "      <td>Сыр Экомилк творожный 60% 350г</td>\n",
       "      <td>329.99</td>\n",
       "      <td>2025-03-26</td>\n",
       "      <td>Магнит</td>\n",
       "      <td>Экомилк</td>\n",
       "      <td>350.0</td>\n",
       "      <td>г</td>\n",
       "      <td>60.0</td>\n",
       "      <td>None</td>\n",
       "      <td>None</td>\n",
       "      <td>NaN</td>\n",
       "      <td>NaN</td>\n",
       "      <td>сыр экомилк творожный 60% 350г</td>\n",
       "      <td>64</td>\n",
       "    </tr>\n",
       "    <tr>\n",
       "      <th>132</th>\n",
       "      <td>Сыр Экомилк творожный 60% 350г</td>\n",
       "      <td>299.99</td>\n",
       "      <td>2025-03-26</td>\n",
       "      <td>Пятерочка</td>\n",
       "      <td>Экомилк</td>\n",
       "      <td>350.0</td>\n",
       "      <td>г</td>\n",
       "      <td>60.0</td>\n",
       "      <td>None</td>\n",
       "      <td>None</td>\n",
       "      <td>NaN</td>\n",
       "      <td>NaN</td>\n",
       "      <td>сыр экомилк творожный 60% 350г</td>\n",
       "      <td>64</td>\n",
       "    </tr>\n",
       "    <tr>\n",
       "      <th>268</th>\n",
       "      <td>Сыр Экомилк творожный 60% 350г</td>\n",
       "      <td>299.99</td>\n",
       "      <td>2025-03-28</td>\n",
       "      <td>Пятерочка</td>\n",
       "      <td>Экомилк</td>\n",
       "      <td>350.0</td>\n",
       "      <td>г</td>\n",
       "      <td>60.0</td>\n",
       "      <td>None</td>\n",
       "      <td>None</td>\n",
       "      <td>NaN</td>\n",
       "      <td>NaN</td>\n",
       "      <td>сыр экомилк творожный 60% 350г</td>\n",
       "      <td>64</td>\n",
       "    </tr>\n",
       "    <tr>\n",
       "      <th>332</th>\n",
       "      <td>Сыр Экомилк творожный 60% 350г</td>\n",
       "      <td>329.99</td>\n",
       "      <td>2025-03-28</td>\n",
       "      <td>Магнит</td>\n",
       "      <td>Экомилк</td>\n",
       "      <td>350.0</td>\n",
       "      <td>г</td>\n",
       "      <td>60.0</td>\n",
       "      <td>None</td>\n",
       "      <td>None</td>\n",
       "      <td>NaN</td>\n",
       "      <td>NaN</td>\n",
       "      <td>сыр экомилк творожный 60% 350г</td>\n",
       "      <td>64</td>\n",
       "    </tr>\n",
       "    <tr>\n",
       "      <th>500</th>\n",
       "      <td>Сыр Экомилк творожный 60% 350г</td>\n",
       "      <td>329.99</td>\n",
       "      <td>2025-03-29</td>\n",
       "      <td>Магнит</td>\n",
       "      <td>Экомилк</td>\n",
       "      <td>350.0</td>\n",
       "      <td>г</td>\n",
       "      <td>60.0</td>\n",
       "      <td>None</td>\n",
       "      <td>None</td>\n",
       "      <td>NaN</td>\n",
       "      <td>4.4</td>\n",
       "      <td>сыр экомилк творожный 60% 350г</td>\n",
       "      <td>64</td>\n",
       "    </tr>\n",
       "  </tbody>\n",
       "</table>\n",
       "</div>"
      ],
      "text/plain": [
       "                               name   price date_added      store    brand  \\\n",
       "66   Сыр Экомилк творожный 60% 350г  329.99 2025-03-26     Магнит  Экомилк   \n",
       "132  Сыр Экомилк творожный 60% 350г  299.99 2025-03-26  Пятерочка  Экомилк   \n",
       "268  Сыр Экомилк творожный 60% 350г  299.99 2025-03-28  Пятерочка  Экомилк   \n",
       "332  Сыр Экомилк творожный 60% 350г  329.99 2025-03-28     Магнит  Экомилк   \n",
       "500  Сыр Экомилк творожный 60% 350г  329.99 2025-03-29     Магнит  Экомилк   \n",
       "\n",
       "     weight unit  fat_content is_sliced is_bzmj  discount  rating  \\\n",
       "66    350.0    г         60.0      None    None       NaN     NaN   \n",
       "132   350.0    г         60.0      None    None       NaN     NaN   \n",
       "268   350.0    г         60.0      None    None       NaN     NaN   \n",
       "332   350.0    г         60.0      None    None       NaN     NaN   \n",
       "500   350.0    г         60.0      None    None       NaN     4.4   \n",
       "\n",
       "                    name_normalized  product_id  \n",
       "66   сыр экомилк творожный 60% 350г          64  \n",
       "132  сыр экомилк творожный 60% 350г          64  \n",
       "268  сыр экомилк творожный 60% 350г          64  \n",
       "332  сыр экомилк творожный 60% 350г          64  \n",
       "500  сыр экомилк творожный 60% 350г          64  "
      ]
     },
     "execution_count": 897,
     "metadata": {},
     "output_type": "execute_result"
    }
   ],
   "source": [
    "df_with_ids[df_with_ids['product_id']==64]"
   ]
  },
  {
   "cell_type": "code",
   "execution_count": 905,
   "id": "af6baa3b-5c57-49bf-b320-b44b5fde1084",
   "metadata": {},
   "outputs": [
    {
     "data": {
      "text/html": [
       "<div>\n",
       "<style scoped>\n",
       "    .dataframe tbody tr th:only-of-type {\n",
       "        vertical-align: middle;\n",
       "    }\n",
       "\n",
       "    .dataframe tbody tr th {\n",
       "        vertical-align: top;\n",
       "    }\n",
       "\n",
       "    .dataframe thead th {\n",
       "        text-align: right;\n",
       "    }\n",
       "</style>\n",
       "<table border=\"1\" class=\"dataframe\">\n",
       "  <thead>\n",
       "    <tr style=\"text-align: right;\">\n",
       "      <th></th>\n",
       "      <th>name</th>\n",
       "      <th>price</th>\n",
       "      <th>date_added</th>\n",
       "      <th>store</th>\n",
       "      <th>brand</th>\n",
       "      <th>weight</th>\n",
       "      <th>unit</th>\n",
       "      <th>fat_content</th>\n",
       "      <th>is_sliced</th>\n",
       "      <th>is_bzmj</th>\n",
       "      <th>discount</th>\n",
       "      <th>rating</th>\n",
       "      <th>name_normalized</th>\n",
       "      <th>product_id</th>\n",
       "    </tr>\n",
       "  </thead>\n",
       "  <tbody>\n",
       "    <tr>\n",
       "      <th>70</th>\n",
       "      <td>Сыр Брест-Литовск Классический 45% нарезка 150г</td>\n",
       "      <td>179.99</td>\n",
       "      <td>2025-03-26</td>\n",
       "      <td>Магнит</td>\n",
       "      <td>Брест-Литовск Классический</td>\n",
       "      <td>150.0</td>\n",
       "      <td>г</td>\n",
       "      <td>45.0</td>\n",
       "      <td>True</td>\n",
       "      <td>None</td>\n",
       "      <td>NaN</td>\n",
       "      <td>NaN</td>\n",
       "      <td>сыр брест-литовск классический 45% нарезка 150г</td>\n",
       "      <td>68</td>\n",
       "    </tr>\n",
       "    <tr>\n",
       "      <th>180</th>\n",
       "      <td>Сыр Брест-Литовск Классический нарезка 45% БЗМ...</td>\n",
       "      <td>169.99</td>\n",
       "      <td>2025-03-26</td>\n",
       "      <td>Пятерочка</td>\n",
       "      <td>Брест-Литовск Классический</td>\n",
       "      <td>150.0</td>\n",
       "      <td>г</td>\n",
       "      <td>45.0</td>\n",
       "      <td>True</td>\n",
       "      <td>True</td>\n",
       "      <td>NaN</td>\n",
       "      <td>NaN</td>\n",
       "      <td>сыр брест-литовск классический нарезка 45% бзм...</td>\n",
       "      <td>68</td>\n",
       "    </tr>\n",
       "    <tr>\n",
       "      <th>314</th>\n",
       "      <td>Сыр Брест-Литовск Классический нарезка 45% БЗМ...</td>\n",
       "      <td>179.99</td>\n",
       "      <td>2025-03-28</td>\n",
       "      <td>Пятерочка</td>\n",
       "      <td>Брест-Литовск Классический</td>\n",
       "      <td>150.0</td>\n",
       "      <td>г</td>\n",
       "      <td>45.0</td>\n",
       "      <td>True</td>\n",
       "      <td>True</td>\n",
       "      <td>NaN</td>\n",
       "      <td>NaN</td>\n",
       "      <td>сыр брест-литовск классический нарезка 45% бзм...</td>\n",
       "      <td>68</td>\n",
       "    </tr>\n",
       "    <tr>\n",
       "      <th>369</th>\n",
       "      <td>Сыр Брест-Литовск Классический 45% нарезка 150г</td>\n",
       "      <td>179.99</td>\n",
       "      <td>2025-03-28</td>\n",
       "      <td>Магнит</td>\n",
       "      <td>Брест-Литовск Классический</td>\n",
       "      <td>150.0</td>\n",
       "      <td>г</td>\n",
       "      <td>45.0</td>\n",
       "      <td>True</td>\n",
       "      <td>None</td>\n",
       "      <td>NaN</td>\n",
       "      <td>NaN</td>\n",
       "      <td>сыр брест-литовск классический 45% нарезка 150г</td>\n",
       "      <td>68</td>\n",
       "    </tr>\n",
       "    <tr>\n",
       "      <th>491</th>\n",
       "      <td>Сыр Брест-Литовск Классический нарезка 45% БЗМ...</td>\n",
       "      <td>179.99</td>\n",
       "      <td>2025-03-29</td>\n",
       "      <td>Пятерочка</td>\n",
       "      <td>Брест-Литовск Классический</td>\n",
       "      <td>150.0</td>\n",
       "      <td>г</td>\n",
       "      <td>45.0</td>\n",
       "      <td>True</td>\n",
       "      <td>True</td>\n",
       "      <td>10.0</td>\n",
       "      <td>4.92</td>\n",
       "      <td>сыр брест-литовск классический нарезка 45% бзм...</td>\n",
       "      <td>68</td>\n",
       "    </tr>\n",
       "    <tr>\n",
       "      <th>557</th>\n",
       "      <td>Сыр Брест-Литовск Классический 45% нарезка 150г</td>\n",
       "      <td>179.99</td>\n",
       "      <td>2025-03-29</td>\n",
       "      <td>Магнит</td>\n",
       "      <td>Брест-Литовск Классический</td>\n",
       "      <td>150.0</td>\n",
       "      <td>г</td>\n",
       "      <td>45.0</td>\n",
       "      <td>True</td>\n",
       "      <td>None</td>\n",
       "      <td>18.0</td>\n",
       "      <td>4.70</td>\n",
       "      <td>сыр брест-литовск классический 45% нарезка 150г</td>\n",
       "      <td>68</td>\n",
       "    </tr>\n",
       "  </tbody>\n",
       "</table>\n",
       "</div>"
      ],
      "text/plain": [
       "                                                  name   price date_added  \\\n",
       "70     Сыр Брест-Литовск Классический 45% нарезка 150г  179.99 2025-03-26   \n",
       "180  Сыр Брест-Литовск Классический нарезка 45% БЗМ...  169.99 2025-03-26   \n",
       "314  Сыр Брест-Литовск Классический нарезка 45% БЗМ...  179.99 2025-03-28   \n",
       "369    Сыр Брест-Литовск Классический 45% нарезка 150г  179.99 2025-03-28   \n",
       "491  Сыр Брест-Литовск Классический нарезка 45% БЗМ...  179.99 2025-03-29   \n",
       "557    Сыр Брест-Литовск Классический 45% нарезка 150г  179.99 2025-03-29   \n",
       "\n",
       "         store                       brand  weight unit  fat_content  \\\n",
       "70      Магнит  Брест-Литовск Классический   150.0    г         45.0   \n",
       "180  Пятерочка  Брест-Литовск Классический   150.0    г         45.0   \n",
       "314  Пятерочка  Брест-Литовск Классический   150.0    г         45.0   \n",
       "369     Магнит  Брест-Литовск Классический   150.0    г         45.0   \n",
       "491  Пятерочка  Брест-Литовск Классический   150.0    г         45.0   \n",
       "557     Магнит  Брест-Литовск Классический   150.0    г         45.0   \n",
       "\n",
       "    is_sliced is_bzmj  discount  rating  \\\n",
       "70       True    None       NaN     NaN   \n",
       "180      True    True       NaN     NaN   \n",
       "314      True    True       NaN     NaN   \n",
       "369      True    None       NaN     NaN   \n",
       "491      True    True      10.0    4.92   \n",
       "557      True    None      18.0    4.70   \n",
       "\n",
       "                                       name_normalized  product_id  \n",
       "70     сыр брест-литовск классический 45% нарезка 150г          68  \n",
       "180  сыр брест-литовск классический нарезка 45% бзм...          68  \n",
       "314  сыр брест-литовск классический нарезка 45% бзм...          68  \n",
       "369    сыр брест-литовск классический 45% нарезка 150г          68  \n",
       "491  сыр брест-литовск классический нарезка 45% бзм...          68  \n",
       "557    сыр брест-литовск классический 45% нарезка 150г          68  "
      ]
     },
     "execution_count": 905,
     "metadata": {},
     "output_type": "execute_result"
    }
   ],
   "source": [
    "df_with_ids[df_with_ids['product_id']==68]"
   ]
  },
  {
   "cell_type": "markdown",
   "id": "f31cdcc6-b39b-49fd-b8af-58aae6d2b201",
   "metadata": {},
   "source": [
    "Пример смэтченного. На деле их больше должно быть."
   ]
  },
  {
   "cell_type": "markdown",
   "id": "b336446b-da39-41f2-bb55-00f86889850f",
   "metadata": {},
   "source": [
    "## Идея для разметки"
   ]
  },
  {
   "cell_type": "markdown",
   "id": "4ec70d5c-f8f5-437f-ac92-add8380a2166",
   "metadata": {},
   "source": [
    "Можно попробовать реализовать **экспертную разметку брендов**. Это может быть впоследствии использовано для улучшения качества мэтчинга, потому что оценка смэтченных продуктов показала, что имеет место несовпадение между магазинами заполненного бренда.\n",
    "Напомню, бренд заполняется как последовательность идущих подряд слов (кроме первого), начинающихся с заглавной буквы. \n",
    "\n",
    "Пример одинакового продукта, по-разному записанный в магазинах: \n",
    "1) \"Сыр Белебеевский Российский 40% БЗМЖ 200г\" - Бренд: Белебеевский Российский\n",
    "2) \"Сыр Белебеевский 40% 200г\" - Бренд: Белебеевский\n",
    "\n",
    "Корректный вариант бренда в примере - Белебеевский. Ввиду различий в наименовании одинаковый продукт между магазинами не мэтчится."
   ]
  }
 ],
 "metadata": {
  "kernelspec": {
   "display_name": "Python 3 (ipykernel)",
   "language": "python",
   "name": "python3"
  },
  "language_info": {
   "codemirror_mode": {
    "name": "ipython",
    "version": 3
   },
   "file_extension": ".py",
   "mimetype": "text/x-python",
   "name": "python",
   "nbconvert_exporter": "python",
   "pygments_lexer": "ipython3",
   "version": "3.12.4"
  }
 },
 "nbformat": 4,
 "nbformat_minor": 5
}
